{
 "cells": [
  {
   "cell_type": "code",
   "execution_count": null,
   "id": "b73ca575-e7ba-47a5-b317-4e8f725c030c",
   "metadata": {},
   "outputs": [],
   "source": [
    "#install pycaret\n",
    "#pip install pycaret"
   ]
  },
  {
   "cell_type": "code",
   "execution_count": 1,
   "id": "206e7352-0215-4820-a353-b8eaf7fb27b0",
   "metadata": {},
   "outputs": [
    {
     "data": {
      "text/plain": [
       "'2.3.10'"
      ]
     },
     "execution_count": 1,
     "metadata": {},
     "output_type": "execute_result"
    }
   ],
   "source": [
    "from pycaret.utils import version\n",
    "version()"
   ]
  },
  {
   "cell_type": "code",
   "execution_count": 2,
   "id": "88f2b2aa-6994-4518-82a1-99e4999719e8",
   "metadata": {},
   "outputs": [],
   "source": [
    "import pandas as pd\n",
    "data = pd.read_csv(r\"C:\\Users\\Wisangg\\JupyterLab\\MOCK_DATAA.csv\")"
   ]
  },
  {
   "cell_type": "code",
   "execution_count": 3,
   "id": "16326531-a3da-4b90-8b39-c6c8162ec7b5",
   "metadata": {},
   "outputs": [
    {
     "data": {
      "text/html": [
       "<div>\n",
       "<style scoped>\n",
       "    .dataframe tbody tr th:only-of-type {\n",
       "        vertical-align: middle;\n",
       "    }\n",
       "\n",
       "    .dataframe tbody tr th {\n",
       "        vertical-align: top;\n",
       "    }\n",
       "\n",
       "    .dataframe thead th {\n",
       "        text-align: right;\n",
       "    }\n",
       "</style>\n",
       "<table border=\"1\" class=\"dataframe\">\n",
       "  <thead>\n",
       "    <tr style=\"text-align: right;\">\n",
       "      <th></th>\n",
       "      <th>tds</th>\n",
       "      <th>ec</th>\n",
       "      <th>ph</th>\n",
       "    </tr>\n",
       "  </thead>\n",
       "  <tbody>\n",
       "    <tr>\n",
       "      <th>0</th>\n",
       "      <td>812</td>\n",
       "      <td>5.6</td>\n",
       "      <td>1.5</td>\n",
       "    </tr>\n",
       "    <tr>\n",
       "      <th>1</th>\n",
       "      <td>577</td>\n",
       "      <td>5.8</td>\n",
       "      <td>1.4</td>\n",
       "    </tr>\n",
       "    <tr>\n",
       "      <th>2</th>\n",
       "      <td>770</td>\n",
       "      <td>5.5</td>\n",
       "      <td>1.5</td>\n",
       "    </tr>\n",
       "    <tr>\n",
       "      <th>3</th>\n",
       "      <td>764</td>\n",
       "      <td>6.0</td>\n",
       "      <td>1.6</td>\n",
       "    </tr>\n",
       "    <tr>\n",
       "      <th>4</th>\n",
       "      <td>749</td>\n",
       "      <td>5.9</td>\n",
       "      <td>1.6</td>\n",
       "    </tr>\n",
       "    <tr>\n",
       "      <th>...</th>\n",
       "      <td>...</td>\n",
       "      <td>...</td>\n",
       "      <td>...</td>\n",
       "    </tr>\n",
       "    <tr>\n",
       "      <th>995</th>\n",
       "      <td>685</td>\n",
       "      <td>5.7</td>\n",
       "      <td>1.3</td>\n",
       "    </tr>\n",
       "    <tr>\n",
       "      <th>996</th>\n",
       "      <td>732</td>\n",
       "      <td>5.9</td>\n",
       "      <td>1.4</td>\n",
       "    </tr>\n",
       "    <tr>\n",
       "      <th>997</th>\n",
       "      <td>634</td>\n",
       "      <td>5.8</td>\n",
       "      <td>1.4</td>\n",
       "    </tr>\n",
       "    <tr>\n",
       "      <th>998</th>\n",
       "      <td>786</td>\n",
       "      <td>6.0</td>\n",
       "      <td>1.3</td>\n",
       "    </tr>\n",
       "    <tr>\n",
       "      <th>999</th>\n",
       "      <td>767</td>\n",
       "      <td>5.6</td>\n",
       "      <td>1.5</td>\n",
       "    </tr>\n",
       "  </tbody>\n",
       "</table>\n",
       "<p>1000 rows × 3 columns</p>\n",
       "</div>"
      ],
      "text/plain": [
       "     tds   ec   ph\n",
       "0    812  5.6  1.5\n",
       "1    577  5.8  1.4\n",
       "2    770  5.5  1.5\n",
       "3    764  6.0  1.6\n",
       "4    749  5.9  1.6\n",
       "..   ...  ...  ...\n",
       "995  685  5.7  1.3\n",
       "996  732  5.9  1.4\n",
       "997  634  5.8  1.4\n",
       "998  786  6.0  1.3\n",
       "999  767  5.6  1.5\n",
       "\n",
       "[1000 rows x 3 columns]"
      ]
     },
     "execution_count": 3,
     "metadata": {},
     "output_type": "execute_result"
    }
   ],
   "source": [
    "data"
   ]
  },
  {
   "cell_type": "code",
   "execution_count": 4,
   "id": "9eb794cf-012e-4225-9bf2-dd198f5e28a0",
   "metadata": {},
   "outputs": [
    {
     "data": {
      "text/plain": [
       "(1000, 3)"
      ]
     },
     "execution_count": 4,
     "metadata": {},
     "output_type": "execute_result"
    }
   ],
   "source": [
    "data.shape"
   ]
  },
  {
   "cell_type": "code",
   "execution_count": 6,
   "id": "f24c6082-dc9d-41a5-a4b1-2df5df1a2c82",
   "metadata": {},
   "outputs": [
    {
     "data": {
      "text/html": [
       "<style type=\"text/css\">\n",
       "#T_c9eb3_row11_col1 {\n",
       "  background-color: lightgreen;\n",
       "}\n",
       "</style>\n",
       "<table id=\"T_c9eb3\">\n",
       "  <thead>\n",
       "    <tr>\n",
       "      <th class=\"blank level0\" >&nbsp;</th>\n",
       "      <th id=\"T_c9eb3_level0_col0\" class=\"col_heading level0 col0\" >Description</th>\n",
       "      <th id=\"T_c9eb3_level0_col1\" class=\"col_heading level0 col1\" >Value</th>\n",
       "    </tr>\n",
       "  </thead>\n",
       "  <tbody>\n",
       "    <tr>\n",
       "      <th id=\"T_c9eb3_level0_row0\" class=\"row_heading level0 row0\" >0</th>\n",
       "      <td id=\"T_c9eb3_row0_col0\" class=\"data row0 col0\" >session_id</td>\n",
       "      <td id=\"T_c9eb3_row0_col1\" class=\"data row0 col1\" >7019</td>\n",
       "    </tr>\n",
       "    <tr>\n",
       "      <th id=\"T_c9eb3_level0_row1\" class=\"row_heading level0 row1\" >1</th>\n",
       "      <td id=\"T_c9eb3_row1_col0\" class=\"data row1 col0\" >Original Data</td>\n",
       "      <td id=\"T_c9eb3_row1_col1\" class=\"data row1 col1\" >(1000, 3)</td>\n",
       "    </tr>\n",
       "    <tr>\n",
       "      <th id=\"T_c9eb3_level0_row2\" class=\"row_heading level0 row2\" >2</th>\n",
       "      <td id=\"T_c9eb3_row2_col0\" class=\"data row2 col0\" >Missing Values</td>\n",
       "      <td id=\"T_c9eb3_row2_col1\" class=\"data row2 col1\" >False</td>\n",
       "    </tr>\n",
       "    <tr>\n",
       "      <th id=\"T_c9eb3_level0_row3\" class=\"row_heading level0 row3\" >3</th>\n",
       "      <td id=\"T_c9eb3_row3_col0\" class=\"data row3 col0\" >Numeric Features</td>\n",
       "      <td id=\"T_c9eb3_row3_col1\" class=\"data row3 col1\" >3</td>\n",
       "    </tr>\n",
       "    <tr>\n",
       "      <th id=\"T_c9eb3_level0_row4\" class=\"row_heading level0 row4\" >4</th>\n",
       "      <td id=\"T_c9eb3_row4_col0\" class=\"data row4 col0\" >Categorical Features</td>\n",
       "      <td id=\"T_c9eb3_row4_col1\" class=\"data row4 col1\" >0</td>\n",
       "    </tr>\n",
       "    <tr>\n",
       "      <th id=\"T_c9eb3_level0_row5\" class=\"row_heading level0 row5\" >5</th>\n",
       "      <td id=\"T_c9eb3_row5_col0\" class=\"data row5 col0\" >Ordinal Features</td>\n",
       "      <td id=\"T_c9eb3_row5_col1\" class=\"data row5 col1\" >False</td>\n",
       "    </tr>\n",
       "    <tr>\n",
       "      <th id=\"T_c9eb3_level0_row6\" class=\"row_heading level0 row6\" >6</th>\n",
       "      <td id=\"T_c9eb3_row6_col0\" class=\"data row6 col0\" >High Cardinality Features</td>\n",
       "      <td id=\"T_c9eb3_row6_col1\" class=\"data row6 col1\" >False</td>\n",
       "    </tr>\n",
       "    <tr>\n",
       "      <th id=\"T_c9eb3_level0_row7\" class=\"row_heading level0 row7\" >7</th>\n",
       "      <td id=\"T_c9eb3_row7_col0\" class=\"data row7 col0\" >High Cardinality Method</td>\n",
       "      <td id=\"T_c9eb3_row7_col1\" class=\"data row7 col1\" >None</td>\n",
       "    </tr>\n",
       "    <tr>\n",
       "      <th id=\"T_c9eb3_level0_row8\" class=\"row_heading level0 row8\" >8</th>\n",
       "      <td id=\"T_c9eb3_row8_col0\" class=\"data row8 col0\" >Transformed Data</td>\n",
       "      <td id=\"T_c9eb3_row8_col1\" class=\"data row8 col1\" >(1000, 3)</td>\n",
       "    </tr>\n",
       "    <tr>\n",
       "      <th id=\"T_c9eb3_level0_row9\" class=\"row_heading level0 row9\" >9</th>\n",
       "      <td id=\"T_c9eb3_row9_col0\" class=\"data row9 col0\" >CPU Jobs</td>\n",
       "      <td id=\"T_c9eb3_row9_col1\" class=\"data row9 col1\" >-1</td>\n",
       "    </tr>\n",
       "    <tr>\n",
       "      <th id=\"T_c9eb3_level0_row10\" class=\"row_heading level0 row10\" >10</th>\n",
       "      <td id=\"T_c9eb3_row10_col0\" class=\"data row10 col0\" >Use GPU</td>\n",
       "      <td id=\"T_c9eb3_row10_col1\" class=\"data row10 col1\" >False</td>\n",
       "    </tr>\n",
       "    <tr>\n",
       "      <th id=\"T_c9eb3_level0_row11\" class=\"row_heading level0 row11\" >11</th>\n",
       "      <td id=\"T_c9eb3_row11_col0\" class=\"data row11 col0\" >Log Experiment</td>\n",
       "      <td id=\"T_c9eb3_row11_col1\" class=\"data row11 col1\" >True</td>\n",
       "    </tr>\n",
       "    <tr>\n",
       "      <th id=\"T_c9eb3_level0_row12\" class=\"row_heading level0 row12\" >12</th>\n",
       "      <td id=\"T_c9eb3_row12_col0\" class=\"data row12 col0\" >Experiment Name</td>\n",
       "      <td id=\"T_c9eb3_row12_col1\" class=\"data row12 col1\" >coba-anomaly</td>\n",
       "    </tr>\n",
       "    <tr>\n",
       "      <th id=\"T_c9eb3_level0_row13\" class=\"row_heading level0 row13\" >13</th>\n",
       "      <td id=\"T_c9eb3_row13_col0\" class=\"data row13 col0\" >USI</td>\n",
       "      <td id=\"T_c9eb3_row13_col1\" class=\"data row13 col1\" >b4d0</td>\n",
       "    </tr>\n",
       "    <tr>\n",
       "      <th id=\"T_c9eb3_level0_row14\" class=\"row_heading level0 row14\" >14</th>\n",
       "      <td id=\"T_c9eb3_row14_col0\" class=\"data row14 col0\" >Imputation Type</td>\n",
       "      <td id=\"T_c9eb3_row14_col1\" class=\"data row14 col1\" >simple</td>\n",
       "    </tr>\n",
       "    <tr>\n",
       "      <th id=\"T_c9eb3_level0_row15\" class=\"row_heading level0 row15\" >15</th>\n",
       "      <td id=\"T_c9eb3_row15_col0\" class=\"data row15 col0\" >Iterative Imputation Iteration</td>\n",
       "      <td id=\"T_c9eb3_row15_col1\" class=\"data row15 col1\" >None</td>\n",
       "    </tr>\n",
       "    <tr>\n",
       "      <th id=\"T_c9eb3_level0_row16\" class=\"row_heading level0 row16\" >16</th>\n",
       "      <td id=\"T_c9eb3_row16_col0\" class=\"data row16 col0\" >Numeric Imputer</td>\n",
       "      <td id=\"T_c9eb3_row16_col1\" class=\"data row16 col1\" >mean</td>\n",
       "    </tr>\n",
       "    <tr>\n",
       "      <th id=\"T_c9eb3_level0_row17\" class=\"row_heading level0 row17\" >17</th>\n",
       "      <td id=\"T_c9eb3_row17_col0\" class=\"data row17 col0\" >Iterative Imputation Numeric Model</td>\n",
       "      <td id=\"T_c9eb3_row17_col1\" class=\"data row17 col1\" >None</td>\n",
       "    </tr>\n",
       "    <tr>\n",
       "      <th id=\"T_c9eb3_level0_row18\" class=\"row_heading level0 row18\" >18</th>\n",
       "      <td id=\"T_c9eb3_row18_col0\" class=\"data row18 col0\" >Categorical Imputer</td>\n",
       "      <td id=\"T_c9eb3_row18_col1\" class=\"data row18 col1\" >mode</td>\n",
       "    </tr>\n",
       "    <tr>\n",
       "      <th id=\"T_c9eb3_level0_row19\" class=\"row_heading level0 row19\" >19</th>\n",
       "      <td id=\"T_c9eb3_row19_col0\" class=\"data row19 col0\" >Iterative Imputation Categorical Model</td>\n",
       "      <td id=\"T_c9eb3_row19_col1\" class=\"data row19 col1\" >None</td>\n",
       "    </tr>\n",
       "    <tr>\n",
       "      <th id=\"T_c9eb3_level0_row20\" class=\"row_heading level0 row20\" >20</th>\n",
       "      <td id=\"T_c9eb3_row20_col0\" class=\"data row20 col0\" >Unknown Categoricals Handling</td>\n",
       "      <td id=\"T_c9eb3_row20_col1\" class=\"data row20 col1\" >least_frequent</td>\n",
       "    </tr>\n",
       "    <tr>\n",
       "      <th id=\"T_c9eb3_level0_row21\" class=\"row_heading level0 row21\" >21</th>\n",
       "      <td id=\"T_c9eb3_row21_col0\" class=\"data row21 col0\" >Normalize</td>\n",
       "      <td id=\"T_c9eb3_row21_col1\" class=\"data row21 col1\" >False</td>\n",
       "    </tr>\n",
       "    <tr>\n",
       "      <th id=\"T_c9eb3_level0_row22\" class=\"row_heading level0 row22\" >22</th>\n",
       "      <td id=\"T_c9eb3_row22_col0\" class=\"data row22 col0\" >Normalize Method</td>\n",
       "      <td id=\"T_c9eb3_row22_col1\" class=\"data row22 col1\" >None</td>\n",
       "    </tr>\n",
       "    <tr>\n",
       "      <th id=\"T_c9eb3_level0_row23\" class=\"row_heading level0 row23\" >23</th>\n",
       "      <td id=\"T_c9eb3_row23_col0\" class=\"data row23 col0\" >Transformation</td>\n",
       "      <td id=\"T_c9eb3_row23_col1\" class=\"data row23 col1\" >False</td>\n",
       "    </tr>\n",
       "    <tr>\n",
       "      <th id=\"T_c9eb3_level0_row24\" class=\"row_heading level0 row24\" >24</th>\n",
       "      <td id=\"T_c9eb3_row24_col0\" class=\"data row24 col0\" >Transformation Method</td>\n",
       "      <td id=\"T_c9eb3_row24_col1\" class=\"data row24 col1\" >None</td>\n",
       "    </tr>\n",
       "    <tr>\n",
       "      <th id=\"T_c9eb3_level0_row25\" class=\"row_heading level0 row25\" >25</th>\n",
       "      <td id=\"T_c9eb3_row25_col0\" class=\"data row25 col0\" >PCA</td>\n",
       "      <td id=\"T_c9eb3_row25_col1\" class=\"data row25 col1\" >False</td>\n",
       "    </tr>\n",
       "    <tr>\n",
       "      <th id=\"T_c9eb3_level0_row26\" class=\"row_heading level0 row26\" >26</th>\n",
       "      <td id=\"T_c9eb3_row26_col0\" class=\"data row26 col0\" >PCA Method</td>\n",
       "      <td id=\"T_c9eb3_row26_col1\" class=\"data row26 col1\" >None</td>\n",
       "    </tr>\n",
       "    <tr>\n",
       "      <th id=\"T_c9eb3_level0_row27\" class=\"row_heading level0 row27\" >27</th>\n",
       "      <td id=\"T_c9eb3_row27_col0\" class=\"data row27 col0\" >PCA Components</td>\n",
       "      <td id=\"T_c9eb3_row27_col1\" class=\"data row27 col1\" >None</td>\n",
       "    </tr>\n",
       "    <tr>\n",
       "      <th id=\"T_c9eb3_level0_row28\" class=\"row_heading level0 row28\" >28</th>\n",
       "      <td id=\"T_c9eb3_row28_col0\" class=\"data row28 col0\" >Ignore Low Variance</td>\n",
       "      <td id=\"T_c9eb3_row28_col1\" class=\"data row28 col1\" >False</td>\n",
       "    </tr>\n",
       "    <tr>\n",
       "      <th id=\"T_c9eb3_level0_row29\" class=\"row_heading level0 row29\" >29</th>\n",
       "      <td id=\"T_c9eb3_row29_col0\" class=\"data row29 col0\" >Combine Rare Levels</td>\n",
       "      <td id=\"T_c9eb3_row29_col1\" class=\"data row29 col1\" >False</td>\n",
       "    </tr>\n",
       "    <tr>\n",
       "      <th id=\"T_c9eb3_level0_row30\" class=\"row_heading level0 row30\" >30</th>\n",
       "      <td id=\"T_c9eb3_row30_col0\" class=\"data row30 col0\" >Rare Level Threshold</td>\n",
       "      <td id=\"T_c9eb3_row30_col1\" class=\"data row30 col1\" >None</td>\n",
       "    </tr>\n",
       "    <tr>\n",
       "      <th id=\"T_c9eb3_level0_row31\" class=\"row_heading level0 row31\" >31</th>\n",
       "      <td id=\"T_c9eb3_row31_col0\" class=\"data row31 col0\" >Numeric Binning</td>\n",
       "      <td id=\"T_c9eb3_row31_col1\" class=\"data row31 col1\" >False</td>\n",
       "    </tr>\n",
       "    <tr>\n",
       "      <th id=\"T_c9eb3_level0_row32\" class=\"row_heading level0 row32\" >32</th>\n",
       "      <td id=\"T_c9eb3_row32_col0\" class=\"data row32 col0\" >Remove Outliers</td>\n",
       "      <td id=\"T_c9eb3_row32_col1\" class=\"data row32 col1\" >False</td>\n",
       "    </tr>\n",
       "    <tr>\n",
       "      <th id=\"T_c9eb3_level0_row33\" class=\"row_heading level0 row33\" >33</th>\n",
       "      <td id=\"T_c9eb3_row33_col0\" class=\"data row33 col0\" >Outliers Threshold</td>\n",
       "      <td id=\"T_c9eb3_row33_col1\" class=\"data row33 col1\" >None</td>\n",
       "    </tr>\n",
       "    <tr>\n",
       "      <th id=\"T_c9eb3_level0_row34\" class=\"row_heading level0 row34\" >34</th>\n",
       "      <td id=\"T_c9eb3_row34_col0\" class=\"data row34 col0\" >Remove Multicollinearity</td>\n",
       "      <td id=\"T_c9eb3_row34_col1\" class=\"data row34 col1\" >False</td>\n",
       "    </tr>\n",
       "    <tr>\n",
       "      <th id=\"T_c9eb3_level0_row35\" class=\"row_heading level0 row35\" >35</th>\n",
       "      <td id=\"T_c9eb3_row35_col0\" class=\"data row35 col0\" >Multicollinearity Threshold</td>\n",
       "      <td id=\"T_c9eb3_row35_col1\" class=\"data row35 col1\" >None</td>\n",
       "    </tr>\n",
       "    <tr>\n",
       "      <th id=\"T_c9eb3_level0_row36\" class=\"row_heading level0 row36\" >36</th>\n",
       "      <td id=\"T_c9eb3_row36_col0\" class=\"data row36 col0\" >Remove Perfect Collinearity</td>\n",
       "      <td id=\"T_c9eb3_row36_col1\" class=\"data row36 col1\" >False</td>\n",
       "    </tr>\n",
       "    <tr>\n",
       "      <th id=\"T_c9eb3_level0_row37\" class=\"row_heading level0 row37\" >37</th>\n",
       "      <td id=\"T_c9eb3_row37_col0\" class=\"data row37 col0\" >Clustering</td>\n",
       "      <td id=\"T_c9eb3_row37_col1\" class=\"data row37 col1\" >False</td>\n",
       "    </tr>\n",
       "    <tr>\n",
       "      <th id=\"T_c9eb3_level0_row38\" class=\"row_heading level0 row38\" >38</th>\n",
       "      <td id=\"T_c9eb3_row38_col0\" class=\"data row38 col0\" >Clustering Iteration</td>\n",
       "      <td id=\"T_c9eb3_row38_col1\" class=\"data row38 col1\" >None</td>\n",
       "    </tr>\n",
       "    <tr>\n",
       "      <th id=\"T_c9eb3_level0_row39\" class=\"row_heading level0 row39\" >39</th>\n",
       "      <td id=\"T_c9eb3_row39_col0\" class=\"data row39 col0\" >Polynomial Features</td>\n",
       "      <td id=\"T_c9eb3_row39_col1\" class=\"data row39 col1\" >False</td>\n",
       "    </tr>\n",
       "    <tr>\n",
       "      <th id=\"T_c9eb3_level0_row40\" class=\"row_heading level0 row40\" >40</th>\n",
       "      <td id=\"T_c9eb3_row40_col0\" class=\"data row40 col0\" >Polynomial Degree</td>\n",
       "      <td id=\"T_c9eb3_row40_col1\" class=\"data row40 col1\" >None</td>\n",
       "    </tr>\n",
       "    <tr>\n",
       "      <th id=\"T_c9eb3_level0_row41\" class=\"row_heading level0 row41\" >41</th>\n",
       "      <td id=\"T_c9eb3_row41_col0\" class=\"data row41 col0\" >Trignometry Features</td>\n",
       "      <td id=\"T_c9eb3_row41_col1\" class=\"data row41 col1\" >False</td>\n",
       "    </tr>\n",
       "    <tr>\n",
       "      <th id=\"T_c9eb3_level0_row42\" class=\"row_heading level0 row42\" >42</th>\n",
       "      <td id=\"T_c9eb3_row42_col0\" class=\"data row42 col0\" >Polynomial Threshold</td>\n",
       "      <td id=\"T_c9eb3_row42_col1\" class=\"data row42 col1\" >None</td>\n",
       "    </tr>\n",
       "    <tr>\n",
       "      <th id=\"T_c9eb3_level0_row43\" class=\"row_heading level0 row43\" >43</th>\n",
       "      <td id=\"T_c9eb3_row43_col0\" class=\"data row43 col0\" >Group Features</td>\n",
       "      <td id=\"T_c9eb3_row43_col1\" class=\"data row43 col1\" >False</td>\n",
       "    </tr>\n",
       "    <tr>\n",
       "      <th id=\"T_c9eb3_level0_row44\" class=\"row_heading level0 row44\" >44</th>\n",
       "      <td id=\"T_c9eb3_row44_col0\" class=\"data row44 col0\" >Feature Selection</td>\n",
       "      <td id=\"T_c9eb3_row44_col1\" class=\"data row44 col1\" >False</td>\n",
       "    </tr>\n",
       "    <tr>\n",
       "      <th id=\"T_c9eb3_level0_row45\" class=\"row_heading level0 row45\" >45</th>\n",
       "      <td id=\"T_c9eb3_row45_col0\" class=\"data row45 col0\" >Feature Selection Method</td>\n",
       "      <td id=\"T_c9eb3_row45_col1\" class=\"data row45 col1\" >classic</td>\n",
       "    </tr>\n",
       "    <tr>\n",
       "      <th id=\"T_c9eb3_level0_row46\" class=\"row_heading level0 row46\" >46</th>\n",
       "      <td id=\"T_c9eb3_row46_col0\" class=\"data row46 col0\" >Features Selection Threshold</td>\n",
       "      <td id=\"T_c9eb3_row46_col1\" class=\"data row46 col1\" >None</td>\n",
       "    </tr>\n",
       "    <tr>\n",
       "      <th id=\"T_c9eb3_level0_row47\" class=\"row_heading level0 row47\" >47</th>\n",
       "      <td id=\"T_c9eb3_row47_col0\" class=\"data row47 col0\" >Feature Interaction</td>\n",
       "      <td id=\"T_c9eb3_row47_col1\" class=\"data row47 col1\" >False</td>\n",
       "    </tr>\n",
       "    <tr>\n",
       "      <th id=\"T_c9eb3_level0_row48\" class=\"row_heading level0 row48\" >48</th>\n",
       "      <td id=\"T_c9eb3_row48_col0\" class=\"data row48 col0\" >Feature Ratio</td>\n",
       "      <td id=\"T_c9eb3_row48_col1\" class=\"data row48 col1\" >False</td>\n",
       "    </tr>\n",
       "    <tr>\n",
       "      <th id=\"T_c9eb3_level0_row49\" class=\"row_heading level0 row49\" >49</th>\n",
       "      <td id=\"T_c9eb3_row49_col0\" class=\"data row49 col0\" >Interaction Threshold</td>\n",
       "      <td id=\"T_c9eb3_row49_col1\" class=\"data row49 col1\" >None</td>\n",
       "    </tr>\n",
       "  </tbody>\n",
       "</table>\n"
      ],
      "text/plain": [
       "<pandas.io.formats.style.Styler at 0x223fffe34f0>"
      ]
     },
     "metadata": {},
     "output_type": "display_data"
    },
    {
     "name": "stderr",
     "output_type": "stream",
     "text": [
      "2022/05/23 12:21:22 INFO mlflow.tracking.fluent: Experiment with name 'coba-anomaly' does not exist. Creating a new experiment.\n"
     ]
    }
   ],
   "source": [
    "from pycaret.anomaly import *\n",
    "s = setup(data, log_experiment=True, experiment_name='coba-anomaly')"
   ]
  },
  {
   "cell_type": "code",
   "execution_count": 8,
   "id": "141c437e-e9f3-43e8-8551-2cdf2c5cba7e",
   "metadata": {},
   "outputs": [],
   "source": [
    "anomali = create_model('iforest', fraction=0.01)"
   ]
  },
  {
   "cell_type": "code",
   "execution_count": 9,
   "id": "04a6c5e8-6f19-42b3-adef-7ce8fadc56bc",
   "metadata": {},
   "outputs": [
    {
     "data": {
      "text/html": [
       "<div>\n",
       "<style scoped>\n",
       "    .dataframe tbody tr th:only-of-type {\n",
       "        vertical-align: middle;\n",
       "    }\n",
       "\n",
       "    .dataframe tbody tr th {\n",
       "        vertical-align: top;\n",
       "    }\n",
       "\n",
       "    .dataframe thead th {\n",
       "        text-align: right;\n",
       "    }\n",
       "</style>\n",
       "<table border=\"1\" class=\"dataframe\">\n",
       "  <thead>\n",
       "    <tr style=\"text-align: right;\">\n",
       "      <th></th>\n",
       "      <th>tds</th>\n",
       "      <th>ec</th>\n",
       "      <th>ph</th>\n",
       "      <th>Anomaly</th>\n",
       "      <th>Anomaly_Score</th>\n",
       "    </tr>\n",
       "  </thead>\n",
       "  <tbody>\n",
       "    <tr>\n",
       "      <th>0</th>\n",
       "      <td>812</td>\n",
       "      <td>5.6</td>\n",
       "      <td>1.5</td>\n",
       "      <td>0</td>\n",
       "      <td>-0.217302</td>\n",
       "    </tr>\n",
       "    <tr>\n",
       "      <th>1</th>\n",
       "      <td>577</td>\n",
       "      <td>5.8</td>\n",
       "      <td>1.4</td>\n",
       "      <td>0</td>\n",
       "      <td>-0.217666</td>\n",
       "    </tr>\n",
       "    <tr>\n",
       "      <th>2</th>\n",
       "      <td>770</td>\n",
       "      <td>5.5</td>\n",
       "      <td>1.5</td>\n",
       "      <td>0</td>\n",
       "      <td>-0.207685</td>\n",
       "    </tr>\n",
       "    <tr>\n",
       "      <th>3</th>\n",
       "      <td>764</td>\n",
       "      <td>6.0</td>\n",
       "      <td>1.6</td>\n",
       "      <td>0</td>\n",
       "      <td>-0.188394</td>\n",
       "    </tr>\n",
       "    <tr>\n",
       "      <th>4</th>\n",
       "      <td>749</td>\n",
       "      <td>5.9</td>\n",
       "      <td>1.6</td>\n",
       "      <td>0</td>\n",
       "      <td>-0.241996</td>\n",
       "    </tr>\n",
       "  </tbody>\n",
       "</table>\n",
       "</div>"
      ],
      "text/plain": [
       "   tds   ec   ph  Anomaly  Anomaly_Score\n",
       "0  812  5.6  1.5        0      -0.217302\n",
       "1  577  5.8  1.4        0      -0.217666\n",
       "2  770  5.5  1.5        0      -0.207685\n",
       "3  764  6.0  1.6        0      -0.188394\n",
       "4  749  5.9  1.6        0      -0.241996"
      ]
     },
     "execution_count": 9,
     "metadata": {},
     "output_type": "execute_result"
    }
   ],
   "source": [
    "results = assign_model(anomali)\n",
    "results.head()"
   ]
  },
  {
   "cell_type": "code",
   "execution_count": 10,
   "id": "df6503df-4307-4d2c-93c7-71dc6dbfa6a3",
   "metadata": {},
   "outputs": [
    {
     "data": {
      "text/plain": [
       "0      False\n",
       "1      False\n",
       "2      False\n",
       "3      False\n",
       "4      False\n",
       "       ...  \n",
       "995    False\n",
       "996    False\n",
       "997    False\n",
       "998    False\n",
       "999    False\n",
       "Name: Anomaly, Length: 1000, dtype: bool"
      ]
     },
     "execution_count": 10,
     "metadata": {},
     "output_type": "execute_result"
    }
   ],
   "source": [
    "results['Anomaly'] == 1"
   ]
  },
  {
   "cell_type": "code",
   "execution_count": 11,
   "id": "340a24c5-7478-49b9-b0f1-859069c21d5d",
   "metadata": {},
   "outputs": [
    {
     "data": {
      "text/plain": [
       "10"
      ]
     },
     "execution_count": 11,
     "metadata": {},
     "output_type": "execute_result"
    }
   ],
   "source": [
    "results['Anomaly'].sum()"
   ]
  },
  {
   "cell_type": "code",
   "execution_count": 12,
   "id": "e4bfc0a6-c3d1-4565-8b3b-3e32b9c30304",
   "metadata": {},
   "outputs": [
    {
     "data": {
      "text/plain": [
       "<AxesSubplot:>"
      ]
     },
     "execution_count": 12,
     "metadata": {},
     "output_type": "execute_result"
    },
    {
     "data": {
      "image/png": "[encoded data removed]",
      "text/plain": [
       "<Figure size 720x432 with 1 Axes>"
      ]
     },
     "metadata": {
      "needs_background": "light"
     },
     "output_type": "display_data"
    }
   ],
   "source": [
    "results['Anomaly_Score'].hist(bins=100,figsize=(10,6))"
   ]
  },
  {
   "cell_type": "code",
   "execution_count": 14,
   "id": "f6eba946-495c-44ef-8076-9eff2c2e2e83",
   "metadata": {},
   "outputs": [
    {
     "data": {
      "application/vnd.plotly.v1+json": {
       "config": {
        "plotlyServerURL": "https://plot.ly"
       },
       "data": [
        {
         "customdata": [
          [
           812
          ],
          [
           577
          ],
          [
           770
          ],
          [
           764
          ],
          [
           749
          ],
          [
           561
          ],
          [
           684
          ],
          [
           641
          ],
          [
           624
          ],
          [
           677
          ],
          [
           615
          ],
          [
           805
          ],
          [
           609
          ],
          [
           730
          ],
          [
           593
          ],
          [
           781
          ],
          [
           601
          ],
          [
           728
          ],
          [
           819
          ],
          [
           760
          ],
          [
           756
          ],
          [
           827
          ],
          [
           707
          ],
          [
           598
          ],
          [
           122
          ],
          [
           604
          ],
          [
           630
          ],
          [
           568
          ],
          [
           797
          ],
          [
           561
          ],
          [
           831
          ],
          [
           643
          ],
          [
           599
          ],
          [
           718
          ],
          [
           750
          ],
          [
           681
          ],
          [
           593
          ],
          [
           706
          ],
          [
           691
          ],
          [
           727
          ],
          [
           805
          ],
          [
           784
          ],
          [
           752
          ],
          [
           562
          ],
          [
           780
          ],
          [
           783
          ],
          [
           578
          ],
          [
           699
          ],
          [
           796
          ],
          [
           744
          ],
          [
           642
          ],
          [
           770
          ],
          [
           627
          ],
          [
           606
          ],
          [
           830
          ],
          [
           768
          ],
          [
           740
          ],
          [
           836
          ],
          [
           774
          ],
          [
           647
          ],
          [
           751
          ],
          [
           693
          ],
          [
           648
          ],
          [
           703
          ],
          [
           592
          ],
          [
           600
          ],
          [
           839
          ],
          [
           562
          ],
          [
           664
          ],
          [
           810
          ],
          [
           750
          ],
          [
           711
          ],
          [
           691
          ],
          [
           658
          ],
          [
           716
          ],
          [
           638
          ],
          [
           686
          ],
          [
           828
          ],
          [
           573
          ],
          [
           727
          ],
          [
           592
          ],
          [
           567
          ],
          [
           769
          ],
          [
           710
          ],
          [
           718
          ],
          [
           818
          ],
          [
           566
          ],
          [
           606
          ],
          [
           762
          ],
          [
           585
          ],
          [
           718
          ],
          [
           808
          ],
          [
           661
          ],
          [
           817
          ],
          [
           817
          ],
          [
           582
          ],
          [
           616
          ],
          [
           764
          ],
          [
           726
          ],
          [
           667
          ],
          [
           628
          ],
          [
           581
          ],
          [
           574
          ],
          [
           707
          ],
          [
           609
          ],
          [
           578
          ],
          [
           677
          ],
          [
           769
          ],
          [
           649
          ],
          [
           616
          ],
          [
           574
          ],
          [
           824
          ],
          [
           708
          ],
          [
           780
          ],
          [
           768
          ],
          [
           736
          ],
          [
           804
          ],
          [
           766
          ],
          [
           644
          ],
          [
           593
          ],
          [
           711
          ],
          [
           784
          ],
          [
           744
          ],
          [
           560
          ],
          [
           154
          ],
          [
           735
          ],
          [
           653
          ],
          [
           749
          ],
          [
           680
          ],
          [
           608
          ],
          [
           614
          ],
          [
           669
          ],
          [
           599
          ],
          [
           758
          ],
          [
           661
          ],
          [
           782
          ],
          [
           678
          ],
          [
           700
          ],
          [
           762
          ],
          [
           758
          ],
          [
           623
          ],
          [
           667
          ],
          [
           810
          ],
          [
           664
          ],
          [
           726
          ],
          [
           625
          ],
          [
           772
          ],
          [
           647
          ],
          [
           650
          ],
          [
           788
          ],
          [
           638
          ],
          [
           647
          ],
          [
           608
          ],
          [
           764
          ],
          [
           813
          ],
          [
           565
          ],
          [
           597
          ],
          [
           797
          ],
          [
           758
          ],
          [
           730
          ],
          [
           654
          ],
          [
           762
          ],
          [
           714
          ],
          [
           585
          ],
          [
           641
          ],
          [
           618
          ],
          [
           683
          ],
          [
           572
          ],
          [
           617
          ],
          [
           573
          ],
          [
           767
          ],
          [
           702
          ],
          [
           563
          ],
          [
           806
          ],
          [
           566
          ],
          [
           602
          ],
          [
           647
          ],
          [
           677
          ],
          [
           678
          ],
          [
           651
          ],
          [
           711
          ],
          [
           645
          ],
          [
           755
          ],
          [
           624
          ],
          [
           730
          ],
          [
           664
          ],
          [
           824
          ],
          [
           651
          ],
          [
           605
          ],
          [
           647
          ],
          [
           714
          ],
          [
           705
          ],
          [
           567
          ],
          [
           639
          ],
          [
           699
          ],
          [
           631
          ],
          [
           605
          ],
          [
           643
          ],
          [
           749
          ],
          [
           787
          ],
          [
           788
          ],
          [
           831
          ],
          [
           623
          ],
          [
           804
          ],
          [
           634
          ],
          [
           704
          ],
          [
           662
          ],
          [
           768
          ],
          [
           589
          ],
          [
           721
          ],
          [
           561
          ],
          [
           728
          ],
          [
           769
          ],
          [
           737
          ],
          [
           789
          ],
          [
           617
          ],
          [
           631
          ],
          [
           762
          ],
          [
           673
          ],
          [
           590
          ],
          [
           690
          ],
          [
           645
          ],
          [
           785
          ],
          [
           611
          ],
          [
           78
          ],
          [
           671
          ],
          [
           645
          ],
          [
           562
          ],
          [
           564
          ],
          [
           617
          ],
          [
           760
          ],
          [
           647
          ],
          [
           693
          ],
          [
           817
          ],
          [
           572
          ],
          [
           567
          ],
          [
           653
          ],
          [
           622
          ],
          [
           712
          ],
          [
           647
          ],
          [
           757
          ],
          [
           787
          ],
          [
           611
          ],
          [
           715
          ],
          [
           663
          ],
          [
           763
          ],
          [
           594
          ],
          [
           700
          ],
          [
           838
          ],
          [
           740
          ],
          [
           829
          ],
          [
           792
          ],
          [
           703
          ],
          [
           824
          ],
          [
           717
          ],
          [
           639
          ],
          [
           575
          ],
          [
           787
          ],
          [
           781
          ],
          [
           625
          ],
          [
           740
          ],
          [
           805
          ],
          [
           745
          ],
          [
           759
          ],
          [
           703
          ],
          [
           774
          ],
          [
           770
          ],
          [
           821
          ],
          [
           670
          ],
          [
           583
          ],
          [
           685
          ],
          [
           620
          ],
          [
           665
          ],
          [
           670
          ],
          [
           675
          ],
          [
           669
          ],
          [
           795
          ],
          [
           772
          ],
          [
           689
          ],
          [
           787
          ],
          [
           622
          ],
          [
           839
          ],
          [
           653
          ],
          [
           732
          ],
          [
           640
          ],
          [
           738
          ],
          [
           777
          ],
          [
           661
          ],
          [
           560
          ],
          [
           566
          ],
          [
           746
          ],
          [
           608
          ],
          [
           714
          ],
          [
           730
          ],
          [
           666
          ],
          [
           791
          ],
          [
           689
          ],
          [
           825
          ],
          [
           828
          ],
          [
           719
          ],
          [
           602
          ],
          [
           669
          ],
          [
           687
          ],
          [
           742
          ],
          [
           594
          ],
          [
           643
          ],
          [
           821
          ],
          [
           611
          ],
          [
           617
          ],
          [
           582
          ],
          [
           613
          ],
          [
           825
          ],
          [
           670
          ],
          [
           647
          ],
          [
           562
          ],
          [
           611
          ],
          [
           774
          ],
          [
           836
          ],
          [
           619
          ],
          [
           812
          ],
          [
           577
          ],
          [
           723
          ],
          [
           711
          ],
          [
           695
          ],
          [
           88
          ],
          [
           724
          ],
          [
           733
          ],
          [
           783
          ],
          [
           603
          ],
          [
           725
          ],
          [
           646
          ],
          [
           818
          ],
          [
           761
          ],
          [
           659
          ],
          [
           601
          ],
          [
           732
          ],
          [
           794
          ],
          [
           667
          ],
          [
           792
          ],
          [
           653
          ],
          [
           595
          ],
          [
           576
          ],
          [
           612
          ],
          [
           659
          ],
          [
           702
          ],
          [
           645
          ],
          [
           803
          ],
          [
           685
          ],
          [
           695
          ],
          [
           662
          ],
          [
           688
          ],
          [
           619
          ],
          [
           668
          ],
          [
           748
          ],
          [
           767
          ],
          [
           676
          ],
          [
           776
          ],
          [
           635
          ],
          [
           802
          ],
          [
           814
          ],
          [
           622
          ],
          [
           759
          ],
          [
           576
          ],
          [
           631
          ],
          [
           817
          ],
          [
           656
          ],
          [
           620
          ],
          [
           809
          ],
          [
           837
          ],
          [
           808
          ],
          [
           729
          ],
          [
           624
          ],
          [
           832
          ],
          [
           682
          ],
          [
           697
          ],
          [
           685
          ],
          [
           617
          ],
          [
           840
          ],
          [
           779
          ],
          [
           685
          ],
          [
           728
          ],
          [
           835
          ],
          [
           733
          ],
          [
           821
          ],
          [
           836
          ],
          [
           745
          ],
          [
           577
          ],
          [
           623
          ],
          [
           665
          ],
          [
           707
          ],
          [
           758
          ],
          [
           730
          ],
          [
           633
          ],
          [
           644
          ],
          [
           668
          ],
          [
           593
          ],
          [
           661
          ],
          [
           624
          ],
          [
           796
          ],
          [
           750
          ],
          [
           788
          ],
          [
           710
          ],
          [
           772
          ],
          [
           637
          ],
          [
           716
          ],
          [
           723
          ],
          [
           762
          ],
          [
           676
          ],
          [
           645
          ],
          [
           712
          ],
          [
           737
          ],
          [
           631
          ],
          [
           590
          ],
          [
           611
          ],
          [
           750
          ],
          [
           582
          ],
          [
           773
          ],
          [
           733
          ],
          [
           618
          ],
          [
           727
          ],
          [
           647
          ],
          [
           790
          ],
          [
           774
          ],
          [
           808
          ],
          [
           1111
          ],
          [
           620
          ],
          [
           833
          ],
          [
           699
          ],
          [
           628
          ],
          [
           613
          ],
          [
           755
          ],
          [
           590
          ],
          [
           831
          ],
          [
           712
          ],
          [
           799
          ],
          [
           705
          ],
          [
           590
          ],
          [
           586
          ],
          [
           624
          ],
          [
           809
          ],
          [
           623
          ],
          [
           827
          ],
          [
           797
          ],
          [
           747
          ],
          [
           831
          ],
          [
           716
          ],
          [
           789
          ],
          [
           649
          ],
          [
           628
          ],
          [
           745
          ],
          [
           617
          ],
          [
           738
          ],
          [
           799
          ],
          [
           800
          ],
          [
           560
          ],
          [
           740
          ],
          [
           702
          ],
          [
           769
          ],
          [
           790
          ],
          [
           571
          ],
          [
           562
          ],
          [
           758
          ],
          [
           799
          ],
          [
           796
          ],
          [
           744
          ],
          [
           716
          ],
          [
           765
          ],
          [
           799
          ],
          [
           692
          ],
          [
           820
          ],
          [
           752
          ],
          [
           577
          ],
          [
           589
          ],
          [
           654
          ],
          [
           769
          ],
          [
           742
          ],
          [
           672
          ],
          [
           835
          ],
          [
           834
          ],
          [
           772
          ],
          [
           780
          ],
          [
           773
          ],
          [
           563
          ],
          [
           689
          ],
          [
           754
          ],
          [
           627
          ],
          [
           647
          ],
          [
           676
          ],
          [
           685
          ],
          [
           578
          ],
          [
           752
          ],
          [
           663
          ],
          [
           747
          ],
          [
           789
          ],
          [
           736
          ],
          [
           632
          ],
          [
           775
          ],
          [
           684
          ],
          [
           594
          ],
          [
           744
          ],
          [
           680
          ],
          [
           704
          ],
          [
           639
          ],
          [
           695
          ],
          [
           637
          ],
          [
           763
          ],
          [
           703
          ],
          [
           659
          ],
          [
           626
          ],
          [
           602
          ],
          [
           583
          ],
          [
           779
          ],
          [
           637
          ],
          [
           589
          ],
          [
           800
          ],
          [
           834
          ],
          [
           697
          ],
          [
           779
          ],
          [
           639
          ],
          [
           612
          ],
          [
           771
          ],
          [
           804
          ],
          [
           697
          ],
          [
           781
          ],
          [
           1213
          ],
          [
           741
          ],
          [
           607
          ],
          [
           682
          ],
          [
           640
          ],
          [
           635
          ],
          [
           836
          ],
          [
           753
          ],
          [
           768
          ],
          [
           674
          ],
          [
           626
          ],
          [
           793
          ],
          [
           814
          ],
          [
           730
          ],
          [
           738
          ],
          [
           839
          ],
          [
           576
          ],
          [
           673
          ],
          [
           839
          ],
          [
           825
          ],
          [
           694
          ],
          [
           678
          ],
          [
           639
          ],
          [
           616
          ],
          [
           710
          ],
          [
           696
          ],
          [
           759
          ],
          [
           592
          ],
          [
           659
          ],
          [
           685
          ],
          [
           825
          ],
          [
           701
          ],
          [
           624
          ],
          [
           718
          ],
          [
           667
          ],
          [
           590
          ],
          [
           633
          ],
          [
           726
          ],
          [
           588
          ],
          [
           560
          ],
          [
           762
          ],
          [
           803
          ],
          [
           834
          ],
          [
           714
          ],
          [
           638
          ],
          [
           757
          ],
          [
           631
          ],
          [
           632
          ],
          [
           766
          ],
          [
           728
          ],
          [
           703
          ],
          [
           756
          ],
          [
           693
          ],
          [
           734
          ],
          [
           751
          ],
          [
           657
          ],
          [
           753
          ],
          [
           786
          ],
          [
           778
          ],
          [
           741
          ],
          [
           748
          ],
          [
           821
          ],
          [
           622
          ],
          [
           679
          ],
          [
           799
          ],
          [
           825
          ],
          [
           715
          ],
          [
           611
          ],
          [
           676
          ],
          [
           659
          ],
          [
           761
          ],
          [
           587
          ],
          [
           705
          ],
          [
           732
          ],
          [
           574
          ],
          [
           736
          ],
          [
           827
          ],
          [
           807
          ],
          [
           743
          ],
          [
           746
          ],
          [
           839
          ],
          [
           599
          ],
          [
           770
          ],
          [
           706
          ],
          [
           718
          ],
          [
           755
          ],
          [
           714
          ],
          [
           564
          ],
          [
           603
          ],
          [
           704
          ],
          [
           703
          ],
          [
           715
          ],
          [
           659
          ],
          [
           825
          ],
          [
           613
          ],
          [
           641
          ],
          [
           737
          ],
          [
           717
          ],
          [
           702
          ],
          [
           632
          ],
          [
           326
          ],
          [
           784
          ],
          [
           585
          ],
          [
           617
          ],
          [
           752
          ],
          [
           669
          ],
          [
           676
          ],
          [
           833
          ],
          [
           595
          ],
          [
           673
          ],
          [
           708
          ],
          [
           583
          ],
          [
           572
          ],
          [
           713
          ],
          [
           738
          ],
          [
           745
          ],
          [
           792
          ],
          [
           563
          ],
          [
           722
          ],
          [
           817
          ],
          [
           574
          ],
          [
           682
          ],
          [
           819
          ],
          [
           699
          ],
          [
           764
          ],
          [
           807
          ],
          [
           679
          ],
          [
           644
          ],
          [
           662
          ],
          [
           828
          ],
          [
           588
          ],
          [
           644
          ],
          [
           613
          ],
          [
           753
          ],
          [
           656
          ],
          [
           749
          ],
          [
           788
          ],
          [
           638
          ],
          [
           638
          ],
          [
           717
          ],
          [
           565
          ],
          [
           656
          ],
          [
           644
          ],
          [
           836
          ],
          [
           631
          ],
          [
           768
          ],
          [
           588
          ],
          [
           834
          ],
          [
           673
          ],
          [
           648
          ],
          [
           831
          ],
          [
           626
          ],
          [
           755
          ],
          [
           683
          ],
          [
           751
          ],
          [
           838
          ],
          [
           670
          ],
          [
           811
          ],
          [
           719
          ],
          [
           671
          ],
          [
           840
          ],
          [
           609
          ],
          [
           658
          ],
          [
           645
          ],
          [
           720
          ],
          [
           775
          ],
          [
           744
          ],
          [
           771
          ],
          [
           666
          ],
          [
           771
          ],
          [
           612
          ],
          [
           575
          ],
          [
           764
          ],
          [
           664
          ],
          [
           831
          ],
          [
           748
          ],
          [
           752
          ],
          [
           576
          ],
          [
           647
          ],
          [
           589
          ],
          [
           741
          ],
          [
           701
          ],
          [
           665
          ],
          [
           814
          ],
          [
           793
          ],
          [
           692
          ],
          [
           824
          ],
          [
           738
          ],
          [
           827
          ],
          [
           759
          ],
          [
           655
          ],
          [
           781
          ],
          [
           713
          ],
          [
           655
          ],
          [
           816
          ],
          [
           732
          ],
          [
           737
          ],
          [
           753
          ],
          [
           597
          ],
          [
           773
          ],
          [
           989
          ],
          [
           578
          ],
          [
           647
          ],
          [
           657
          ],
          [
           718
          ],
          [
           640
          ],
          [
           816
          ],
          [
           575
          ],
          [
           776
          ],
          [
           645
          ],
          [
           644
          ],
          [
           563
          ],
          [
           798
          ],
          [
           750
          ],
          [
           760
          ],
          [
           763
          ],
          [
           672
          ],
          [
           751
          ],
          [
           580
          ],
          [
           727
          ],
          [
           584
          ],
          [
           758
          ],
          [
           786
          ],
          [
           684
          ],
          [
           634
          ],
          [
           751
          ],
          [
           708
          ],
          [
           736
          ],
          [
           607
          ],
          [
           756
          ],
          [
           759
          ],
          [
           690
          ],
          [
           599
          ],
          [
           641
          ],
          [
           684
          ],
          [
           804
          ],
          [
           628
          ],
          [
           735
          ],
          [
           732
          ],
          [
           792
          ],
          [
           728
          ],
          [
           830
          ],
          [
           788
          ],
          [
           828
          ],
          [
           701
          ],
          [
           722
          ],
          [
           797
          ],
          [
           615
          ],
          [
           819
          ],
          [
           642
          ],
          [
           672
          ],
          [
           709
          ],
          [
           592
          ],
          [
           722
          ],
          [
           658
          ],
          [
           733
          ],
          [
           654
          ],
          [
           822
          ],
          [
           642
          ],
          [
           662
          ],
          [
           815
          ],
          [
           581
          ],
          [
           792
          ],
          [
           604
          ],
          [
           569
          ],
          [
           767
          ],
          [
           817
          ],
          [
           577
          ],
          [
           762
          ],
          [
           782
          ],
          [
           712
          ],
          [
           781
          ],
          [
           695
          ],
          [
           605
          ],
          [
           578
          ],
          [
           670
          ],
          [
           803
          ],
          [
           667
          ],
          [
           797
          ],
          [
           833
          ],
          [
           623
          ],
          [
           719
          ],
          [
           615
          ],
          [
           813
          ],
          [
           602
          ],
          [
           735
          ],
          [
           825
          ],
          [
           626
          ],
          [
           772
          ],
          [
           780
          ],
          [
           754
          ],
          [
           594
          ],
          [
           840
          ],
          [
           789
          ],
          [
           654
          ],
          [
           806
          ],
          [
           699
          ],
          [
           655
          ],
          [
           712
          ],
          [
           826
          ],
          [
           1023
          ],
          [
           697
          ],
          [
           586
          ],
          [
           616
          ],
          [
           571
          ],
          [
           655
          ],
          [
           759
          ],
          [
           729
          ],
          [
           562
          ],
          [
           587
          ],
          [
           810
          ],
          [
           831
          ],
          [
           577
          ],
          [
           738
          ],
          [
           674
          ],
          [
           693
          ],
          [
           587
          ],
          [
           799
          ],
          [
           699
          ],
          [
           788
          ],
          [
           606
          ],
          [
           811
          ],
          [
           720
          ],
          [
           801
          ],
          [
           824
          ],
          [
           809
          ],
          [
           833
          ],
          [
           731
          ],
          [
           704
          ],
          [
           615
          ],
          [
           635
          ],
          [
           613
          ],
          [
           629
          ],
          [
           659
          ],
          [
           593
          ],
          [
           706
          ],
          [
           624
          ],
          [
           794
          ],
          [
           730
          ],
          [
           618
          ],
          [
           659
          ],
          [
           569
          ],
          [
           628
          ],
          [
           595
          ],
          [
           639
          ],
          [
           840
          ],
          [
           825
          ],
          [
           630
          ],
          [
           669
          ],
          [
           739
          ],
          [
           567
          ],
          [
           646
          ],
          [
           605
          ],
          [
           647
          ],
          [
           597
          ],
          [
           569
          ],
          [
           625
          ],
          [
           571
          ],
          [
           601
          ],
          [
           834
          ],
          [
           749
          ],
          [
           724
          ],
          [
           682
          ],
          [
           625
          ],
          [
           640
          ],
          [
           795
          ],
          [
           825
          ],
          [
           659
          ],
          [
           598
          ],
          [
           673
          ],
          [
           574
          ],
          [
           654
          ],
          [
           772
          ],
          [
           624
          ],
          [
           795
          ],
          [
           813
          ],
          [
           661
          ],
          [
           680
          ],
          [
           656
          ],
          [
           660
          ],
          [
           733
          ],
          [
           685
          ],
          [
           568
          ],
          [
           791
          ],
          [
           691
          ],
          [
           808
          ],
          [
           696
          ],
          [
           747
          ],
          [
           806
          ],
          [
           781
          ],
          [
           822
          ],
          [
           588
          ],
          [
           628
          ],
          [
           640
          ],
          [
           575
          ],
          [
           598
          ],
          [
           670
          ],
          [
           570
          ],
          [
           595
          ],
          [
           685
          ],
          [
           123
          ],
          [
           706
          ],
          [
           564
          ],
          [
           798
          ],
          [
           625
          ],
          [
           712
          ],
          [
           751
          ],
          [
           565
          ],
          [
           626
          ],
          [
           683
          ],
          [
           673
          ],
          [
           831
          ],
          [
           620
          ],
          [
           583
          ],
          [
           676
          ],
          [
           766
          ],
          [
           749
          ],
          [
           724
          ],
          [
           644
          ],
          [
           726
          ],
          [
           566
          ],
          [
           586
          ],
          [
           781
          ],
          [
           646
          ],
          [
           673
          ],
          [
           572
          ],
          [
           728
          ],
          [
           628
          ],
          [
           788
          ],
          [
           735
          ],
          [
           704
          ],
          [
           788
          ],
          [
           675
          ],
          [
           600
          ],
          [
           627
          ],
          [
           833
          ],
          [
           763
          ],
          [
           562
          ],
          [
           700
          ],
          [
           831
          ],
          [
           702
          ],
          [
           690
          ],
          [
           769
          ],
          [
           794
          ],
          [
           776
          ],
          [
           594
          ],
          [
           601
          ],
          [
           602
          ],
          [
           668
          ],
          [
           607
          ],
          [
           809
          ],
          [
           643
          ],
          [
           692
          ],
          [
           569
          ],
          [
           749
          ],
          [
           751
          ],
          [
           722
          ],
          [
           790
          ],
          [
           634
          ],
          [
           768
          ],
          [
           625
          ],
          [
           816
          ],
          [
           798
          ],
          [
           605
          ],
          [
           589
          ],
          [
           777
          ],
          [
           606
          ],
          [
           731
          ],
          [
           827
          ],
          [
           634
          ],
          [
           580
          ],
          [
           685
          ],
          [
           732
          ],
          [
           634
          ],
          [
           786
          ],
          [
           767
          ]
         ],
         "hovertemplate": "0=%{x}<br>1=%{y}<br>2=%{z}<br>Feature=%{customdata[0]}<br>Anomaly=%{marker.color}<extra></extra>",
         "legendgroup": "",
         "marker": {
          "color": [
           0,
           0,
           0,
           0,
           0,
           0,
           0,
           0,
           0,
           0,
           0,
           0,
           0,
           0,
           0,
           0,
           0,
           0,
           0,
           0,
           0,
           0,
           0,
           0,
           1,
           0,
           0,
           0,
           0,
           0,
           0,
           0,
           0,
           0,
           0,
           0,
           0,
           0,
           0,
           0,
           0,
           0,
           0,
           0,
           0,
           0,
           0,
           0,
           0,
           0,
           0,
           0,
           0,
           0,
           0,
           0,
           0,
           0,
           0,
           0,
           0,
           0,
           0,
           0,
           0,
           0,
           0,
           0,
           0,
           0,
           0,
           0,
           0,
           0,
           0,
           0,
           0,
           0,
           0,
           0,
           0,
           0,
           0,
           0,
           0,
           0,
           0,
           0,
           0,
           0,
           0,
           0,
           0,
           0,
           0,
           0,
           0,
           0,
           0,
           0,
           0,
           0,
           0,
           0,
           0,
           0,
           0,
           0,
           0,
           0,
           0,
           0,
           0,
           0,
           0,
           0,
           0,
           0,
           0,
           0,
           0,
           0,
           0,
           0,
           0,
           0,
           0,
           0,
           0,
           0,
           0,
           0,
           0,
           0,
           0,
           0,
           0,
           0,
           0,
           0,
           0,
           0,
           0,
           0,
           0,
           0,
           0,
           0,
           0,
           0,
           0,
           0,
           0,
           0,
           0,
           0,
           0,
           0,
           0,
           0,
           0,
           0,
           0,
           0,
           0,
           0,
           0,
           0,
           0,
           0,
           0,
           0,
           0,
           0,
           0,
           0,
           0,
           0,
           0,
           0,
           0,
           0,
           0,
           0,
           0,
           0,
           0,
           0,
           0,
           0,
           0,
           0,
           0,
           0,
           0,
           0,
           0,
           0,
           0,
           0,
           0,
           0,
           0,
           0,
           0,
           0,
           0,
           0,
           0,
           0,
           0,
           0,
           0,
           0,
           0,
           0,
           0,
           0,
           0,
           0,
           0,
           0,
           0,
           0,
           1,
           0,
           0,
           0,
           0,
           0,
           0,
           0,
           0,
           0,
           0,
           0,
           0,
           0,
           0,
           0,
           0,
           0,
           0,
           0,
           0,
           0,
           0,
           0,
           0,
           0,
           0,
           0,
           0,
           0,
           0,
           0,
           0,
           0,
           0,
           0,
           0,
           0,
           0,
           0,
           0,
           0,
           0,
           0,
           0,
           0,
           0,
           0,
           0,
           0,
           0,
           0,
           0,
           0,
           0,
           0,
           0,
           0,
           0,
           0,
           0,
           0,
           0,
           0,
           0,
           0,
           0,
           0,
           0,
           0,
           0,
           0,
           0,
           0,
           0,
           0,
           0,
           0,
           0,
           0,
           0,
           0,
           0,
           0,
           0,
           0,
           0,
           0,
           0,
           0,
           0,
           0,
           0,
           0,
           0,
           0,
           0,
           0,
           0,
           0,
           1,
           0,
           0,
           0,
           0,
           0,
           0,
           0,
           0,
           0,
           0,
           0,
           0,
           0,
           0,
           0,
           0,
           0,
           0,
           0,
           0,
           0,
           0,
           0,
           0,
           0,
           0,
           0,
           0,
           0,
           0,
           0,
           0,
           0,
           0,
           0,
           0,
           0,
           0,
           0,
           0,
           0,
           0,
           0,
           0,
           0,
           0,
           0,
           0,
           0,
           0,
           0,
           0,
           0,
           0,
           0,
           0,
           0,
           0,
           0,
           0,
           0,
           0,
           0,
           0,
           0,
           0,
           0,
           0,
           0,
           0,
           0,
           0,
           0,
           0,
           0,
           0,
           0,
           0,
           0,
           0,
           0,
           0,
           0,
           0,
           0,
           0,
           0,
           0,
           0,
           0,
           0,
           0,
           0,
           0,
           0,
           0,
           0,
           0,
           0,
           1,
           0,
           0,
           0,
           0,
           0,
           0,
           0,
           0,
           0,
           0,
           0,
           0,
           0,
           0,
           0,
           0,
           0,
           0,
           0,
           0,
           0,
           0,
           0,
           0,
           0,
           0,
           0,
           0,
           0,
           0,
           0,
           0,
           0,
           0,
           0,
           0,
           0,
           0,
           0,
           0,
           0,
           0,
           0,
           0,
           0,
           0,
           0,
           0,
           0,
           0,
           0,
           0,
           0,
           0,
           0,
           0,
           0,
           0,
           0,
           0,
           0,
           0,
           0,
           0,
           0,
           0,
           0,
           0,
           0,
           0,
           0,
           0,
           0,
           0,
           1,
           0,
           0,
           0,
           0,
           0,
           0,
           0,
           0,
           0,
           0,
           0,
           0,
           0,
           0,
           0,
           0,
           0,
           0,
           0,
           0,
           0,
           0,
           0,
           0,
           0,
           0,
           0,
           0,
           0,
           0,
           0,
           0,
           0,
           0,
           0,
           0,
           0,
           0,
           0,
           0,
           0,
           0,
           0,
           0,
           0,
           0,
           0,
           0,
           0,
           0,
           0,
           0,
           0,
           0,
           0,
           0,
           0,
           0,
           0,
           0,
           0,
           0,
           0,
           0,
           0,
           0,
           0,
           0,
           0,
           0,
           0,
           0,
           0,
           0,
           0,
           0,
           0,
           0,
           0,
           0,
           0,
           0,
           0,
           0,
           0,
           0,
           0,
           0,
           0,
           0,
           0,
           0,
           0,
           0,
           0,
           0,
           0,
           0,
           0,
           0,
           0,
           0,
           0,
           0,
           0,
           0,
           0,
           0,
           0,
           0,
           0,
           0,
           0,
           0,
           0,
           0,
           0,
           0,
           0,
           0,
           0,
           0,
           0,
           0,
           0,
           0,
           0,
           0,
           0,
           0,
           0,
           0,
           0,
           0,
           0,
           0,
           0,
           0,
           0,
           0,
           0,
           0,
           0,
           0,
           0,
           0,
           0,
           0,
           0,
           1,
           0,
           0,
           0,
           0,
           0,
           0,
           0,
           0,
           0,
           0,
           0,
           0,
           0,
           0,
           0,
           0,
           0,
           0,
           0,
           0,
           0,
           0,
           0,
           0,
           0,
           0,
           0,
           0,
           0,
           0,
           0,
           0,
           0,
           0,
           0,
           0,
           0,
           0,
           0,
           0,
           0,
           0,
           0,
           0,
           0,
           0,
           0,
           0,
           0,
           0,
           0,
           0,
           0,
           0,
           0,
           0,
           0,
           0,
           0,
           0,
           0,
           0,
           0,
           0,
           0,
           0,
           0,
           0,
           0,
           0,
           0,
           0,
           0,
           0,
           1,
           0,
           0,
           0,
           0,
           0,
           0,
           0,
           0,
           0,
           0,
           0,
           0,
           0,
           0,
           0,
           0,
           0,
           0,
           0,
           0,
           0,
           0,
           0,
           0,
           0,
           0,
           0,
           0,
           0,
           0,
           0,
           0,
           0,
           0,
           0,
           0,
           0,
           0,
           0,
           0,
           0,
           0,
           0,
           0,
           0,
           0,
           0,
           0,
           0,
           0,
           0,
           0,
           0,
           0,
           0,
           0,
           0,
           0,
           0,
           0,
           0,
           0,
           0,
           0,
           0,
           0,
           0,
           0,
           0,
           0,
           0,
           0,
           0,
           0,
           1,
           0,
           0,
           0,
           0,
           0,
           0,
           0,
           0,
           0,
           0,
           0,
           0,
           0,
           0,
           0,
           0,
           0,
           0,
           0,
           0,
           0,
           0,
           0,
           0,
           1,
           0,
           0,
           0,
           0,
           0,
           0,
           0,
           0,
           0,
           0,
           0,
           0,
           0,
           0,
           0,
           0,
           0,
           0,
           0,
           0,
           0,
           0,
           0,
           0,
           0,
           0,
           0,
           0,
           0,
           0,
           0,
           0,
           0,
           0,
           0,
           0,
           0,
           0,
           0,
           0,
           0,
           0,
           0,
           0,
           0,
           0,
           0,
           0,
           0,
           1,
           0,
           0,
           0,
           0,
           0,
           0,
           0,
           0,
           0,
           0,
           0,
           0,
           0,
           0,
           0,
           0,
           0,
           0,
           0,
           0,
           0,
           0,
           0,
           0,
           0,
           0,
           0,
           0,
           0,
           0,
           0,
           0,
           0,
           0,
           0,
           0,
           0,
           0,
           0,
           0,
           0,
           0,
           0,
           0,
           0,
           0,
           0,
           0,
           0,
           0,
           0,
           0,
           0,
           0,
           0,
           0,
           0,
           0,
           0,
           0,
           0,
           0,
           0,
           0,
           0,
           0,
           0,
           0,
           0,
           0,
           0,
           0,
           0,
           0,
           0,
           0,
           0,
           0,
           0,
           0,
           0,
           0,
           0,
           0,
           0,
           0,
           0,
           0,
           0,
           0,
           0,
           0,
           0,
           0,
           0,
           0,
           0,
           0,
           0,
           0,
           0,
           0,
           0,
           0,
           0,
           0,
           0,
           0,
           0,
           0,
           0,
           0,
           0,
           0,
           0,
           0,
           0,
           0,
           0,
           0,
           0,
           0,
           0,
           0,
           0
          ],
          "coloraxis": "coloraxis",
          "opacity": 0.7,
          "symbol": "circle"
         },
         "mode": "markers",
         "name": "",
         "scene": "scene",
         "showlegend": false,
         "type": "scatter3d",
         "x": [
          -14.045052528381348,
          7.840210914611816,
          -1.0641049146652222,
          0.24906699359416962,
          -2.093142032623291,
          2.7834584712982178,
          8.775885581970215,
          -4.627405643463135,
          0.7942206859588623,
          8.202423095703125,
          5.328429698944092,
          -12.909538269042969,
          7.49941349029541,
          -5.047648906707764,
          10.236749649047852,
          -5.889298439025879,
          9.491842269897461,
          -4.91459846496582,
          -15.081899642944336,
          0.16020382940769196,
          -0.38691505789756775,
          -16.615102767944336,
          3.0404438972473145,
          9.89133358001709,
          6.213400363922119,
          8.883964538574219,
          -2.6944680213928223,
          4.811142921447754,
          -11.329828262329102,
          2.916832447052002,
          -17.431896209716797,
          -4.238465309143066,
          9.775063514709473,
          -2.351057767868042,
          -1.8121858835220337,
          8.620050430297852,
          10.236969947814941,
          3.478472948074341,
          8.075358390808105,
          -4.782701015472412,
          -12.922626495361328,
          -7.075406551361084,
          -1.2368321418762207,
          3.3962481021881104,
          -5.458220481872559,
          -6.6588239669799805,
          8.130335807800293,
          6.319604396820068,
          -11.092452049255371,
          -3.2612054347991943,
          -4.450319766998291,
          -1.056142807006836,
          -1.228339433670044,
          8.386130332946777,
          -17.260337829589844,
          -0.3551875054836273,
          -4.0287017822265625,
          -17.565237045288086,
          -2.826655626296997,
          -2.680654525756836,
          -1.5124554634094238,
          7.753021717071533,
          -2.477118492126465,
          4.857999324798584,
          10.215509414672852,
          9.642220497131348,
          -17.22760009765625,
          3.247274160385132,
          3.9800639152526855,
          -13.742469787597656,
          -1.8152744770050049,
          1.1303441524505615,
          8.075538635253906,
          1.3223872184753418,
          -1.4395265579223633,
          -4.671736240386963,
          8.642867088317871,
          -16.821928024291992,
          6.51706600189209,
          -4.783972263336182,
          10.215542793273926,
          4.525542736053467,
          -0.7118015289306641,
          1.595436453819275,
          -2.353461503982544,
          -14.934208869934082,
          4.227023124694824,
          8.384977340698242,
          0.2943236827850342,
          9.53702163696289,
          -2.3493242263793945,
          -13.421677589416504,
          2.666755437850952,
          -14.789974212646484,
          -14.787718772888184,
          9.041714668273926,
          4.927125453948975,
          0.24873405694961548,
          -4.607954025268555,
          5.213695049285889,
          -1.7731013298034668,
          8.853541374206543,
          6.878325939178467,
          3.0411581993103027,
          7.499495983123779,
          8.129271507263184,
          8.208053588867188,
          -0.7144005298614502,
          -2.129560947418213,
          4.927574634552002,
          6.876742839813232,
          -15.977054595947266,
          2.576390504837036,
          -5.457860946655273,
          -0.3671664893627167,
          -4.655761241912842,
          -12.743439674377441,
          0.009070015512406826,
          -3.968174695968628,
          10.236846923828125,
          1.1334842443466187,
          -7.080660343170166,
          -3.258826494216919,
          2.8572397232055664,
          6.197213649749756,
          -4.773775100708008,
          -0.6075327396392822,
          -2.095283031463623,
          8.53481388092041,
          7.829704761505127,
          5.743475914001465,
          5.950661659240723,
          9.774337768554688,
          -0.07236523181200027,
          2.6668453216552734,
          -6.283359050750732,
          8.333988189697266,
          5.991302490234375,
          0.29306560754776,
          -0.06955406814813614,
          1.3718092441558838,
          5.209893226623535,
          -13.744223594665527,
          3.9800636768341064,
          -4.608878135681152,
          0.0401991605758667,
          -1.9367362260818481,
          -2.6933908462524414,
          -1.7320159673690796,
          -8.64082145690918,
          -4.671706199645996,
          -2.7016496658325195,
          7.829625129699707,
          0.24863891303539276,
          -14.194929122924805,
          3.9328763484954834,
          9.99061393737793,
          -11.326333999633789,
          -0.0736103355884552,
          -5.049041271209717,
          -0.2857145667076111,
          0.2932594120502472,
          -0.3855227828025818,
          9.53648853302002,
          -4.6254096031188965,
          4.038768768310547,
          8.72441291809082,
          6.1662750244140625,
          4.48745584487915,
          6.516085624694824,
          -0.1444912701845169,
          5.233642101287842,
          3.3821566104888916,
          -13.08371639251709,
          4.223341941833496,
          9.302848815917969,
          -2.8962666988372803,
          8.208053588867188,
          8.32903003692627,
          -1.287065863609314,
          1.1302950382232666,
          -3.6288769245147705,
          -0.5746122598648071,
          0.7430333495140076,
          -5.049732685089111,
          3.9751763343811035,
          -15.976232528686523,
          -1.2876087427139282,
          8.641551971435547,
          -3.029205322265625,
          -0.3854241967201233,
          3.9408211708068848,
          4.523517608642578,
          -4.744637966156006,
          6.316030979156494,
          -3.083078622817993,
          8.64088249206543,
          -4.229429721832275,
          -2.1019136905670166,
          -8.584301948547363,
          -8.688739776611328,
          -17.431236267089844,
          1.3624992370605469,
          -12.75207805633545,
          -3.903046131134033,
          4.368128776550293,
          3.1295230388641357,
          -0.3769288659095764,
          10.057796478271484,
          -3.3897616863250732,
          2.8187975883483887,
          -4.912649631500244,
          -0.6839829683303833,
          -4.522102355957031,
          -9.090506553649902,
          4.487793922424316,
          -3.0823400020599365,
          0.2926458418369293,
          7.3266215324401855,
          10.12401294708252,
          8.199328422546387,
          -3.622960090637207,
          -7.517086982727051,
          6.831185817718506,
          6.219725608825684,
          6.6974568367004395,
          -3.6254451274871826,
          2.997407913208008,
          3.6608710289001465,
          4.487110614776611,
          0.16017818450927734,
          -2.7664613723754883,
          7.752513408660889,
          -14.79008674621582,
          6.1662750244140625,
          4.526340961456299,
          -0.6098689436912537,
          1.9283968210220337,
          0.6365872621536255,
          -2.8962666988372803,
          -0.21823981404304504,
          -8.331402778625488,
          6.833738327026367,
          -0.9291016459465027,
          3.5501110553741455,
          0.3041224777698517,
          10.219396591186523,
          5.99202299118042,
          -17.388774871826172,
          -4.029709815979004,
          -17.048799514770508,
          -10.029839515686035,
          4.801033020019531,
          -15.979155540466309,
          -1.921521782875061,
          -4.758368492126465,
          7.232712745666504,
          -8.333423614501953,
          -5.88767147064209,
          0.03902466595172882,
          -4.030333518981934,
          -12.942679405212402,
          -3.0656495094299316,
          0.06074568256735802,
          4.820998668670654,
          -2.8262202739715576,
          -1.064462661743164,
          -15.414199829101562,
          6.391346454620361,
          9.2169771194458,
          8.708391189575195,
          3.1338462829589844,
          4.400400638580322,
          6.34229040145874,
          8.730277061462402,
          6.005841255187988,
          -10.848788261413574,
          -1.9354974031448364,
          8.31421184539795,
          -8.3370943069458,
          1.9218957424163818,
          -17.20580291748047,
          -0.6102733612060547,
          -5.040745735168457,
          -4.728473663330078,
          -4.362596035003662,
          -4.1715779304504395,
          2.675504684448242,
          2.8808681964874268,
          4.227023124694824,
          -2.837144374847412,
          7.8304123878479,
          -0.3862191438674927,
          -5.0488810539245605,
          4.803737163543701,
          -9.721428871154785,
          8.313820838928223,
          -16.263500213623047,
          -16.82674789428711,
          -2.7385637760162354,
          9.302848815917969,
          5.961396217346191,
          8.546061515808105,
          -3.6548752784729004,
          10.218621253967285,
          -4.236362457275391,
          -15.414340019226074,
          6.831066608428955,
          4.489670753479004,
          9.040879249572754,
          6.130232810974121,
          -16.241012573242188,
          6.374462127685547,
          -2.998826503753662,
          3.319532632827759,
          6.833083152770996,
          -2.822497606277466,
          -17.56661605834961,
          3.6152074337005615,
          -14.045674324035645,
          7.887607097625732,
          -3.9488911628723145,
          1.1311028003692627,
          7.361498832702637,
          6.21904182434082,
          -4.1840500831604,
          -4.979599952697754,
          -6.654431343078613,
          9.110068321228027,
          -4.403965473175049,
          -3.2590854167938232,
          -14.934746742248535,
          0.24179279804229736,
          1.7831578254699707,
          9.490361213684082,
          -5.040991306304932,
          -10.582239151000977,
          5.20913553237915,
          -10.029787063598633,
          -0.6073550581932068,
          10.157621383666992,
          7.573083877563477,
          6.494222640991211,
          1.7873187065124512,
          5.259024620056152,
          -3.625717878341675,
          -12.570439338684082,
          8.773619651794434,
          7.3643269538879395,
          3.2284393310546875,
          8.425995826721191,
          3.617793321609497,
          5.615396499633789,
          -2.36043381690979,
          -0.14173278212547302,
          8.056378364562988,
          -3.6939921379089355,
          -4.1229400634765625,
          -12.374626159667969,
          -14.349130630493164,
          1.9289206266403198,
          0.061629533767700195,
          7.5632171630859375,
          -3.0813205242156982,
          -14.787750244140625,
          0.4429336488246918,
          3.131847381591797,
          -13.587267875671387,
          -17.4899959564209,
          -13.436359405517578,
          -5.00498104095459,
          0.6975007653236389,
          -17.54362678527832,
          8.683832168579102,
          6.87696647644043,
          8.64369010925293,
          4.488505840301514,
          -17.048017501831055,
          -5.050702095031738,
          8.724544525146484,
          -4.91256856918335,
          -17.6190185546875,
          -4.9788055419921875,
          -15.414198875427246,
          -17.56525421142578,
          -3.0549697875976562,
          7.887345790863037,
          1.3606897592544556,
          4.399316787719727,
          3.0404441356658936,
          -0.07153285294771194,
          -5.049784183502197,
          -3.671248435974121,
          -3.9672257900238037,
          5.615396499633789,
          10.236749649047852,
          2.666867971420288,
          0.6975002288818359,
          -11.092419624328613,
          -1.749229907989502,
          -8.747576713562012,
          1.595436453819275,
          -1.9406688213348389,
          -4.529512882232666,
          -1.4380987882614136,
          -3.947638511657715,
          0.2941434383392334,
          8.042096138000488,
          -3.626951217651367,
          0.6372469067573547,
          -4.527029037475586,
          -3.084373712539673,
          10.124861717224121,
          6.83072566986084,
          -1.8092997074127197,
          9.041701316833496,
          -2.3840091228485107,
          -4.979085445404053,
          4.037691593170166,
          -4.783555030822754,
          -2.7016496658325195,
          -9.41530990600586,
          -2.8281121253967285,
          -13.41524887084961,
          -14.566258430480957,
          3.1318178176879883,
          -17.58885383605957,
          6.317862510681152,
          -1.7683342695236206,
          6.131744384765625,
          -0.5744165182113647,
          10.122519493103027,
          -17.429372787475586,
          0.6357110738754272,
          -11.74592399597168,
          3.9475648403167725,
          10.123442649841309,
          9.689592361450195,
          0.6753487586975098,
          -13.604487419128418,
          1.3708605766296387,
          -16.61615562438965,
          -11.326333999633789,
          -2.6138622760772705,
          -17.428686141967773,
          -1.4382134675979614,
          -9.102269172668457,
          -2.126333475112915,
          -1.7769407033920288,
          -2.6165530681610107,
          4.489670753479004,
          -4.362948417663574,
          -11.74448299407959,
          -11.941483497619629,
          2.870708465576172,
          -4.030571937561035,
          5.269576549530029,
          -0.647540807723999,
          -9.414936065673828,
          5.804925441741943,
          3.4123029708862305,
          -0.07237152010202408,
          -11.744400024414062,
          -11.092689514160156,
          -3.253990650177002,
          -1.4399856328964233,
          0.14908859133720398,
          -11.744073867797852,
          7.92828893661499,
          -15.240959167480469,
          -1.2352430820465088,
          7.854126930236816,
          10.054289817810059,
          -0.28624916076660156,
          -0.1566038578748703,
          -3.6485235691070557,
          7.045608997344971,
          -17.62065887451172,
          -17.61384391784668,
          -1.939160704612732,
          -5.459408760070801,
          -2.3842132091522217,
          3.30545973777771,
          8.314651489257812,
          -0.7783715724945068,
          -1.2369074821472168,
          -3.0013785362243652,
          8.089151382446289,
          8.620868682861328,
          8.130745887756348,
          -1.2424708604812622,
          3.5524377822875977,
          -2.620224714279175,
          -9.088509559631348,
          -4.6562676429748535,
          -3.4106152057647705,
          -3.2564947605133057,
          8.862343788146973,
          10.219202995300293,
          -3.762377977371216,
          8.534156799316406,
          4.395226955413818,
          -4.757063388824463,
          7.363498210906982,
          -4.529513835906982,
          0.3044111430644989,
          4.884900093078613,
          1.7912846803665161,
          -0.6169672608375549,
          9.303539276123047,
          9.216114044189453,
          -5.051854610443115,
          -4.5298943519592285,
          10.055164337158203,
          -11.945024490356445,
          -17.61305046081543,
          6.878322124481201,
          -5.051172256469727,
          -4.74153995513916,
          6.494421482086182,
          -1.492172360420227,
          -12.761174201965332,
          6.87696647644043,
          -5.889004230499268,
          -14.551885604858398,
          -3.8447909355163574,
          8.119499206542969,
          8.682333946228027,
          -4.731906890869141,
          -4.123895645141602,
          -17.56486701965332,
          -0.99992436170578,
          -0.3749181628227234,
          7.589147090911865,
          -0.6209117770195007,
          -10.311178207397461,
          -14.349130630493164,
          -5.047938346862793,
          -4.363038539886475,
          -17.211380004882812,
          7.552384853363037,
          7.333826541900635,
          -17.20392417907715,
          -16.08165740966797,
          7.567355155944824,
          8.338181495666504,
          -4.747804164886475,
          4.931423664093018,
          1.5962698459625244,
          7.1312079429626465,
          0.05970597639679909,
          10.215757369995117,
          1.789469599723816,
          8.711615562438965,
          -16.091630935668945,
          5.644032001495361,
          0.6926369071006775,
          -2.3496463298797607,
          5.216058254241943,
          10.121612548828125,
          -3.670386791229248,
          -4.607871055603027,
          9.953560829162598,
          2.857240915298462,
          0.2924911081790924,
          -12.572195053100586,
          -17.61384391784668,
          -0.3853429853916168,
          -4.671889781951904,
          -0.21582657098770142,
          -3.0827481746673584,
          -3.4120402336120605,
          0.012736339122056961,
          -4.912243843078613,
          5.530257225036621,
          -0.387480765581131,
          7.7527947425842285,
          -4.8860368728637695,
          -1.5179579257965088,
          0.8901453018188477,
          -1.0020703077316284,
          -7.937474250793457,
          -4.641812801361084,
          -3.8463246822357178,
          -2.3642635345458984,
          -15.414761543273926,
          1.9248006343841553,
          8.436278343200684,
          -11.745802879333496,
          -16.135950088500977,
          -0.928257942199707,
          6.833738327026367,
          8.027459144592285,
          1.791690468788147,
          0.24173937737941742,
          9.830745697021484,
          3.946755886077881,
          -5.0403523445129395,
          6.8787665367126465,
          -4.657153606414795,
          -16.616125106811523,
          -13.255624771118164,
          -3.4368724822998047,
          -2.854905128479004,
          -17.20393943786621,
          9.77575397491455,
          -1.0564757585525513,
          3.487165927886963,
          -2.3517470359802246,
          -0.5730291604995728,
          -0.38569870591163635,
          3.6487114429473877,
          9.105233192443848,
          4.357889652252197,
          4.843571186065674,
          -0.9299210906028748,
          1.7907211780548096,
          -16.293100357055664,
          6.133934020996094,
          -4.624990463256836,
          -4.527029037475586,
          -1.9197158813476562,
          5.286614418029785,
          -3.4108967781066895,
          6.149312496185303,
          -7.082019805908203,
          9.53658676147461,
          4.487573623657227,
          -1.2404998540878296,
          5.97335147857666,
          8.014143943786621,
          -17.590225219726562,
          10.157402038574219,
          7.335525035858154,
          2.576390504837036,
          9.216466903686523,
          6.167677879333496,
          0.12395573407411575,
          -4.362046718597412,
          -3.0792629718780518,
          -10.02957820892334,
          3.3392157554626465,
          -3.6933836936950684,
          -14.79008674621582,
          6.877133369445801,
          8.681848526000977,
          -15.082181930541992,
          6.316935062408447,
          0.24873405694961548,
          -13.74094009399414,
          8.434916496276855,
          -3.9625229835510254,
          3.1284847259521484,
          -16.82668685913086,
          9.953831672668457,
          -3.9605178833007812,
          6.1345720291137695,
          -1.0006237030029297,
          0.4459010064601898,
          -2.0965216159820557,
          -8.747575759887695,
          -4.673144340515137,
          -4.670779228210449,
          -1.9196593761444092,
          3.9323554039001465,
          0.4441860318183899,
          -3.967226505279541,
          -17.567224502563477,
          -3.0816893577575684,
          -0.3749171495437622,
          9.954523086547852,
          -17.610258102416992,
          7.32796049118042,
          -2.4804272651672363,
          -17.42892837524414,
          -0.6170846819877625,
          -0.5745983123779297,
          8.714367866516113,
          -1.5175737142562866,
          -17.38863754272461,
          6.333014488220215,
          -13.893884658813477,
          -2.736957311630249,
          6.714049339294434,
          -17.047870635986328,
          7.498933792114258,
          1.3195114135742188,
          -3.6263649463653564,
          -3.074157953262329,
          -3.2594456672668457,
          -3.266317129135132,
          -1.4850146770477295,
          4.80604362487793,
          -1.4890714883804321,
          6.49273157119751,
          7.2335686683654785,
          0.24863891303539276,
          3.9782254695892334,
          -17.43057632446289,
          -2.3653228282928467,
          -1.2408967018127441,
          7.562557697296143,
          -2.8426685333251953,
          10.054491996765137,
          -3.8412394523620605,
          5.641781330108643,
          4.400876998901367,
          -14.347956657409668,
          -10.310609817504883,
          7.928470611572266,
          -15.969593048095703,
          -4.362524032592773,
          -16.614042282104492,
          0.06074568256735802,
          0.05386240407824516,
          -5.885304927825928,
          0.12402773648500443,
          0.055467214435338974,
          -14.628135681152344,
          -5.040121078491211,
          -4.526934623718262,
          -1.0012940168380737,
          9.98965072631836,
          -2.3829615116119385,
          -14.610422134399414,
          8.1292724609375,
          -3.0486457347869873,
          0.890619158744812,
          -2.3499996662139893,
          -4.733090877532959,
          -14.63351821899414,
          7.233151912689209,
          -3.698117733001709,
          -3.6280550956726074,
          -3.9650063514709473,
          3.407810688018799,
          -11.539676666259766,
          -1.8127567768096924,
          0.16025152802467346,
          0.3050961494445801,
          7.044860363006592,
          -1.5172244310379028,
          8.623001098632812,
          -4.784054279327393,
          9.379951477050781,
          -0.07436064630746841,
          -7.951792240142822,
          8.755592346191406,
          -3.9037721157073975,
          -1.5172244310379028,
          2.575364828109741,
          -4.655894756317139,
          8.11987590789795,
          -0.3874807059764862,
          0.06466332077980042,
          8.19930648803711,
          9.774551391601562,
          -4.6254096031188965,
          8.79245376586914,
          -12.761174201965332,
          -1.7690200805664062,
          -4.773775100708008,
          -5.040119647979736,
          -10.029539108276367,
          -4.91164493560791,
          -17.26045036315918,
          -8.807682037353516,
          -16.821901321411133,
          5.647876262664795,
          -3.6933841705322266,
          -11.328240394592285,
          5.327489852905273,
          -15.082542419433594,
          -4.450113296508789,
          7.045745372772217,
          2.087744951248169,
          10.215728759765625,
          -3.694850444793701,
          1.3190804719924927,
          -4.979085445404053,
          -0.28671881556510925,
          -15.604483604431152,
          -4.44949197769165,
          3.129183053970337,
          -14.492691040039062,
          8.853283882141113,
          -10.028763771057129,
          8.88344955444336,
          5.149444103240967,
          -0.13473555445671082,
          -14.790111541748047,
          7.874401092529297,
          0.29369494318962097,
          -6.283886909484863,
          0.6363042593002319,
          -5.887144088745117,
          7.361748218536377,
          8.641087532043457,
          8.130058288574219,
          7.021107196807861,
          -12.573577880859375,
          5.21420431137085,
          -11.328203201293945,
          -17.589080810546875,
          1.3677291870117188,
          -2.7384471893310547,
          5.333439826965332,
          -14.194136619567871,
          9.302957534790039,
          -4.773929119110107,
          -16.293100357055664,
          -0.6154500842094421,
          -1.93869149684906,
          -5.457763671875,
          -0.7798694372177124,
          10.219070434570312,
          -17.050277709960938,
          -9.089550971984863,
          -0.2852467894554138,
          -13.072192192077637,
          6.3176751136779785,
          0.05647886171936989,
          0.6363162994384766,
          -16.40690803527832,
          -14.596973419189453,
          6.876979351043701,
          9.690288543701172,
          4.927082061767578,
          5.801784515380859,
          0.05543753132224083,
          0.059338293969631195,
          -5.004364013671875,
          3.2505545616149902,
          9.831622123718262,
          -13.742644309997559,
          -17.42909049987793,
          7.895538330078125,
          -4.362188816070557,
          7.631429195404053,
          7.752778053283691,
          9.83112621307373,
          -11.744869232177734,
          6.3178253173828125,
          -8.734319686889648,
          8.386526107788086,
          -13.894401550292969,
          -3.0728793144226074,
          -12.150919914245605,
          -15.965702056884766,
          -13.578835487365723,
          -17.588891983032227,
          -5.067012310028076,
          4.371211528778076,
          5.329411029815674,
          -4.124429225921631,
          6.1334147453308105,
          -2.2584338188171387,
          1.7864395380020142,
          10.23818588256836,
          3.478472948074341,
          0.7885711789131165,
          -10.58190631866455,
          -5.049041271209717,
          4.038976192474365,
          1.7879321575164795,
          5.141318321228027,
          -1.7700939178466797,
          10.15754508972168,
          -4.752530097961426,
          -17.0455322265625,
          -16.293094635009766,
          -2.6932506561279297,
          6.017674446105957,
          -4.201769828796387,
          4.341060161590576,
          -3.2490785121917725,
          8.641393661499023,
          -2.919577121734619,
          9.990034103393555,
          5.138247966766357,
          0.039227209985256195,
          5.805675983428955,
          9.491557121276855,
          -17.61899757385254,
          -2.089088201522827,
          -4.181465148925781,
          8.683876037597656,
          0.04897136241197586,
          -4.730888366699219,
          -10.847373008728027,
          -16.136430740356445,
          1.7854489088058472,
          9.891294479370117,
          7.341158390045166,
          6.876701354980469,
          -0.28718459606170654,
          -1.9367362260818481,
          0.7915099263191223,
          -10.851130485534668,
          -14.193567276000977,
          2.666867971420288,
          8.534961700439453,
          0.45181792974472046,
          2.2396984100341797,
          -4.977940082550049,
          8.808253288269043,
          4.814332962036133,
          -9.721068382263184,
          8.075201034545898,
          -13.408854484558105,
          7.1317925453186035,
          -2.62011981010437,
          -13.099905014038086,
          -5.885304927825928,
          -15.605216979980469,
          9.954025268554688,
          -1.7700859308242798,
          -4.725362300872803,
          7.231930255889893,
          9.891294479370117,
          6.372098445892334,
          5.482537269592285,
          10.157402992248535,
          8.590282440185547,
          6.2130937576293945,
          3.488497495651245,
          3.647287368774414,
          -11.536944389343262,
          0.0338706374168396,
          0.6351840496063232,
          -1.515236735343933,
          3.9280967712402344,
          -0.6140368580818176,
          8.72441291809082,
          7.3476128578186035,
          -17.42911720275879,
          3.1308603286743164,
          9.216312408447266,
          8.056565284729004,
          0.009386830031871796,
          -2.095283031463623,
          -4.180419445037842,
          -3.963010311126709,
          -4.607332706451416,
          4.223162651062012,
          9.689375877380371,
          -5.88785982131958,
          -3.2713663578033447,
          7.362310409545898,
          6.167520999908447,
          -4.9144697189331055,
          -1.7733274698257446,
          -8.685136795043945,
          -4.774655342102051,
          4.399356365203857,
          -8.790787696838379,
          7.806803226470947,
          9.643982887268066,
          -1.231885313987732,
          -17.58966636657715,
          0.30509620904922485,
          3.015988826751709,
          5.991251468658447,
          -17.431344985961914,
          5.222889423370361,
          8.199482917785645,
          -0.6841797828674316,
          -10.582454681396484,
          -3.692650556564331,
          10.218032836914062,
          9.488848686218262,
          9.303768157958984,
          5.610044956207275,
          8.119505882263184,
          -13.594929695129395,
          -4.231171131134033,
          7.928441047668457,
          5.146473407745361,
          -2.099459171295166,
          -1.5232865810394287,
          -3.6932754516601562,
          -9.415255546569824,
          -3.9048638343811035,
          -0.35038912296295166,
          0.05278446897864342,
          -14.627727508544922,
          -11.537177085876465,
          8.640878677368164,
          10.05629825592041,
          -4.172049522399902,
          8.384978294372559,
          -5.06580924987793,
          -16.615991592407227,
          -3.903111457824707,
          8.622849464416504,
          8.78064250946045,
          -5.040572166442871,
          -3.9029948711395264,
          -7.932285308837891,
          -0.14173278212547302
         ],
         "y": [
          3.0154364109039307,
          7.732194423675537,
          11.952863693237305,
          8.630748748779297,
          1.592672348022461,
          10.850252151489258,
          -6.588900566101074,
          -7.478762626647949,
          -1.2963017225265503,
          -8.689538955688477,
          -0.36153918504714966,
          5.636592864990234,
          0.1572658270597458,
          -1.0223209857940674,
          3.1677908897399902,
          13.794857025146484,
          1.338099718093872,
          -1.1109408140182495,
          0.4082307517528534,
          6.4857048988342285,
          4.583283424377441,
          -3.082319498062134,
          -2.3635478019714355,
          1.939510703086853,
          8.375811576843262,
          0.8081920146942139,
          -2.98317289352417,
          10.116005897521973,
          8.74835205078125,
          11.101341247558594,
          -5.172656059265137,
          -8.489775657653809,
          1.725206971168518,
          -1.4591211080551147,
          1.965200662612915,
          -7.499190330505371,
          3.167160749435425,
          -2.4706661701202393,
          -4.924083709716797,
          -1.1467468738555908,
          5.638820648193359,
          13.333625793457031,
          2.808513879776001,
          11.00089168548584,
          13.84249496459961,
          13.52345085144043,
          7.440549850463867,
          -3.538652181625366,
          9.150875091552734,
          0.414329469203949,
          -7.9814934730529785,
          11.956379890441895,
          -1.959297776222229,
          0.5057612061500549,
          -4.653482913970947,
          10.950650215148926,
          -0.16073815524578094,
          -7.53024435043335,
          13.272608757019043,
          -10.46643352508545,
          2.357945442199707,
          -4.55920934677124,
          -10.729097366333008,
          -2.858414888381958,
          3.4525911808013916,
          1.5248887538909912,
          -8.433329582214355,
          10.625162124633789,
          -11.773234367370605,
          3.7622578144073486,
          1.9780594110488892,
          -1.9661461114883423,
          -4.924747467041016,
          -12.165189743041992,
          -1.5761741399765015,
          -6.121496677398682,
          -6.0909199714660645,
          -3.5746917724609375,
          8.949464797973633,
          -1.1469720602035522,
          3.4525296688079834,
          10.303930282592773,
          11.438382148742676,
          -2.057094097137451,
          -1.458551287651062,
          0.7686927914619446,
          10.481684684753418,
          0.5076218843460083,
          7.586806297302246,
          5.470210552215576,
          -1.4592657089233398,
          4.528196334838867,
          -12.092765808105469,
          1.1489745378494263,
          1.149094820022583,
          6.247655391693115,
          -0.42876315116882324,
          8.629899024963379,
          -1.1774009466171265,
          -11.313127517700195,
          -2.2773923873901367,
          6.4964118003845215,
          8.668922424316406,
          -2.363450050354004,
          0.15725140273571014,
          7.439632415771484,
          -8.692784309387207,
          11.436858177185059,
          -10.931440353393555,
          -0.4286816418170929,
          8.668448448181152,
          -1.6815102100372314,
          -2.2607369422912598,
          13.845645904541016,
          10.941720962524414,
          -0.5905157327651978,
          5.989755630493164,
          9.858977317810059,
          -8.994887351989746,
          3.167616844177246,
          -1.9665430784225464,
          13.331278800964355,
          0.41163355112075806,
          10.890765190124512,
          8.390018463134766,
          -0.6762634515762329,
          -11.764724731445312,
          1.5902302265167236,
          -7.817014217376709,
          0.2726491391658783,
          -0.2880736291408539,
          -10.907031059265137,
          1.7250007390975952,
          5.468748092651367,
          -12.092733383178711,
          13.671119689941406,
          -8.41446590423584,
          -3.3645734786987305,
          7.589928150177002,
          5.472952842712402,
          -1.0098576545715332,
          -11.310262680053711,
          3.768240213394165,
          -11.773234367370605,
          -1.1786127090454102,
          -1.3768185377120972,
          12.77785873413086,
          -10.359807014465332,
          -11.167708396911621,
          12.250831604003906,
          -6.122705936431885,
          -10.258567810058594,
          0.2725605070590973,
          8.626873016357422,
          2.6294164657592773,
          10.61192798614502,
          2.1703290939331055,
          8.751574516296387,
          5.464743137359619,
          -1.0225791931152344,
          -11.899519920349121,
          7.581966876983643,
          -1.720726728439331,
          5.470056533813477,
          -7.483096122741699,
          -0.5622824430465698,
          -6.91237735748291,
          9.206381797790527,
          -0.49584829807281494,
          8.951501846313477,
          10.401638984680176,
          -3.0318307876586914,
          11.017239570617676,
          5.2683634757995605,
          10.495104789733887,
          1.1470052003860474,
          -10.59422779083252,
          -8.692784309387207,
          -8.41280460357666,
          -11.42121696472168,
          -1.966150164604187,
          -9.477551460266113,
          4.135191917419434,
          -1.1176321506500244,
          -1.0228136777877808,
          -11.782052993774414,
          -1.6831872463226318,
          -11.421002388000488,
          0.6502223014831543,
          -10.407421112060547,
          -1.7208195924758911,
          -2.585787773132324,
          10.30979061126709,
          -6.570104122161865,
          -3.5398781299591064,
          -3.3280904293060303,
          0.6500265598297119,
          -8.493324279785156,
          1.5939348936080933,
          12.998456954956055,
          12.213229179382324,
          -5.174936294555664,
          -1.0017585754394531,
          5.994231700897217,
          -4.362878322601318,
          -2.7257120609283447,
          -12.013587951660156,
          10.934430122375488,
          4.339475631713867,
          -1.3346718549728394,
          10.7147216796875,
          -1.110369086265564,
          11.459441184997559,
          -0.49923262000083923,
          11.946887016296387,
          -0.49623942375183105,
          -3.3270323276519775,
          7.5850114822387695,
          -9.867426872253418,
          4.054152488708496,
          -5.113821506500244,
          -9.479025840759277,
          13.091872215270996,
          -0.051543328911066055,
          8.370309829711914,
          -10.402060508728027,
          -9.483579635620117,
          10.740303039550781,
          10.755722999572754,
          -0.49698251485824585,
          6.4842424392700195,
          -10.531376838684082,
          -4.558533668518066,
          1.1481289863586426,
          9.206381797790527,
          10.306057929992676,
          -11.765823364257812,
          -0.8996583819389343,
          -1.8819031715393066,
          -10.59422779083252,
          5.0218186378479,
          12.60255241394043,
          -0.047787297517061234,
          -1.6452512741088867,
          -11.906047821044922,
          8.121155738830566,
          2.9088311195373535,
          -3.3681132793426514,
          -8.197023391723633,
          -0.16198281943798065,
          -4.1235527992248535,
          10.774470329284668,
          -2.8807766437530518,
          -1.6817567348480225,
          -1.5118151903152466,
          -6.570040702819824,
          8.371819496154785,
          12.602298736572266,
          13.786802291870117,
          -1.3776469230651855,
          -0.16250835359096527,
          5.644424915313721,
          0.5817820429801941,
          5.961350917816162,
          -2.8729302883148193,
          13.272857666015625,
          11.951699256896973,
          -0.3821357786655426,
          -10.720434188842773,
          5.990263938903809,
          -6.457505702972412,
          -0.7017079591751099,
          -11.63213062286377,
          -10.6662015914917,
          -9.512744903564453,
          -10.967253684997559,
          9.548415184020996,
          12.778708457946777,
          -5.327183246612549,
          12.615535736083984,
          -0.8991369605064392,
          -8.429264068603516,
          -11.763232231140137,
          -0.9106228351593018,
          -7.024295330047607,
          -0.38977524638175964,
          13.675467491149902,
          -12.116250991821289,
          10.897314071655273,
          10.481685638427734,
          0.7836697101593018,
          0.27269628643989563,
          -1.7208590507507324,
          -1.022620439529419,
          -11.479728698730469,
          11.180251121520996,
          -5.327363014221191,
          -2.1942992210388184,
          -3.577099561691284,
          -1.411926507949829,
          1.1470052003860474,
          -10.919024467468262,
          -5.856480598449707,
          0.10747440904378891,
          2.905730724334717,
          -8.483684539794922,
          -0.38271066546440125,
          -0.0486736036837101,
          -0.49621251225471497,
          6.248188018798828,
          -0.2144087553024292,
          -2.20926833152771,
          -10.7056303024292,
          -10.567184448242188,
          10.675302505493164,
          -0.047611430287361145,
          13.27132511138916,
          -7.5312299728393555,
          -0.6276780366897583,
          3.0123236179351807,
          7.764387130737305,
          -1.2692919969558716,
          -1.9662662744522095,
          -4.217748641967773,
          8.370896339416504,
          -1.2385450601577759,
          -0.8407641053199768,
          13.523776054382324,
          0.9690542817115784,
          -1.2089805603027344,
          -9.996533393859863,
          0.7703146934509277,
          7.028587341308594,
          -12.16640853881836,
          1.3343987464904785,
          -0.9102648496627808,
          9.967071533203125,
          -11.307184219360352,
          10.774669647216797,
          -11.763219833374023,
          2.6589019298553467,
          8.074658393859863,
          -0.137486532330513,
          -12.171014785766602,
          -3.0222041606903076,
          -9.482383728027344,
          6.361124515533447,
          -6.296555519104004,
          -4.219340801239014,
          -12.712665557861328,
          -5.576138019561768,
          -0.6273840665817261,
          -11.137795448303223,
          1.2820314168930054,
          10.409460067749023,
          -8.989761352539062,
          13.562944412231445,
          -4.771761894226074,
          6.747897624969482,
          2.239591121673584,
          -0.9016116261482239,
          5.960485935211182,
          8.078926086425781,
          -3.3304736614227295,
          1.1484876871109009,
          -12.069390296936035,
          -0.7017928957939148,
          4.1411848068237305,
          -7.908056735992432,
          4.540318012237549,
          -1.0703376531600952,
          -1.1366522312164307,
          -5.686402320861816,
          -7.197371959686279,
          -3.876194477081299,
          -6.417418956756592,
          -0.49576470255851746,
          -8.591071128845215,
          13.831236839294434,
          -6.45548152923584,
          -1.1106176376342773,
          -7.122221946716309,
          -0.8404373526573181,
          -0.3817444145679474,
          -7.5302734375,
          0.5790709853172302,
          7.773928642272949,
          -0.9960688948631287,
          -11.633394241333008,
          -2.3635473251342773,
          5.470612525939941,
          -1.0228015184402466,
          -4.013954162597656,
          -8.9954195022583,
          -11.137795448303223,
          3.1677908897399902,
          -12.092775344848633,
          -1.1366500854492188,
          9.149923324584961,
          1.8370130062103271,
          12.268143653869629,
          -2.057094097137451,
          12.781744956970215,
          -5.699265003204346,
          -1.5766384601593018,
          -1.26924467086792,
          7.590224266052246,
          -8.985620498657227,
          -9.480385780334473,
          -1.881137728691101,
          -0.5017751455307007,
          -3.327209234237671,
          4.052901268005371,
          -0.04911578819155693,
          1.9535199403762817,
          6.248249530792236,
          13.065606117248535,
          -0.8409121036529541,
          -0.5626477599143982,
          -1.1466327905654907,
          -10.258567810058594,
          11.565320014953613,
          13.272923469543457,
          4.522116184234619,
          -5.977882385253906,
          -0.7017712593078613,
          -6.168479919433594,
          -3.5388877391815186,
          -2.278862237930298,
          -0.21436621248722076,
          4.134806156158447,
          4.0517964363098145,
          -5.174325466156006,
          -1.8811156749725342,
          7.988195419311523,
          -2.5842628479003906,
          4.053140163421631,
          5.189868927001953,
          -1.0665985345840454,
          4.158045768737793,
          -1.0064332485198975,
          -3.0845510959625244,
          8.751574516296387,
          1.0196430683135986,
          -5.173453330993652,
          -1.5766533613204956,
          11.969109535217285,
          -10.928890228271484,
          -2.2820403575897217,
          0.555180013179779,
          -0.4962124824523926,
          -0.38927748799324036,
          7.989924907684326,
          7.595872402191162,
          10.967817306518555,
          -0.16259343922138214,
          -3.01668381690979,
          11.485812187194824,
          11.572565078735352,
          9.458805084228516,
          10.898345947265625,
          5.468764781951904,
          7.990084648132324,
          9.14981460571289,
          0.4178820252418518,
          -1.5757614374160767,
          9.215865135192871,
          7.9910888671875,
          -4.741042137145996,
          0.028043780475854874,
          2.8053932189941406,
          7.739809036254883,
          4.338076114654541,
          -11.898872375488281,
          11.815178871154785,
          0.11043737828731537,
          -10.155652046203613,
          -7.124524116516113,
          -6.678517818450928,
          12.777396202087402,
          13.84382438659668,
          13.065534591674805,
          10.760725021362305,
          -5.3281707763671875,
          3.692857503890991,
          -1.9650838375091553,
          -10.33814525604248,
          -9.002424240112305,
          -6.292705059051514,
          7.441861629486084,
          2.8044450283050537,
          -11.890554428100586,
          1.0170711278915405,
          11.939057350158691,
          -0.5908174514770508,
          -3.6823580265045166,
          13.43299388885498,
          -6.70004940032959,
          2.9069015979766846,
          0.045303825289011,
          -7.8151116371154785,
          -2.7147388458251953,
          -6.569900035858154,
          -4.218214988708496,
          -5.700183868408203,
          8.122957229614258,
          -2.8480355739593506,
          -12.180351257324219,
          -1.6504138708114624,
          1.147749900817871,
          5.989941120147705,
          13.831725120544434,
          -5.700075626373291,
          4.337456226348877,
          7.599502086639404,
          -6.678629398345947,
          -3.877110481262207,
          13.831191062927246,
          -6.570096492767334,
          -0.1370113492012024,
          12.398896217346191,
          5.993905067443848,
          -3.876194477081299,
          13.793159484863281,
          -5.969648838043213,
          -0.03090319037437439,
          0.38688820600509644,
          -7.199456691741943,
          -7.020375728607178,
          -4.768185138702393,
          -7.53006649017334,
          3.2438278198242188,
          10.9358549118042,
          -9.574650764465332,
          -1.6525574922561646,
          10.374384880065918,
          2.239591121673584,
          -1.0222547054290771,
          -0.3889916241168976,
          -8.429410934448242,
          8.067975044250488,
          -9.867130279541016,
          -8.436830520629883,
          -2.2415289878845215,
          -4.386049270629883,
          -8.4143648147583,
          -6.572021961212158,
          -0.4283536672592163,
          -2.0568559169769287,
          -4.046351909637451,
          5.958000659942627,
          3.4524893760681152,
          -12.180397987365723,
          -6.258405685424805,
          -2.2554397583007812,
          -3.1975717544555664,
          -1.069743037223816,
          -1.459133505821228,
          -11.316118240356445,
          4.0514631271362305,
          -4.011706352233887,
          -1.178840160369873,
          4.62676477432251,
          10.890765190124512,
          7.58432149887085,
          6.358762264251709,
          -6.678517818450928,
          -1.7207911014556885,
          -6.119054794311523,
          5.024923801422119,
          -3.3299832344055176,
          -3.6835529804229736,
          9.852453231811523,
          -1.1101864576339722,
          -2.5852367877960205,
          4.584870338439941,
          -4.559368133544922,
          -0.76231849193573,
          2.371642589569092,
          -12.12585163116455,
          3.241175889968872,
          12.837456703186035,
          13.763450622558594,
          -0.03313027694821358,
          1.2831019163131714,
          -0.38360944390296936,
          -0.9037813544273376,
          -8.124354362487793,
          7.986731052398682,
          -2.187401056289673,
          -1.6450954675674438,
          -0.047787297517061234,
          -8.982379913330078,
          -12.181396484375,
          7.035968780517578,
          4.909271240234375,
          -2.5838966369628906,
          -0.9103974103927612,
          8.66947078704834,
          -0.5893392562866211,
          -3.0842185020446777,
          4.904057502746582,
          0.26334813237190247,
          0.7819195985794067,
          -8.436691284179688,
          1.726738691329956,
          11.956184387207031,
          -2.4696218967437744,
          -1.4589121341705322,
          4.135758399963379,
          -1.720720648765564,
          10.757549285888672,
          0.9649003148078918,
          -2.7278261184692383,
          -2.8646368980407715,
          -1.6451890468597412,
          -12.180142402648926,
          -2.1311469078063965,
          -0.21415401995182037,
          -7.483327388763428,
          -0.5017751455307007,
          -1.5120517015457153,
          -3.008732557296753,
          -3.6820123195648193,
          8.432586669921875,
          13.330089569091797,
          5.469366550445557,
          -0.4970463514328003,
          2.797478437423706,
          -10.932530403137207,
          -8.978845596313477,
          -6.168264389038086,
          2.659743070602417,
          -9.868077278137207,
          -2.2607367038726807,
          5.989874839782715,
          9.205942153930664,
          -1.7998974323272705,
          -0.3920145332813263,
          0.5728394985198975,
          10.774072647094727,
          10.702054977416992,
          -1.3000767230987549,
          1.1481289863586426,
          8.668695449829102,
          -7.198832988739014,
          0.40961143374443054,
          -3.53817081451416,
          8.629899024963379,
          5.156816482543945,
          -8.122791290283203,
          -8.99323844909668,
          -12.001486778259277,
          -3.577296733856201,
          4.627451419830322,
          -8.988762855529785,
          -0.21235188841819763,
          3.243314266204834,
          -12.069121360778809,
          1.5941718816757202,
          12.268142700195312,
          -6.122619152069092,
          -6.121065139770508,
          -1.5120790004730225,
          10.613600730895996,
          -12.068860054016113,
          -8.9954195022583,
          -7.531430721282959,
          -3.3284912109375,
          10.9358549118042,
          4.627597332000732,
          -6.6796393394470215,
          -9.868228912353516,
          -10.73607349395752,
          -5.174643039703369,
          -1.6528955698013306,
          4.1321210861206055,
          -6.913449764251709,
          2.3539788722991943,
          -8.198516845703125,
          -10.656656265258789,
          3.3976614475250244,
          -1.4122674465179443,
          -10.422125816345215,
          -8.589244842529297,
          0.1574794501066208,
          -12.162765502929688,
          -9.477934837341309,
          -1.372454047203064,
          13.433944702148438,
          0.4103151559829712,
          12.402095794677734,
          -11.47930908203125,
          12.400118827819824,
          -0.13836073875427246,
          8.370333671569824,
          8.626873016357422,
          -11.777149200439453,
          -5.172175407409668,
          1.281480312347412,
          2.7980029582977295,
          8.067764282226562,
          -10.24013900756836,
          4.338502883911133,
          -0.02928675152361393,
          -3.199150562286377,
          -11.630813598632812,
          2.2420365810394287,
          10.37604808807373,
          -4.741030693054199,
          -1.6810907125473022,
          -0.38900914788246155,
          -3.084350347518921,
          5.961350917816162,
          -12.000178337097168,
          13.786377906799316,
          -1.80027174949646,
          -12.003528594970703,
          1.5183866024017334,
          -0.9104601144790649,
          -0.5029796957969666,
          3.2437496185302734,
          2.1692981719970703,
          13.065165519714355,
          -5.994543552398682,
          7.439632892608643,
          -10.539656639099121,
          -12.125591278076172,
          -1.459289312362671,
          -7.021805763244629,
          1.518301010131836,
          8.369491577148438,
          13.564011573791504,
          -9.47928237915039,
          -8.989557266235352,
          11.008097648620605,
          8.38021469116211,
          1.9780036211013794,
          6.4858551025390625,
          8.11906623840332,
          -10.145267486572266,
          2.3645219802856445,
          6.816560745239258,
          -1.1468100547790527,
          5.733028411865234,
          5.460152626037598,
          12.851644515991211,
          -6.547852516174316,
          -4.363304138183594,
          2.3645219802856445,
          -2.260854721069336,
          -0.5905795097351074,
          0.3868590295314789,
          4.584870338439941,
          5.963042736053467,
          -5.115076541900635,
          1.724968671798706,
          -7.483096122741699,
          -6.72885799407959,
          5.993905067443848,
          -2.2792766094207764,
          -0.6762634515762329,
          -0.9103043079376221,
          10.7742280960083,
          -1.1102491617202759,
          -4.653751373291016,
          12.37073040008545,
          -3.576603889465332,
          -3.1945414543151855,
          -1.3000767230987549,
          8.74972915649414,
          -0.36156991124153137,
          0.408914178609848,
          -7.981487274169922,
          -10.152775764465332,
          -2.1573197841644287,
          3.452101230621338,
          -1.2997387647628784,
          -12.162447929382324,
          -0.8409120440483093,
          -11.898771286010742,
          -0.8299065828323364,
          -7.981992244720459,
          -11.98901653289795,
          1.8753522634506226,
          6.503353595733643,
          10.773855209350586,
          0.8078820705413818,
          9.898941040039062,
          10.412779808044434,
          1.1481112241744995,
          7.7469282150268555,
          7.584774971008301,
          13.6702299118042,
          -1.8818703889846802,
          13.786672592163086,
          -4.217367649078369,
          0.6472649574279785,
          7.44059944152832,
          -11.388860702514648,
          6.3582868576049805,
          -11.312853813171387,
          8.752264022827148,
          -6.166571617126465,
          -1.0039341449737549,
          -1.4120506048202515,
          -0.36067309975624084,
          2.6300384998321533,
          1.1462675333023071,
          -0.676138162612915,
          -2.131147623062134,
          -1.6517266035079956,
          12.777571678161621,
          13.842839241027832,
          3.689013719558716,
          2.904627799987793,
          -8.590219497680664,
          11.950698852539062,
          -11.899823188781738,
          5.265875339508057,
          -3.539503574371338,
          -11.999814987182617,
          -1.881889820098877,
          -2.647006034851074,
          -5.989562511444092,
          -3.8763129711151123,
          5.1891045570373535,
          -0.42870184779167175,
          9.460750579833984,
          -11.999579429626465,
          5.958005905151367,
          -1.0703259706497192,
          11.137018203735352,
          4.908354759216309,
          3.767197847366333,
          -5.173623085021973,
          7.760748863220215,
          -0.38886359333992004,
          -9.584531784057617,
          -4.559228420257568,
          4.90874719619751,
          7.987919330596924,
          -3.5391972064971924,
          12.386759757995605,
          0.5076785683631897,
          3.397948741912842,
          -1.372639536857605,
          7.192729473114014,
          -1.681402325630188,
          4.145480632781982,
          -6.167883396148682,
          -0.9693331122398376,
          -2.724356174468994,
          -0.3613225221633911,
          -4.770392894744873,
          -0.2123728096485138,
          -2.6336305141448975,
          -12.164969444274902,
          3.1671674251556396,
          -2.4706661701202393,
          -1.2066019773483276,
          9.966447830200195,
          -1.022579312324524,
          -0.5622353553771973,
          -12.171765327453613,
          9.911592483520508,
          -2.280172348022461,
          2.660593032836914,
          -6.569404125213623,
          -8.590373039245605,
          -2.1311469078063965,
          -2.982167959213257,
          -10.975805282592773,
          -0.2813246548175812,
          10.728924751281738,
          -9.979363441467285,
          0.6467075943946838,
          -10.269845008850098,
          2.1697349548339844,
          9.916742324829102,
          -1.3818073272705078,
          9.455416679382324,
          1.3384984731674194,
          -6.682375907897949,
          1.587950348854065,
          -1.238396167755127,
          -7.19730281829834,
          -1.3873586654663086,
          -7.0262627601623535,
          9.546405792236328,
          -2.187014102935791,
          -12.16973876953125,
          1.9382244348526,
          -9.867319107055664,
          8.66934871673584,
          -11.89916706085205,
          12.777857780456543,
          -1.2424715757369995,
          9.549227714538574,
          2.627963066101074,
          -12.092775344848633,
          -7.815690517425537,
          -12.070274353027344,
          -12.138416290283203,
          -0.8403411507606506,
          -6.343125820159912,
          10.11291217803955,
          11.18136978149414,
          -4.922766208648682,
          4.518022060394287,
          -4.047354698181152,
          1.0149452686309814,
          5.27706241607666,
          13.786377906799316,
          -0.8305732011795044,
          4.626823425292969,
          -2.28326416015625,
          -7.020897388458252,
          8.370573043823242,
          1.9382244348526,
          -10.698412895202637,
          9.68305492401123,
          2.659743070602417,
          -6.387749671936035,
          8.376078605651855,
          -2.4696953296661377,
          10.770113945007324,
          8.377720832824707,
          -1.3767966032028198,
          -1.8810162544250488,
          2.3593544960021973,
          10.624024391174316,
          -1.6534719467163086,
          -6.91237735748291,
          -9.866721153259277,
          -5.175408363342285,
          -0.7025466561317444,
          5.989542007446289,
          -8.990789413452148,
          9.855384826660156,
          1.5902304649353027,
          -1.238505482673645,
          -8.993268013000488,
          -1.178858995437622,
          10.492960929870605,
          5.190466403961182,
          13.793651580810547,
          -9.983748435974121,
          -9.868760108947754,
          9.205609321594238,
          -1.1106683015823364,
          -2.2823407649993896,
          12.311293601989746,
          -0.6763186454772949,
          -2.7131824493408203,
          12.400771141052246,
          -9.273537635803223,
          1.5260908603668213,
          -1.962805986404419,
          -6.167125701904297,
          8.11906623840332,
          11.04465103149414,
          -3.36777663230896,
          -5.174402713775635,
          -3.036980390548706,
          -5.115116596221924,
          11.459647178649902,
          9.96678352355957,
          13.562417030334473,
          2.9079267978668213,
          1.3347198963165283,
          1.145850658416748,
          -11.132600784301758,
          0.38643044233322144,
          4.151068687438965,
          -8.49052906036377,
          -4.741013050079346,
          9.903364181518555,
          1.5956212282180786,
          2.3812358379364014,
          -1.2999546527862549,
          11.566765785217285,
          -4.366545677185059,
          10.952604293823242,
          -1.3922946453094482,
          1.5184959173202515,
          8.378557205200195,
          0.6503394246101379,
          4.338777542114258,
          13.67568302154541,
          0.5076214671134949,
          -0.9690102338790894,
          -3.0836565494537354,
          -4.363094329833984,
          6.8158698081970215,
          -6.303186893463135,
          -0.9107218384742737,
          -4.363215446472168,
          12.837621688842773,
          10.409460067749023
         ],
         "z": [
          0.9815298914909363,
          -3.7276716232299805,
          6.188231468200684,
          5.405585289001465,
          0.4053798019886017,
          -7.958522796630859,
          -5.5761027336120605,
          9.57361125946045,
          12.55810546875,
          -3.1867268085479736,
          10.156126976013184,
          1.6127781867980957,
          8.076325416564941,
          -8.593781471252441,
          1.6614301204681396,
          5.112697124481201,
          4.986064910888672,
          -9.747879981994629,
          0.34433943033218384,
          4.4402875900268555,
          3.2653515338897705,
          -0.5550098419189453,
          -13.521063804626465,
          3.795466184616089,
          -8.239118576049805,
          6.199573516845703,
          12.463844299316406,
          -5.908841609954834,
          2.449997901916504,
          -8.036173820495605,
          -1.1172069311141968,
          8.654831886291504,
          4.201249122619629,
          -13.635313987731934,
          0.8969196081161499,
          -4.582952976226807,
          1.6618726253509521,
          -13.299637794494629,
          -8.217402458190918,
          -10.27619743347168,
          1.612491488456726,
          4.597988605499268,
          1.8228716850280762,
          -7.935949325561523,
          5.272535800933838,
          4.7840046882629395,
          -3.4579551219940186,
          -10.909381866455078,
          2.5774500370025635,
          -1.7076499462127686,
          9.12187671661377,
          6.193065166473389,
          12.724268913269043,
          6.983857154846191,
          -0.9757989645004272,
          6.082785606384277,
          -3.3551621437072754,
          -1.7777626514434814,
          6.0158915519714355,
          6.808390140533447,
          1.3726141452789307,
          -8.863785743713379,
          6.226984024047852,
          -12.441901206970215,
          1.225541353225708,
          4.59831428527832,
          -2.0634350776672363,
          -7.887660980224609,
          1.1207647323608398,
          1.1600260734558105,
          0.8869771361351013,
          -14.204200744628906,
          -8.217171669006348,
          3.0419058799743652,
          -14.035265922546387,
          10.663025856018066,
          -6.402352809906006,
          -0.6850078105926514,
          -4.675772666931152,
          -10.278861045837402,
          1.2256276607513428,
          -6.182514667510986,
          6.129189491271973,
          -14.072234153747559,
          -13.637704849243164,
          0.43507692217826843,
          -6.503972053527832,
          6.983728408813477,
          4.987127304077148,
          -1.4850096702575684,
          -13.633881568908691,
          1.3434834480285645,
          2.069509267807007,
          0.5289104580879211,
          0.5286279916763306,
          -2.335028886795044,
          10.478229522705078,
          5.405139923095703,
          -10.731887817382812,
          0.1987007111310959,
          12.680249214172363,
          -2.585336208343506,
          -4.453228950500488,
          -13.52032470703125,
          8.076290130615234,
          -3.458268165588379,
          -3.1854188442230225,
          6.1281890869140625,
          5.899941444396973,
          10.477034568786621,
          -4.454524040222168,
          -0.1902022510766983,
          -13.718437194824219,
          5.273292064666748,
          6.074894905090332,
          -5.166320323944092,
          1.701054573059082,
          5.79686164855957,
          8.172102928161621,
          1.6612318754196167,
          -14.202948570251465,
          4.595846176147461,
          -1.7032079696655273,
          -8.333834648132324,
          -8.234697341918945,
          -5.688241004943848,
          4.54225492477417,
          0.4048093259334564,
          -4.204590320587158,
          7.698153018951416,
          9.811505317687988,
          -0.43252936005592346,
          4.199322700500488,
          3.8588850498199463,
          2.0695455074310303,
          4.945867538452148,
          -3.507148504257202,
          -11.296961784362793,
          4.988645076751709,
          3.8628315925598145,
          12.321998596191406,
          0.19772130250930786,
          1.1597098112106323,
          1.1207646131515503,
          -10.731734275817871,
          12.654205322265625,
          6.164771556854248,
          6.727183818817139,
          5.538585186004639,
          3.753835916519165,
          10.665096282958984,
          6.633114814758301,
          7.698425769805908,
          5.403837203979492,
          0.8889198899269104,
          -6.829228401184082,
          3.3711209297180176,
          2.450921058654785,
          3.856898069381714,
          -8.594645500183105,
          4.270346641540527,
          4.984460353851318,
          -14.255467414855957,
          -1.4862172603607178,
          9.569599151611328,
          11.038732528686523,
          -5.295443534851074,
          -4.902200698852539,
          10.767946243286133,
          -4.676750659942627,
          5.950820446014404,
          -12.031933784484863,
          -7.423642158508301,
          1.5232850313186646,
          -6.476600170135498,
          5.402535915374756,
          6.7460503578186035,
          -3.1854188442230225,
          -3.5090243816375732,
          5.134374141693115,
          -14.204179763793945,
          7.679688930511475,
          2.9337539672851562,
          12.597498893737793,
          -8.59620475769043,
          1.1248722076416016,
          -0.18658515810966492,
          5.134982109069824,
          6.598514080047607,
          6.484369277954102,
          -14.25572681427002,
          -13.049943923950195,
          -6.173888683319092,
          10.3380126953125,
          -10.911697387695312,
          12.328545570373535,
          6.5991597175598145,
          8.65009880065918,
          0.3997850716114044,
          3.956594228744507,
          3.9117538928985596,
          -1.117569923400879,
          12.309606552124023,
          1.7002317905426025,
          11.798576354980469,
          -12.739606857299805,
          1.7382622957229614,
          6.067647457122803,
          -0.07086768746376038,
          -12.695853233337402,
          -7.997791290283203,
          -9.742542266845703,
          6.14900541305542,
          -4.687270641326904,
          3.6461987495422363,
          10.769307136535645,
          12.32865047454834,
          4.98664665222168,
          -1.8129730224609375,
          0.3349249064922333,
          -7.904175758361816,
          7.6720099449157715,
          4.393853187561035,
          8.797304153442383,
          -8.240453720092773,
          -1.1321192979812622,
          7.66717004776001,
          -7.678329944610596,
          -7.154971122741699,
          10.769189834594727,
          4.43920373916626,
          6.799191951751709,
          -8.864484786987305,
          0.5289176106452942,
          -4.902200698852539,
          -6.178380489349365,
          4.542608737945557,
          12.087751388549805,
          -14.279502868652344,
          6.7460503578186035,
          3.56687068939209,
          4.022037506103516,
          8.79910659790039,
          -14.170989990234375,
          1.4340323209762573,
          5.218766212463379,
          2.0797441005706787,
          -11.287551879882812,
          -1.974108099937439,
          -3.35487699508667,
          -0.8325662612915039,
          3.1509785652160645,
          -12.382855415344238,
          -0.18893252313137054,
          -13.865927696228027,
          10.337414741516113,
          -4.219417572021484,
          4.022853374481201,
          5.114136219024658,
          12.652811050415039,
          -3.3544323444366455,
          1.6105269193649292,
          -1.3321267366409302,
          4.154988765716553,
          -12.402753829956055,
          6.016122341156006,
          6.187699794769287,
          0.14427189528942108,
          -0.7624232769012451,
          -2.064413070678711,
          -6.096105098724365,
          11.524118423461914,
          0.8122335076332092,
          -0.7800498604774475,
          -2.2008421421051025,
          -0.4160946011543274,
          2.7082300186157227,
          6.16552734375,
          -7.564939975738525,
          4.01898193359375,
          12.086556434631348,
          -2.0453684329986572,
          4.54334020614624,
          -7.408304214477539,
          9.966806411743164,
          -4.202949523925781,
          5.669586181640625,
          2.0654401779174805,
          -8.346197128295898,
          -6.503972053527832,
          -0.9475724101066589,
          7.6993913650512695,
          -14.257728576660156,
          -8.595200538635254,
          0.5074651837348938,
          3.3144710063934326,
          -7.566070556640625,
          -0.19194257259368896,
          -0.6853182315826416,
          -13.344490051269531,
          5.402535915374756,
          -0.42880579829216003,
          -6.756645679473877,
          -2.5134377479553223,
          2.0833122730255127,
          8.659651756286621,
          0.1441449224948883,
          8.801284790039062,
          10.77027416229248,
          -2.334688186645508,
          9.475654602050781,
          -0.1766188144683838,
          -0.7664791941642761,
          6.640108585357666,
          -7.933090686798096,
          8.800440788269043,
          6.015803813934326,
          -1.7781051397323608,
          11.279412269592285,
          0.9807651042938232,
          -3.7422735691070557,
          -11.988916397094727,
          -14.2030611038208,
          -9.511706352233887,
          -8.240340232849121,
          -11.6010160446167,
          -6.829392433166504,
          4.785449028015137,
          5.803670883178711,
          -11.179291725158691,
          7.128021717071533,
          0.43489623069763184,
          4.719545841217041,
          2.706244468688965,
          4.986294746398926,
          -7.402920722961426,
          2.8539035320281982,
          0.19847555458545685,
          3.1508007049560547,
          4.5419697761535645,
          2.5069267749786377,
          -3.992064952850342,
          9.141895294189453,
          2.703890562057495,
          -12.061403274536133,
          7.667098045349121,
          1.7967954874038696,
          -5.981036186218262,
          -9.507850646972656,
          1.7128742933273315,
          -7.184838771820068,
          11.277641296386719,
          -0.11374901235103607,
          -0.06287179887294769,
          5.955429553985596,
          -2.839510679244995,
          5.801821231842041,
          11.552203178405762,
          1.8975212574005127,
          0.7950230240821838,
          12.088272094726562,
          4.156472682952881,
          -3.982147455215454,
          12.328933715820312,
          0.5281156897544861,
          3.6995201110839844,
          11.525604248046875,
          1.2508114576339722,
          -1.8866947889328003,
          1.3423445224761963,
          -9.175774574279785,
          12.415389060974121,
          -1.2589777708053589,
          -4.940864086151123,
          -10.200634002685547,
          -6.060306549072266,
          10.771644592285156,
          -2.090358018875122,
          5.404242992401123,
          -6.095229148864746,
          -9.744789123535156,
          -1.6628737449645996,
          -6.830238342285156,
          0.14435067772865295,
          -1.777790904045105,
          -1.3369449377059937,
          -3.730708599090576,
          12.307466506958008,
          0.8128299713134766,
          -13.521063804626465,
          3.860400438308716,
          -8.596023559570312,
          11.994406700134277,
          8.171304702758789,
          -0.11374913156032562,
          1.6614301204681396,
          2.0695645809173584,
          12.415390014648438,
          2.5772430896759033,
          0.9609066247940063,
          3.9343254566192627,
          -14.072234153747559,
          6.164116382598877,
          10.953121185302734,
          -14.033378601074219,
          -11.99154281616211,
          4.9894938468933105,
          -2.847853183746338,
          7.673227787017822,
          -14.280116081237793,
          -4.687610626220703,
          12.329368591308594,
          0.33668792247772217,
          8.800275802612305,
          0.9045281410217285,
          -2.33589506149292,
          6.103036880493164,
          -6.825857639312744,
          11.037720680236816,
          -10.274016380310059,
          6.633114814758301,
          3.473379373550415,
          6.015492916107178,
          1.3445078134536743,
          -1.3966763019561768,
          11.525801658630371,
          -1.3934247493743896,
          -10.911578178405762,
          12.67993450164795,
          9.476585388183594,
          2.9335432052612305,
          0.33748680353164673,
          -1.117477536201477,
          -14.279481887817383,
          2.227348804473877,
          -13.056431770324707,
          0.33607104420661926,
          -1.1527154445648193,
          12.431015968322754,
          1.2496691942214966,
          12.319623947143555,
          -0.5541683435440063,
          2.450921058654785,
          -0.5062017440795898,
          -1.117262363433838,
          -14.034049034118652,
          3.640221118927002,
          5.899118423461914,
          12.680601119995117,
          -1.5355119705200195,
          10.770275115966797,
          -4.205573558807373,
          2.228388786315918,
          2.1214332580566406,
          -8.330338478088379,
          -3.354198455810547,
          -12.074997901916504,
          6.172536849975586,
          3.475355625152588,
          -5.1402907371521,
          -7.961863040924072,
          3.858884334564209,
          2.2284655570983887,
          2.5788471698760986,
          -1.7094796895980835,
          -14.037711143493652,
          5.598816871643066,
          2.228236198425293,
          -8.532200813293457,
          0.24770496785640717,
          1.8215274810791016,
          -3.7336673736572266,
          -0.06795093417167664,
          4.270784378051758,
          6.495507717132568,
          -2.5252020359039307,
          -1.469164490699768,
          -1.663252353668213,
          -1.5372471809387207,
          6.163443565368652,
          5.272344589233398,
          6.102954864501953,
          -7.418300628662109,
          -7.564821720123291,
          2.5861716270446777,
          12.722306251525879,
          6.449042797088623,
          -2.8282222747802734,
          -5.959543704986572,
          -3.458963394165039,
          1.8209073543548584,
          1.4314099550247192,
          -0.5050245523452759,
          3.6524858474731445,
          -5.168235778808594,
          12.164217948913574,
          5.9170427322387695,
          -5.66257905960083,
          2.081515312194824,
          -1.2897058725357056,
          -4.206250190734863,
          -12.765113830566406,
          10.339938163757324,
          -9.509421348571777,
          10.952412605285645,
          5.219676494598389,
          -12.468120574951172,
          2.6983983516693115,
          12.709400177001953,
          5.400787353515625,
          -2.0649147033691406,
          5.40504789352417,
          10.952508926391602,
          -0.06506720930337906,
          2.1214029788970947,
          -1.5371227264404297,
          -10.199706077575684,
          5.404059410095215,
          10.33830451965332,
          9.141196250915527,
          6.1925272941589355,
          1.6974602937698364,
          -10.200634002685547,
          5.112563610076904,
          -1.3945279121398926,
          -2.929344415664673,
          7.3433380126953125,
          -4.9484429359436035,
          9.970074653625488,
          11.554462432861328,
          -1.7777947187423706,
          2.21364426612854,
          6.069280624389648,
          -2.1629321575164795,
          12.71167278289795,
          2.999159336090088,
          0.7950230240821838,
          -8.592272758483887,
          -4.20167350769043,
          -2.056389808654785,
          -3.980914831161499,
          -1.8102848529815674,
          -2.0176138877868652,
          -0.30655381083488464,
          -9.186593055725098,
          -3.5062882900238037,
          10.339617729187012,
          10.475641250610352,
          -14.071968078613281,
          -9.851757049560547,
          4.154157638549805,
          1.2255492210388184,
          2.699747323989868,
          -5.944335460662842,
          -0.24412395060062408,
          -11.670268058776855,
          12.48028564453125,
          -13.637249946594238,
          0.20004338026046753,
          0.3378686010837555,
          11.995347023010254,
          -10.735074996948242,
          -0.4533942937850952,
          -8.333836555480957,
          4.986091613769531,
          1.7955031394958496,
          -1.5372471809387207,
          -14.255329132080078,
          10.66819953918457,
          3.5701472759246826,
          12.328702926635742,
          12.163734436035156,
          5.795934200286865,
          -9.736528396606445,
          -13.154829978942871,
          3.2656099796295166,
          -8.863365173339844,
          -6.2585883140563965,
          1.3684731721878052,
          3.3638947010040283,
          2.213783025741577,
          4.200241565704346,
          5.530998229980469,
          -2.9242753982543945,
          -0.06156431883573532,
          0.14372259378433228,
          12.082114219665527,
          -3.8470072746276855,
          2.2276549339294434,
          -0.4223761260509491,
          -14.172334671020508,
          8.79910659790039,
          -2.851879596710205,
          2.6989922523498535,
          4.722224235534668,
          -0.810824990272522,
          -13.055032730102539,
          -7.404326438903809,
          -4.4533843994140625,
          -5.16473388671875,
          -0.5538880228996277,
          1.434222936630249,
          -2.116835832595825,
          -0.9374523758888245,
          -2.017002820968628,
          4.202284812927246,
          6.193193435668945,
          -13.30224609375,
          -13.635418891906738,
          2.936126947402954,
          -14.25638198852539,
          -7.14119291305542,
          5.799037456512451,
          -12.72899341583252,
          -12.424494743347168,
          -14.172844886779785,
          2.698981761932373,
          -0.36661964654922485,
          9.477705001831055,
          9.569361686706543,
          -4.687610626220703,
          -13.866357803344727,
          -12.092598915100098,
          12.164575576782227,
          -8.21975040435791,
          4.595330238342285,
          -1.4853885173797607,
          10.767295837402344,
          1.8189202547073364,
          -0.4244784414768219,
          -2.855919599533081,
          -1.3937734365463257,
          2.5057826042175293,
          -1.8106656074523926,
          -13.718437194824219,
          -2.0640361309051514,
          -4.900079727172852,
          -14.299494743347168,
          -4.202197551727295,
          -1.3274399042129517,
          3.1517434120178223,
          -7.456571102142334,
          -12.339686393737793,
          0.5289176106452942,
          -4.454472064971924,
          -4.947891712188721,
          0.3438366651535034,
          -10.914372444152832,
          5.405139923095703,
          1.3722625970840454,
          -3.8485212326049805,
          8.168767929077148,
          1.738219976425171,
          -0.6853064298629761,
          -0.45485979318618774,
          8.170002937316895,
          9.473647117614746,
          2.2137362957000732,
          3.6977858543395996,
          0.4034276604652405,
          3.9343249797821045,
          10.665526390075684,
          10.665825843811035,
          -13.865230560302734,
          -6.822984218597412,
          3.6985650062561035,
          8.171303749084473,
          -1.7778795957565308,
          12.327954292297363,
          6.06928014755249,
          -0.45476022362709045,
          -1.5371276140213013,
          -1.8132346868515015,
          6.231360912322998,
          -1.1176040172576904,
          12.712241172790527,
          2.9325525760650635,
          -5.296056747436523,
          1.3798859119415283,
          -1.9723325967788696,
          -0.7800322771072388,
          1.0723598003387451,
          -13.343108177185059,
          -1.125080943107605,
          -2.089834213256836,
          8.078660011291504,
          3.0438072681427,
          7.677094459533691,
          -13.031007766723633,
          5.91651725769043,
          -1.701835036277771,
          6.196535587310791,
          0.5071581602096558,
          6.1941819190979,
          9.142841339111328,
          -4.219170570373535,
          5.403837203979492,
          1.1222676038742065,
          -1.1170932054519653,
          -0.06273900717496872,
          1.818544864654541,
          -3.988489866256714,
          6.498048305511475,
          -0.06876861304044724,
          -2.932405710220337,
          -11.663217544555664,
          0.8118031024932861,
          0.7956173419952393,
          2.999879837036133,
          -8.532721519470215,
          -0.1875777691602707,
          -4.204288959503174,
          -0.5546326041221619,
          4.154988765716553,
          3.9973509311676025,
          5.111943244934082,
          -14.300701141357422,
          3.996553659439087,
          0.6207655668258667,
          -7.410262584686279,
          -4.688172817230225,
          2.2124578952789307,
          3.371584892272949,
          6.10269021987915,
          -1.4004944562911987,
          -3.458268165588379,
          6.5772271156311035,
          3.363612651824951,
          -13.634081840515137,
          9.971107482910156,
          0.6202372312545776,
          -4.218953609466553,
          5.802950382232666,
          7.6762919425964355,
          8.173087120056152,
          -7.445565700531006,
          2.337425708770752,
          0.8855283856391907,
          4.438711166381836,
          5.219113826751709,
          -1.4703874588012695,
          1.3725966215133667,
          -2.8870580196380615,
          -10.274093627929688,
          -1.782303810119629,
          3.854268789291382,
          4.195043563842773,
          -5.547988414764404,
          11.798892974853516,
          1.3725966215133667,
          -13.7184476852417,
          -5.1673102378845215,
          7.343195915222168,
          3.2656099796295166,
          4.158932209014893,
          -7.902230262756348,
          4.201229095458984,
          9.569599151611328,
          -5.685173034667969,
          1.6974602937698364,
          12.679697036743164,
          -5.6882405281066895,
          -7.406726837158203,
          3.151657819747925,
          -9.73786735534668,
          -0.9758715033531189,
          3.8682656288146973,
          -0.6850358247756958,
          -11.677241325378418,
          -12.339686393737793,
          2.4507715702056885,
          10.157331466674805,
          0.34366536140441895,
          9.123247146606445,
          -1.4698433876037598,
          -13.904595375061035,
          1.226127028465271,
          -12.337217330932617,
          3.0442941188812256,
          -6.825857639312744,
          4.271406173706055,
          0.02991214394569397,
          9.121284484863281,
          1.7370086908340454,
          0.7067862749099731,
          -2.5877044200897217,
          3.1508877277374268,
          6.20033073425293,
          -5.636173725128174,
          5.959601402282715,
          0.5289804339408875,
          -3.7460076808929443,
          4.986452579498291,
          4.946932792663574,
          -14.279664039611816,
          5.113010883331299,
          -9.511137008666992,
          6.6027398109436035,
          -3.4597911834716797,
          -0.551295816898346,
          1.79534912109375,
          0.1974339634180069,
          2.4507546424865723,
          -1.3933091163635254,
          12.314179420471191,
          -13.345124244689941,
          10.151776313781738,
          0.8888492584228516,
          5.40146017074585,
          -5.688377857208252,
          -0.36662009358406067,
          12.708325386047363,
          6.16387939453125,
          5.27274227142334,
          2.5852837562561035,
          2.085317373275757,
          -2.090651750564575,
          3.6417059898376465,
          4.270453453063965,
          1.525978922843933,
          -10.91157341003418,
          3.9954960346221924,
          -14.279524803161621,
          -0.4402173161506653,
          -1.3992761373519897,
          -10.200699806213379,
          -1.1513563394546509,
          10.476961135864258,
          -5.142526149749756,
          3.9963834285736084,
          4.152675628662109,
          -9.176475524902344,
          -7.805661201477051,
          -0.810249388217926,
          1.1606806516647339,
          -1.1172817945480347,
          -3.752265453338623,
          -4.203040599822998,
          -2.1563966274261475,
          -8.863473892211914,
          -0.8098145723342896,
          2.2281441688537598,
          -10.911698341369629,
          3.716522216796875,
          6.9837751388549805,
          1.0721690654754639,
          -13.03067398071289,
          2.013915538787842,
          -0.19131191074848175,
          1.2538642883300781,
          -1.3932772874832153,
          -7.983355522155762,
          -12.741847038269043,
          10.155014038085938,
          11.554102897644043,
          9.475774765014648,
          12.583097457885742,
          2.707137107849121,
          1.6625257730484009,
          -13.299637794494629,
          12.637303352355957,
          2.855851411819458,
          -8.594645500183105,
          11.038954734802246,
          2.703381299972534,
          -5.629969596862793,
          12.680397033691406,
          2.5043461322784424,
          10.336051940917969,
          -2.091107130050659,
          -0.3666316866874695,
          12.464083671569824,
          -0.41459858417510986,
          -3.7700304985046387,
          -5.656164646148682,
          7.1177144050598145,
          6.6033854484558105,
          6.4573540687561035,
          3.3705105781555176,
          -5.6282572746276855,
          12.65338134765625,
          -5.140319347381592,
          4.984663486480713,
          -1.5382344722747803,
          0.4082496464252472,
          -11.600911140441895,
          -4.941351413726807,
          12.659640312194824,
          9.972156524658203,
          2.709822177886963,
          -0.42268475890159607,
          2.7050042152404785,
          3.7998886108398438,
          -1.8095357418060303,
          -4.454880237579346,
          4.2715840339660645,
          6.164770603179932,
          12.610428810119629,
          2.7086598873138428,
          0.8890141844749451,
          2.0695645809173584,
          -4.207510948181152,
          3.6932713985443115,
          2.3760969638824463,
          -6.825020790100098,
          -6.018823623657227,
          -5.911614418029785,
          3.3128201961517334,
          -8.219775199890137,
          1.3438905477523804,
          -9.850976943969727,
          -0.5069711208343506,
          1.5218472480773926,
          5.111943244934082,
          0.029479121789336205,
          -0.45387589931488037,
          12.678961753845215,
          9.970187187194824,
          -4.219383239746094,
          3.7998886108398438,
          -0.7689275145530701,
          -5.371009349822998,
          2.5057826042175293,
          -6.025649547576904,
          -8.23904037475586,
          -13.302008628845215,
          -7.138251304626465,
          2.3358302116394043,
          12.652203559875488,
          -14.279707908630371,
          1.3739875555038452,
          -6.805304527282715,
          12.71037769317627,
          -5.295443534851074,
          -1.8084323406219482,
          -1.1177825927734375,
          11.525792121887207,
          -2.0644965171813965,
          -2.8412113189697266,
          5.7958879470825195,
          0.4048093855381012,
          -11.602803230285645,
          8.16960620880127,
          -10.733163833618164,
          -6.481130123138428,
          -1.1533517837524414,
          5.112504959106445,
          7.103060722351074,
          -1.8083869218826294,
          -4.901276588439941,
          -9.746347427368164,
          12.678789138793945,
          3.739635467529297,
          -5.689028739929199,
          -12.76888370513916,
          3.7898619174957275,
          -2.5070548057556152,
          4.595698833465576,
          12.723126411437988,
          -1.3934595584869385,
          5.219113826751709,
          -7.644182205200195,
          -11.290294647216797,
          -1.1174468994140625,
          -12.019083023071289,
          -7.902270793914795,
          6.148868083953857,
          2.853780508041382,
          5.803197860717773,
          2.0819437503814697,
          4.986000061035156,
          5.399135112762451,
          -0.11514521390199661,
          7.343649864196777,
          1.2507531642913818,
          8.652974128723145,
          -8.532779693603516,
          -5.633650302886963,
          0.401300311088562,
          1.3690978288650513,
          -12.338619232177734,
          3.475064754486084,
          11.797658920288086,
          6.085318088531494,
          12.669571876525879,
          0.6206592321395874,
          2.336721181869507,
          6.600455284118652,
          -0.06946001201868057,
          5.66949462890625,
          6.983727931976318,
          -7.982213020324707,
          -0.5541039705276489,
          11.79893970489502,
          -2.8856213092803955,
          -5.989717960357666,
          -7.410159587860107,
          11.798272132873535,
          4.202990531921387,
          5.955429553985596
         ]
        }
       ],
       "layout": {
        "coloraxis": {
         "colorbar": {
          "title": {
           "text": "Anomaly"
          }
         },
         "colorscale": [
          [
           0,
           "#0d0887"
          ],
          [
           0.1111111111111111,
           "#46039f"
          ],
          [
           0.2222222222222222,
           "#7201a8"
          ],
          [
           0.3333333333333333,
           "#9c179e"
          ],
          [
           0.4444444444444444,
           "#bd3786"
          ],
          [
           0.5555555555555556,
           "#d8576b"
          ],
          [
           0.6666666666666666,
           "#ed7953"
          ],
          [
           0.7777777777777778,
           "#fb9f3a"
          ],
          [
           0.8888888888888888,
           "#fdca26"
          ],
          [
           1,
           "#f0f921"
          ]
         ]
        },
        "height": 800,
        "legend": {
         "tracegroupgap": 0
        },
        "scene": {
         "aspectmode": "auto",
         "aspectratio": {
          "x": 1.0264083468631917,
          "y": 0.9784925685647585,
          "z": 0.9956857536508895
         },
         "camera": {
          "center": {
           "x": 0,
           "y": 0,
           "z": 0
          },
          "eye": {
           "x": -0.03123054285301524,
           "y": -1.7680345438090848,
           "z": 0.5784438720473687
          },
          "projection": {
           "type": "perspective"
          },
          "up": {
           "x": 0,
           "y": 0,
           "z": 1
          }
         },
         "domain": {
          "x": [
           0,
           1
          ],
          "y": [
           0,
           1
          ]
         },
         "xaxis": {
          "title": {
           "text": "0"
          },
          "type": "linear"
         },
         "yaxis": {
          "title": {
           "text": "1"
          },
          "type": "linear"
         },
         "zaxis": {
          "title": {
           "text": "2"
          },
          "type": "linear"
         }
        },
        "template": {
         "data": {
          "bar": [
           {
            "error_x": {
             "color": "#2a3f5f"
            },
            "error_y": {
             "color": "#2a3f5f"
            },
            "marker": {
             "line": {
              "color": "#E5ECF6",
              "width": 0.5
             },
             "pattern": {
              "fillmode": "overlay",
              "size": 10,
              "solidity": 0.2
             }
            },
            "type": "bar"
           }
          ],
          "barpolar": [
           {
            "marker": {
             "line": {
              "color": "#E5ECF6",
              "width": 0.5
             },
             "pattern": {
              "fillmode": "overlay",
              "size": 10,
              "solidity": 0.2
             }
            },
            "type": "barpolar"
           }
          ],
          "carpet": [
           {
            "aaxis": {
             "endlinecolor": "#2a3f5f",
             "gridcolor": "white",
             "linecolor": "white",
             "minorgridcolor": "white",
             "startlinecolor": "#2a3f5f"
            },
            "baxis": {
             "endlinecolor": "#2a3f5f",
             "gridcolor": "white",
             "linecolor": "white",
             "minorgridcolor": "white",
             "startlinecolor": "#2a3f5f"
            },
            "type": "carpet"
           }
          ],
          "choropleth": [
           {
            "colorbar": {
             "outlinewidth": 0,
             "ticks": ""
            },
            "type": "choropleth"
           }
          ],
          "contour": [
           {
            "colorbar": {
             "outlinewidth": 0,
             "ticks": ""
            },
            "colorscale": [
             [
              0,
              "#0d0887"
             ],
             [
              0.1111111111111111,
              "#46039f"
             ],
             [
              0.2222222222222222,
              "#7201a8"
             ],
             [
              0.3333333333333333,
              "#9c179e"
             ],
             [
              0.4444444444444444,
              "#bd3786"
             ],
             [
              0.5555555555555556,
              "#d8576b"
             ],
             [
              0.6666666666666666,
              "#ed7953"
             ],
             [
              0.7777777777777778,
              "#fb9f3a"
             ],
             [
              0.8888888888888888,
              "#fdca26"
             ],
             [
              1,
              "#f0f921"
             ]
            ],
            "type": "contour"
           }
          ],
          "contourcarpet": [
           {
            "colorbar": {
             "outlinewidth": 0,
             "ticks": ""
            },
            "type": "contourcarpet"
           }
          ],
          "heatmap": [
           {
            "colorbar": {
             "outlinewidth": 0,
             "ticks": ""
            },
            "colorscale": [
             [
              0,
              "#0d0887"
             ],
             [
              0.1111111111111111,
              "#46039f"
             ],
             [
              0.2222222222222222,
              "#7201a8"
             ],
             [
              0.3333333333333333,
              "#9c179e"
             ],
             [
              0.4444444444444444,
              "#bd3786"
             ],
             [
              0.5555555555555556,
              "#d8576b"
             ],
             [
              0.6666666666666666,
              "#ed7953"
             ],
             [
              0.7777777777777778,
              "#fb9f3a"
             ],
             [
              0.8888888888888888,
              "#fdca26"
             ],
             [
              1,
              "#f0f921"
             ]
            ],
            "type": "heatmap"
           }
          ],
          "heatmapgl": [
           {
            "colorbar": {
             "outlinewidth": 0,
             "ticks": ""
            },
            "colorscale": [
             [
              0,
              "#0d0887"
             ],
             [
              0.1111111111111111,
              "#46039f"
             ],
             [
              0.2222222222222222,
              "#7201a8"
             ],
             [
              0.3333333333333333,
              "#9c179e"
             ],
             [
              0.4444444444444444,
              "#bd3786"
             ],
             [
              0.5555555555555556,
              "#d8576b"
             ],
             [
              0.6666666666666666,
              "#ed7953"
             ],
             [
              0.7777777777777778,
              "#fb9f3a"
             ],
             [
              0.8888888888888888,
              "#fdca26"
             ],
             [
              1,
              "#f0f921"
             ]
            ],
            "type": "heatmapgl"
           }
          ],
          "histogram": [
           {
            "marker": {
             "pattern": {
              "fillmode": "overlay",
              "size": 10,
              "solidity": 0.2
             }
            },
            "type": "histogram"
           }
          ],
          "histogram2d": [
           {
            "colorbar": {
             "outlinewidth": 0,
             "ticks": ""
            },
            "colorscale": [
             [
              0,
              "#0d0887"
             ],
             [
              0.1111111111111111,
              "#46039f"
             ],
             [
              0.2222222222222222,
              "#7201a8"
             ],
             [
              0.3333333333333333,
              "#9c179e"
             ],
             [
              0.4444444444444444,
              "#bd3786"
             ],
             [
              0.5555555555555556,
              "#d8576b"
             ],
             [
              0.6666666666666666,
              "#ed7953"
             ],
             [
              0.7777777777777778,
              "#fb9f3a"
             ],
             [
              0.8888888888888888,
              "#fdca26"
             ],
             [
              1,
              "#f0f921"
             ]
            ],
            "type": "histogram2d"
           }
          ],
          "histogram2dcontour": [
           {
            "colorbar": {
             "outlinewidth": 0,
             "ticks": ""
            },
            "colorscale": [
             [
              0,
              "#0d0887"
             ],
             [
              0.1111111111111111,
              "#46039f"
             ],
             [
              0.2222222222222222,
              "#7201a8"
             ],
             [
              0.3333333333333333,
              "#9c179e"
             ],
             [
              0.4444444444444444,
              "#bd3786"
             ],
             [
              0.5555555555555556,
              "#d8576b"
             ],
             [
              0.6666666666666666,
              "#ed7953"
             ],
             [
              0.7777777777777778,
              "#fb9f3a"
             ],
             [
              0.8888888888888888,
              "#fdca26"
             ],
             [
              1,
              "#f0f921"
             ]
            ],
            "type": "histogram2dcontour"
           }
          ],
          "mesh3d": [
           {
            "colorbar": {
             "outlinewidth": 0,
             "ticks": ""
            },
            "type": "mesh3d"
           }
          ],
          "parcoords": [
           {
            "line": {
             "colorbar": {
              "outlinewidth": 0,
              "ticks": ""
             }
            },
            "type": "parcoords"
           }
          ],
          "pie": [
           {
            "automargin": true,
            "type": "pie"
           }
          ],
          "scatter": [
           {
            "fillpattern": {
             "fillmode": "overlay",
             "size": 10,
             "solidity": 0.2
            },
            "type": "scatter"
           }
          ],
          "scatter3d": [
           {
            "line": {
             "colorbar": {
              "outlinewidth": 0,
              "ticks": ""
             }
            },
            "marker": {
             "colorbar": {
              "outlinewidth": 0,
              "ticks": ""
             }
            },
            "type": "scatter3d"
           }
          ],
          "scattercarpet": [
           {
            "marker": {
             "colorbar": {
              "outlinewidth": 0,
              "ticks": ""
             }
            },
            "type": "scattercarpet"
           }
          ],
          "scattergeo": [
           {
            "marker": {
             "colorbar": {
              "outlinewidth": 0,
              "ticks": ""
             }
            },
            "type": "scattergeo"
           }
          ],
          "scattergl": [
           {
            "marker": {
             "colorbar": {
              "outlinewidth": 0,
              "ticks": ""
             }
            },
            "type": "scattergl"
           }
          ],
          "scattermapbox": [
           {
            "marker": {
             "colorbar": {
              "outlinewidth": 0,
              "ticks": ""
             }
            },
            "type": "scattermapbox"
           }
          ],
          "scatterpolar": [
           {
            "marker": {
             "colorbar": {
              "outlinewidth": 0,
              "ticks": ""
             }
            },
            "type": "scatterpolar"
           }
          ],
          "scatterpolargl": [
           {
            "marker": {
             "colorbar": {
              "outlinewidth": 0,
              "ticks": ""
             }
            },
            "type": "scatterpolargl"
           }
          ],
          "scatterternary": [
           {
            "marker": {
             "colorbar": {
              "outlinewidth": 0,
              "ticks": ""
             }
            },
            "type": "scatterternary"
           }
          ],
          "surface": [
           {
            "colorbar": {
             "outlinewidth": 0,
             "ticks": ""
            },
            "colorscale": [
             [
              0,
              "#0d0887"
             ],
             [
              0.1111111111111111,
              "#46039f"
             ],
             [
              0.2222222222222222,
              "#7201a8"
             ],
             [
              0.3333333333333333,
              "#9c179e"
             ],
             [
              0.4444444444444444,
              "#bd3786"
             ],
             [
              0.5555555555555556,
              "#d8576b"
             ],
             [
              0.6666666666666666,
              "#ed7953"
             ],
             [
              0.7777777777777778,
              "#fb9f3a"
             ],
             [
              0.8888888888888888,
              "#fdca26"
             ],
             [
              1,
              "#f0f921"
             ]
            ],
            "type": "surface"
           }
          ],
          "table": [
           {
            "cells": {
             "fill": {
              "color": "#EBF0F8"
             },
             "line": {
              "color": "white"
             }
            },
            "header": {
             "fill": {
              "color": "#C8D4E3"
             },
             "line": {
              "color": "white"
             }
            },
            "type": "table"
           }
          ]
         },
         "layout": {
          "annotationdefaults": {
           "arrowcolor": "#2a3f5f",
           "arrowhead": 0,
           "arrowwidth": 1
          },
          "autotypenumbers": "strict",
          "coloraxis": {
           "colorbar": {
            "outlinewidth": 0,
            "ticks": ""
           }
          },
          "colorscale": {
           "diverging": [
            [
             0,
             "#8e0152"
            ],
            [
             0.1,
             "#c51b7d"
            ],
            [
             0.2,
             "#de77ae"
            ],
            [
             0.3,
             "#f1b6da"
            ],
            [
             0.4,
             "#fde0ef"
            ],
            [
             0.5,
             "#f7f7f7"
            ],
            [
             0.6,
             "#e6f5d0"
            ],
            [
             0.7,
             "#b8e186"
            ],
            [
             0.8,
             "#7fbc41"
            ],
            [
             0.9,
             "#4d9221"
            ],
            [
             1,
             "#276419"
            ]
           ],
           "sequential": [
            [
             0,
             "#0d0887"
            ],
            [
             0.1111111111111111,
             "#46039f"
            ],
            [
             0.2222222222222222,
             "#7201a8"
            ],
            [
             0.3333333333333333,
             "#9c179e"
            ],
            [
             0.4444444444444444,
             "#bd3786"
            ],
            [
             0.5555555555555556,
             "#d8576b"
            ],
            [
             0.6666666666666666,
             "#ed7953"
            ],
            [
             0.7777777777777778,
             "#fb9f3a"
            ],
            [
             0.8888888888888888,
             "#fdca26"
            ],
            [
             1,
             "#f0f921"
            ]
           ],
           "sequentialminus": [
            [
             0,
             "#0d0887"
            ],
            [
             0.1111111111111111,
             "#46039f"
            ],
            [
             0.2222222222222222,
             "#7201a8"
            ],
            [
             0.3333333333333333,
             "#9c179e"
            ],
            [
             0.4444444444444444,
             "#bd3786"
            ],
            [
             0.5555555555555556,
             "#d8576b"
            ],
            [
             0.6666666666666666,
             "#ed7953"
            ],
            [
             0.7777777777777778,
             "#fb9f3a"
            ],
            [
             0.8888888888888888,
             "#fdca26"
            ],
            [
             1,
             "#f0f921"
            ]
           ]
          },
          "colorway": [
           "#636efa",
           "#EF553B",
           "#00cc96",
           "#ab63fa",
           "#FFA15A",
           "#19d3f3",
           "#FF6692",
           "#B6E880",
           "#FF97FF",
           "#FECB52"
          ],
          "font": {
           "color": "#2a3f5f"
          },
          "geo": {
           "bgcolor": "white",
           "lakecolor": "white",
           "landcolor": "#E5ECF6",
           "showlakes": true,
           "showland": true,
           "subunitcolor": "white"
          },
          "hoverlabel": {
           "align": "left"
          },
          "hovermode": "closest",
          "mapbox": {
           "style": "light"
          },
          "paper_bgcolor": "white",
          "plot_bgcolor": "#E5ECF6",
          "polar": {
           "angularaxis": {
            "gridcolor": "white",
            "linecolor": "white",
            "ticks": ""
           },
           "bgcolor": "#E5ECF6",
           "radialaxis": {
            "gridcolor": "white",
            "linecolor": "white",
            "ticks": ""
           }
          },
          "scene": {
           "xaxis": {
            "backgroundcolor": "#E5ECF6",
            "gridcolor": "white",
            "gridwidth": 2,
            "linecolor": "white",
            "showbackground": true,
            "ticks": "",
            "zerolinecolor": "white"
           },
           "yaxis": {
            "backgroundcolor": "#E5ECF6",
            "gridcolor": "white",
            "gridwidth": 2,
            "linecolor": "white",
            "showbackground": true,
            "ticks": "",
            "zerolinecolor": "white"
           },
           "zaxis": {
            "backgroundcolor": "#E5ECF6",
            "gridcolor": "white",
            "gridwidth": 2,
            "linecolor": "white",
            "showbackground": true,
            "ticks": "",
            "zerolinecolor": "white"
           }
          },
          "shapedefaults": {
           "line": {
            "color": "#2a3f5f"
           }
          },
          "ternary": {
           "aaxis": {
            "gridcolor": "white",
            "linecolor": "white",
            "ticks": ""
           },
           "baxis": {
            "gridcolor": "white",
            "linecolor": "white",
            "ticks": ""
           },
           "bgcolor": "#E5ECF6",
           "caxis": {
            "gridcolor": "white",
            "linecolor": "white",
            "ticks": ""
           }
          },
          "title": {
           "x": 0.05
          },
          "xaxis": {
           "automargin": true,
           "gridcolor": "white",
           "linecolor": "white",
           "ticks": "",
           "title": {
            "standoff": 15
           },
           "zerolinecolor": "white",
           "zerolinewidth": 2
          },
          "yaxis": {
           "automargin": true,
           "gridcolor": "white",
           "linecolor": "white",
           "ticks": "",
           "title": {
            "standoff": 15
           },
           "zerolinecolor": "white",
           "zerolinewidth": 2
          }
         }
        },
        "title": {
         "text": "3d TSNE Plot for Outliers"
        },
        "width": 900
       }
      },
      "image/png": "[encoded data removed]",
      "text/html": [
       "<div>                            <div id=\"c779a33b-dc71-46af-962b-2b0f4250f8cc\" class=\"plotly-graph-div\" style=\"height:800px; width:900px;\"></div>            <script type=\"text/javascript\">                require([\"plotly\"], function(Plotly) {                    window.PLOTLYENV=window.PLOTLYENV || {};                                    if (document.getElementById(\"c779a33b-dc71-46af-962b-2b0f4250f8cc\")) {                    Plotly.newPlot(                        \"c779a33b-dc71-46af-962b-2b0f4250f8cc\",                        [{\"customdata\":[[812],[577],[770],[764],[749],[561],[684],[641],[624],[677],[615],[805],[609],[730],[593],[781],[601],[728],[819],[760],[756],[827],[707],[598],[122],[604],[630],[568],[797],[561],[831],[643],[599],[718],[750],[681],[593],[706],[691],[727],[805],[784],[752],[562],[780],[783],[578],[699],[796],[744],[642],[770],[627],[606],[830],[768],[740],[836],[774],[647],[751],[693],[648],[703],[592],[600],[839],[562],[664],[810],[750],[711],[691],[658],[716],[638],[686],[828],[573],[727],[592],[567],[769],[710],[718],[818],[566],[606],[762],[585],[718],[808],[661],[817],[817],[582],[616],[764],[726],[667],[628],[581],[574],[707],[609],[578],[677],[769],[649],[616],[574],[824],[708],[780],[768],[736],[804],[766],[644],[593],[711],[784],[744],[560],[154],[735],[653],[749],[680],[608],[614],[669],[599],[758],[661],[782],[678],[700],[762],[758],[623],[667],[810],[664],[726],[625],[772],[647],[650],[788],[638],[647],[608],[764],[813],[565],[597],[797],[758],[730],[654],[762],[714],[585],[641],[618],[683],[572],[617],[573],[767],[702],[563],[806],[566],[602],[647],[677],[678],[651],[711],[645],[755],[624],[730],[664],[824],[651],[605],[647],[714],[705],[567],[639],[699],[631],[605],[643],[749],[787],[788],[831],[623],[804],[634],[704],[662],[768],[589],[721],[561],[728],[769],[737],[789],[617],[631],[762],[673],[590],[690],[645],[785],[611],[78],[671],[645],[562],[564],[617],[760],[647],[693],[817],[572],[567],[653],[622],[712],[647],[757],[787],[611],[715],[663],[763],[594],[700],[838],[740],[829],[792],[703],[824],[717],[639],[575],[787],[781],[625],[740],[805],[745],[759],[703],[774],[770],[821],[670],[583],[685],[620],[665],[670],[675],[669],[795],[772],[689],[787],[622],[839],[653],[732],[640],[738],[777],[661],[560],[566],[746],[608],[714],[730],[666],[791],[689],[825],[828],[719],[602],[669],[687],[742],[594],[643],[821],[611],[617],[582],[613],[825],[670],[647],[562],[611],[774],[836],[619],[812],[577],[723],[711],[695],[88],[724],[733],[783],[603],[725],[646],[818],[761],[659],[601],[732],[794],[667],[792],[653],[595],[576],[612],[659],[702],[645],[803],[685],[695],[662],[688],[619],[668],[748],[767],[676],[776],[635],[802],[814],[622],[759],[576],[631],[817],[656],[620],[809],[837],[808],[729],[624],[832],[682],[697],[685],[617],[840],[779],[685],[728],[835],[733],[821],[836],[745],[577],[623],[665],[707],[758],[730],[633],[644],[668],[593],[661],[624],[796],[750],[788],[710],[772],[637],[716],[723],[762],[676],[645],[712],[737],[631],[590],[611],[750],[582],[773],[733],[618],[727],[647],[790],[774],[808],[1111],[620],[833],[699],[628],[613],[755],[590],[831],[712],[799],[705],[590],[586],[624],[809],[623],[827],[797],[747],[831],[716],[789],[649],[628],[745],[617],[738],[799],[800],[560],[740],[702],[769],[790],[571],[562],[758],[799],[796],[744],[716],[765],[799],[692],[820],[752],[577],[589],[654],[769],[742],[672],[835],[834],[772],[780],[773],[563],[689],[754],[627],[647],[676],[685],[578],[752],[663],[747],[789],[736],[632],[775],[684],[594],[744],[680],[704],[639],[695],[637],[763],[703],[659],[626],[602],[583],[779],[637],[589],[800],[834],[697],[779],[639],[612],[771],[804],[697],[781],[1213],[741],[607],[682],[640],[635],[836],[753],[768],[674],[626],[793],[814],[730],[738],[839],[576],[673],[839],[825],[694],[678],[639],[616],[710],[696],[759],[592],[659],[685],[825],[701],[624],[718],[667],[590],[633],[726],[588],[560],[762],[803],[834],[714],[638],[757],[631],[632],[766],[728],[703],[756],[693],[734],[751],[657],[753],[786],[778],[741],[748],[821],[622],[679],[799],[825],[715],[611],[676],[659],[761],[587],[705],[732],[574],[736],[827],[807],[743],[746],[839],[599],[770],[706],[718],[755],[714],[564],[603],[704],[703],[715],[659],[825],[613],[641],[737],[717],[702],[632],[326],[784],[585],[617],[752],[669],[676],[833],[595],[673],[708],[583],[572],[713],[738],[745],[792],[563],[722],[817],[574],[682],[819],[699],[764],[807],[679],[644],[662],[828],[588],[644],[613],[753],[656],[749],[788],[638],[638],[717],[565],[656],[644],[836],[631],[768],[588],[834],[673],[648],[831],[626],[755],[683],[751],[838],[670],[811],[719],[671],[840],[609],[658],[645],[720],[775],[744],[771],[666],[771],[612],[575],[764],[664],[831],[748],[752],[576],[647],[589],[741],[701],[665],[814],[793],[692],[824],[738],[827],[759],[655],[781],[713],[655],[816],[732],[737],[753],[597],[773],[989],[578],[647],[657],[718],[640],[816],[575],[776],[645],[644],[563],[798],[750],[760],[763],[672],[751],[580],[727],[584],[758],[786],[684],[634],[751],[708],[736],[607],[756],[759],[690],[599],[641],[684],[804],[628],[735],[732],[792],[728],[830],[788],[828],[701],[722],[797],[615],[819],[642],[672],[709],[592],[722],[658],[733],[654],[822],[642],[662],[815],[581],[792],[604],[569],[767],[817],[577],[762],[782],[712],[781],[695],[605],[578],[670],[803],[667],[797],[833],[623],[719],[615],[813],[602],[735],[825],[626],[772],[780],[754],[594],[840],[789],[654],[806],[699],[655],[712],[826],[1023],[697],[586],[616],[571],[655],[759],[729],[562],[587],[810],[831],[577],[738],[674],[693],[587],[799],[699],[788],[606],[811],[720],[801],[824],[809],[833],[731],[704],[615],[635],[613],[629],[659],[593],[706],[624],[794],[730],[618],[659],[569],[628],[595],[639],[840],[825],[630],[669],[739],[567],[646],[605],[647],[597],[569],[625],[571],[601],[834],[749],[724],[682],[625],[640],[795],[825],[659],[598],[673],[574],[654],[772],[624],[795],[813],[661],[680],[656],[660],[733],[685],[568],[791],[691],[808],[696],[747],[806],[781],[822],[588],[628],[640],[575],[598],[670],[570],[595],[685],[123],[706],[564],[798],[625],[712],[751],[565],[626],[683],[673],[831],[620],[583],[676],[766],[749],[724],[644],[726],[566],[586],[781],[646],[673],[572],[728],[628],[788],[735],[704],[788],[675],[600],[627],[833],[763],[562],[700],[831],[702],[690],[769],[794],[776],[594],[601],[602],[668],[607],[809],[643],[692],[569],[749],[751],[722],[790],[634],[768],[625],[816],[798],[605],[589],[777],[606],[731],[827],[634],[580],[685],[732],[634],[786],[767]],\"hovertemplate\":\"0=%{x}<br>1=%{y}<br>2=%{z}<br>Feature=%{customdata[0]}<br>Anomaly=%{marker.color}<extra></extra>\",\"legendgroup\":\"\",\"marker\":{\"color\":[0,0,0,0,0,0,0,0,0,0,0,0,0,0,0,0,0,0,0,0,0,0,0,0,1,0,0,0,0,0,0,0,0,0,0,0,0,0,0,0,0,0,0,0,0,0,0,0,0,0,0,0,0,0,0,0,0,0,0,0,0,0,0,0,0,0,0,0,0,0,0,0,0,0,0,0,0,0,0,0,0,0,0,0,0,0,0,0,0,0,0,0,0,0,0,0,0,0,0,0,0,0,0,0,0,0,0,0,0,0,0,0,0,0,0,0,0,0,0,0,0,0,0,0,0,0,0,0,0,0,0,0,0,0,0,0,0,0,0,0,0,0,0,0,0,0,0,0,0,0,0,0,0,0,0,0,0,0,0,0,0,0,0,0,0,0,0,0,0,0,0,0,0,0,0,0,0,0,0,0,0,0,0,0,0,0,0,0,0,0,0,0,0,0,0,0,0,0,0,0,0,0,0,0,0,0,0,0,0,0,0,0,0,0,0,0,0,0,0,0,0,0,0,0,1,0,0,0,0,0,0,0,0,0,0,0,0,0,0,0,0,0,0,0,0,0,0,0,0,0,0,0,0,0,0,0,0,0,0,0,0,0,0,0,0,0,0,0,0,0,0,0,0,0,0,0,0,0,0,0,0,0,0,0,0,0,0,0,0,0,0,0,0,0,0,0,0,0,0,0,0,0,0,0,0,0,0,0,0,0,0,0,0,0,0,0,0,0,0,0,0,0,0,0,1,0,0,0,0,0,0,0,0,0,0,0,0,0,0,0,0,0,0,0,0,0,0,0,0,0,0,0,0,0,0,0,0,0,0,0,0,0,0,0,0,0,0,0,0,0,0,0,0,0,0,0,0,0,0,0,0,0,0,0,0,0,0,0,0,0,0,0,0,0,0,0,0,0,0,0,0,0,0,0,0,0,0,0,0,0,0,0,0,0,0,0,0,0,0,0,0,0,0,0,1,0,0,0,0,0,0,0,0,0,0,0,0,0,0,0,0,0,0,0,0,0,0,0,0,0,0,0,0,0,0,0,0,0,0,0,0,0,0,0,0,0,0,0,0,0,0,0,0,0,0,0,0,0,0,0,0,0,0,0,0,0,0,0,0,0,0,0,0,0,0,0,0,0,0,1,0,0,0,0,0,0,0,0,0,0,0,0,0,0,0,0,0,0,0,0,0,0,0,0,0,0,0,0,0,0,0,0,0,0,0,0,0,0,0,0,0,0,0,0,0,0,0,0,0,0,0,0,0,0,0,0,0,0,0,0,0,0,0,0,0,0,0,0,0,0,0,0,0,0,0,0,0,0,0,0,0,0,0,0,0,0,0,0,0,0,0,0,0,0,0,0,0,0,0,0,0,0,0,0,0,0,0,0,0,0,0,0,0,0,0,0,0,0,0,0,0,0,0,0,0,0,0,0,0,0,0,0,0,0,0,0,0,0,0,0,0,0,0,0,0,0,0,0,0,1,0,0,0,0,0,0,0,0,0,0,0,0,0,0,0,0,0,0,0,0,0,0,0,0,0,0,0,0,0,0,0,0,0,0,0,0,0,0,0,0,0,0,0,0,0,0,0,0,0,0,0,0,0,0,0,0,0,0,0,0,0,0,0,0,0,0,0,0,0,0,0,0,0,0,1,0,0,0,0,0,0,0,0,0,0,0,0,0,0,0,0,0,0,0,0,0,0,0,0,0,0,0,0,0,0,0,0,0,0,0,0,0,0,0,0,0,0,0,0,0,0,0,0,0,0,0,0,0,0,0,0,0,0,0,0,0,0,0,0,0,0,0,0,0,0,0,0,0,0,1,0,0,0,0,0,0,0,0,0,0,0,0,0,0,0,0,0,0,0,0,0,0,0,0,1,0,0,0,0,0,0,0,0,0,0,0,0,0,0,0,0,0,0,0,0,0,0,0,0,0,0,0,0,0,0,0,0,0,0,0,0,0,0,0,0,0,0,0,0,0,0,0,0,0,1,0,0,0,0,0,0,0,0,0,0,0,0,0,0,0,0,0,0,0,0,0,0,0,0,0,0,0,0,0,0,0,0,0,0,0,0,0,0,0,0,0,0,0,0,0,0,0,0,0,0,0,0,0,0,0,0,0,0,0,0,0,0,0,0,0,0,0,0,0,0,0,0,0,0,0,0,0,0,0,0,0,0,0,0,0,0,0,0,0,0,0,0,0,0,0,0,0,0,0,0,0,0,0,0,0,0,0,0,0,0,0,0,0,0,0,0,0,0,0,0,0,0,0,0,0],\"coloraxis\":\"coloraxis\",\"opacity\":0.7,\"symbol\":\"circle\"},\"mode\":\"markers\",\"name\":\"\",\"scene\":\"scene\",\"showlegend\":false,\"x\":[-14.045052528381348,7.840210914611816,-1.0641049146652222,0.24906699359416962,-2.093142032623291,2.7834584712982178,8.775885581970215,-4.627405643463135,0.7942206859588623,8.202423095703125,5.328429698944092,-12.909538269042969,7.49941349029541,-5.047648906707764,10.236749649047852,-5.889298439025879,9.491842269897461,-4.91459846496582,-15.081899642944336,0.16020382940769196,-0.38691505789756775,-16.615102767944336,3.0404438972473145,9.89133358001709,6.213400363922119,8.883964538574219,-2.6944680213928223,4.811142921447754,-11.329828262329102,2.916832447052002,-17.431896209716797,-4.238465309143066,9.775063514709473,-2.351057767868042,-1.8121858835220337,8.620050430297852,10.236969947814941,3.478472948074341,8.075358390808105,-4.782701015472412,-12.922626495361328,-7.075406551361084,-1.2368321418762207,3.3962481021881104,-5.458220481872559,-6.6588239669799805,8.130335807800293,6.319604396820068,-11.092452049255371,-3.2612054347991943,-4.450319766998291,-1.056142807006836,-1.228339433670044,8.386130332946777,-17.260337829589844,-0.3551875054836273,-4.0287017822265625,-17.565237045288086,-2.826655626296997,-2.680654525756836,-1.5124554634094238,7.753021717071533,-2.477118492126465,4.857999324798584,10.215509414672852,9.642220497131348,-17.22760009765625,3.247274160385132,3.9800639152526855,-13.742469787597656,-1.8152744770050049,1.1303441524505615,8.075538635253906,1.3223872184753418,-1.4395265579223633,-4.671736240386963,8.642867088317871,-16.821928024291992,6.51706600189209,-4.783972263336182,10.215542793273926,4.525542736053467,-0.7118015289306641,1.595436453819275,-2.353461503982544,-14.934208869934082,4.227023124694824,8.384977340698242,0.2943236827850342,9.53702163696289,-2.3493242263793945,-13.421677589416504,2.666755437850952,-14.789974212646484,-14.787718772888184,9.041714668273926,4.927125453948975,0.24873405694961548,-4.607954025268555,5.213695049285889,-1.7731013298034668,8.853541374206543,6.878325939178467,3.0411581993103027,7.499495983123779,8.129271507263184,8.208053588867188,-0.7144005298614502,-2.129560947418213,4.927574634552002,6.876742839813232,-15.977054595947266,2.576390504837036,-5.457860946655273,-0.3671664893627167,-4.655761241912842,-12.743439674377441,0.009070015512406826,-3.968174695968628,10.236846923828125,1.1334842443466187,-7.080660343170166,-3.258826494216919,2.8572397232055664,6.197213649749756,-4.773775100708008,-0.6075327396392822,-2.095283031463623,8.53481388092041,7.829704761505127,5.743475914001465,5.950661659240723,9.774337768554688,-0.07236523181200027,2.6668453216552734,-6.283359050750732,8.333988189697266,5.991302490234375,0.29306560754776,-0.06955406814813614,1.3718092441558838,5.209893226623535,-13.744223594665527,3.9800636768341064,-4.608878135681152,0.0401991605758667,-1.9367362260818481,-2.6933908462524414,-1.7320159673690796,-8.64082145690918,-4.671706199645996,-2.7016496658325195,7.829625129699707,0.24863891303539276,-14.194929122924805,3.9328763484954834,9.99061393737793,-11.326333999633789,-0.0736103355884552,-5.049041271209717,-0.2857145667076111,0.2932594120502472,-0.3855227828025818,9.53648853302002,-4.6254096031188965,4.038768768310547,8.72441291809082,6.1662750244140625,4.48745584487915,6.516085624694824,-0.1444912701845169,5.233642101287842,3.3821566104888916,-13.08371639251709,4.223341941833496,9.302848815917969,-2.8962666988372803,8.208053588867188,8.32903003692627,-1.287065863609314,1.1302950382232666,-3.6288769245147705,-0.5746122598648071,0.7430333495140076,-5.049732685089111,3.9751763343811035,-15.976232528686523,-1.2876087427139282,8.641551971435547,-3.029205322265625,-0.3854241967201233,3.9408211708068848,4.523517608642578,-4.744637966156006,6.316030979156494,-3.083078622817993,8.64088249206543,-4.229429721832275,-2.1019136905670166,-8.584301948547363,-8.688739776611328,-17.431236267089844,1.3624992370605469,-12.75207805633545,-3.903046131134033,4.368128776550293,3.1295230388641357,-0.3769288659095764,10.057796478271484,-3.3897616863250732,2.8187975883483887,-4.912649631500244,-0.6839829683303833,-4.522102355957031,-9.090506553649902,4.487793922424316,-3.0823400020599365,0.2926458418369293,7.3266215324401855,10.12401294708252,8.199328422546387,-3.622960090637207,-7.517086982727051,6.831185817718506,6.219725608825684,6.6974568367004395,-3.6254451274871826,2.997407913208008,3.6608710289001465,4.487110614776611,0.16017818450927734,-2.7664613723754883,7.752513408660889,-14.79008674621582,6.1662750244140625,4.526340961456299,-0.6098689436912537,1.9283968210220337,0.6365872621536255,-2.8962666988372803,-0.21823981404304504,-8.331402778625488,6.833738327026367,-0.9291016459465027,3.5501110553741455,0.3041224777698517,10.219396591186523,5.99202299118042,-17.388774871826172,-4.029709815979004,-17.048799514770508,-10.029839515686035,4.801033020019531,-15.979155540466309,-1.921521782875061,-4.758368492126465,7.232712745666504,-8.333423614501953,-5.88767147064209,0.03902466595172882,-4.030333518981934,-12.942679405212402,-3.0656495094299316,0.06074568256735802,4.820998668670654,-2.8262202739715576,-1.064462661743164,-15.414199829101562,6.391346454620361,9.2169771194458,8.708391189575195,3.1338462829589844,4.400400638580322,6.34229040145874,8.730277061462402,6.005841255187988,-10.848788261413574,-1.9354974031448364,8.31421184539795,-8.3370943069458,1.9218957424163818,-17.20580291748047,-0.6102733612060547,-5.040745735168457,-4.728473663330078,-4.362596035003662,-4.1715779304504395,2.675504684448242,2.8808681964874268,4.227023124694824,-2.837144374847412,7.8304123878479,-0.3862191438674927,-5.0488810539245605,4.803737163543701,-9.721428871154785,8.313820838928223,-16.263500213623047,-16.82674789428711,-2.7385637760162354,9.302848815917969,5.961396217346191,8.546061515808105,-3.6548752784729004,10.218621253967285,-4.236362457275391,-15.414340019226074,6.831066608428955,4.489670753479004,9.040879249572754,6.130232810974121,-16.241012573242188,6.374462127685547,-2.998826503753662,3.319532632827759,6.833083152770996,-2.822497606277466,-17.56661605834961,3.6152074337005615,-14.045674324035645,7.887607097625732,-3.9488911628723145,1.1311028003692627,7.361498832702637,6.21904182434082,-4.1840500831604,-4.979599952697754,-6.654431343078613,9.110068321228027,-4.403965473175049,-3.2590854167938232,-14.934746742248535,0.24179279804229736,1.7831578254699707,9.490361213684082,-5.040991306304932,-10.582239151000977,5.20913553237915,-10.029787063598633,-0.6073550581932068,10.157621383666992,7.573083877563477,6.494222640991211,1.7873187065124512,5.259024620056152,-3.625717878341675,-12.570439338684082,8.773619651794434,7.3643269538879395,3.2284393310546875,8.425995826721191,3.617793321609497,5.615396499633789,-2.36043381690979,-0.14173278212547302,8.056378364562988,-3.6939921379089355,-4.1229400634765625,-12.374626159667969,-14.349130630493164,1.9289206266403198,0.061629533767700195,7.5632171630859375,-3.0813205242156982,-14.787750244140625,0.4429336488246918,3.131847381591797,-13.587267875671387,-17.4899959564209,-13.436359405517578,-5.00498104095459,0.6975007653236389,-17.54362678527832,8.683832168579102,6.87696647644043,8.64369010925293,4.488505840301514,-17.048017501831055,-5.050702095031738,8.724544525146484,-4.91256856918335,-17.6190185546875,-4.9788055419921875,-15.414198875427246,-17.56525421142578,-3.0549697875976562,7.887345790863037,1.3606897592544556,4.399316787719727,3.0404441356658936,-0.07153285294771194,-5.049784183502197,-3.671248435974121,-3.9672257900238037,5.615396499633789,10.236749649047852,2.666867971420288,0.6975002288818359,-11.092419624328613,-1.749229907989502,-8.747576713562012,1.595436453819275,-1.9406688213348389,-4.529512882232666,-1.4380987882614136,-3.947638511657715,0.2941434383392334,8.042096138000488,-3.626951217651367,0.6372469067573547,-4.527029037475586,-3.084373712539673,10.124861717224121,6.83072566986084,-1.8092997074127197,9.041701316833496,-2.3840091228485107,-4.979085445404053,4.037691593170166,-4.783555030822754,-2.7016496658325195,-9.41530990600586,-2.8281121253967285,-13.41524887084961,-14.566258430480957,3.1318178176879883,-17.58885383605957,6.317862510681152,-1.7683342695236206,6.131744384765625,-0.5744165182113647,10.122519493103027,-17.429372787475586,0.6357110738754272,-11.74592399597168,3.9475648403167725,10.123442649841309,9.689592361450195,0.6753487586975098,-13.604487419128418,1.3708605766296387,-16.61615562438965,-11.326333999633789,-2.6138622760772705,-17.428686141967773,-1.4382134675979614,-9.102269172668457,-2.126333475112915,-1.7769407033920288,-2.6165530681610107,4.489670753479004,-4.362948417663574,-11.74448299407959,-11.941483497619629,2.870708465576172,-4.030571937561035,5.269576549530029,-0.647540807723999,-9.414936065673828,5.804925441741943,3.4123029708862305,-0.07237152010202408,-11.744400024414062,-11.092689514160156,-3.253990650177002,-1.4399856328964233,0.14908859133720398,-11.744073867797852,7.92828893661499,-15.240959167480469,-1.2352430820465088,7.854126930236816,10.054289817810059,-0.28624916076660156,-0.1566038578748703,-3.6485235691070557,7.045608997344971,-17.62065887451172,-17.61384391784668,-1.939160704612732,-5.459408760070801,-2.3842132091522217,3.30545973777771,8.314651489257812,-0.7783715724945068,-1.2369074821472168,-3.0013785362243652,8.089151382446289,8.620868682861328,8.130745887756348,-1.2424708604812622,3.5524377822875977,-2.620224714279175,-9.088509559631348,-4.6562676429748535,-3.4106152057647705,-3.2564947605133057,8.862343788146973,10.219202995300293,-3.762377977371216,8.534156799316406,4.395226955413818,-4.757063388824463,7.363498210906982,-4.529513835906982,0.3044111430644989,4.884900093078613,1.7912846803665161,-0.6169672608375549,9.303539276123047,9.216114044189453,-5.051854610443115,-4.5298943519592285,10.055164337158203,-11.945024490356445,-17.61305046081543,6.878322124481201,-5.051172256469727,-4.74153995513916,6.494421482086182,-1.492172360420227,-12.761174201965332,6.87696647644043,-5.889004230499268,-14.551885604858398,-3.8447909355163574,8.119499206542969,8.682333946228027,-4.731906890869141,-4.123895645141602,-17.56486701965332,-0.99992436170578,-0.3749181628227234,7.589147090911865,-0.6209117770195007,-10.311178207397461,-14.349130630493164,-5.047938346862793,-4.363038539886475,-17.211380004882812,7.552384853363037,7.333826541900635,-17.20392417907715,-16.08165740966797,7.567355155944824,8.338181495666504,-4.747804164886475,4.931423664093018,1.5962698459625244,7.1312079429626465,0.05970597639679909,10.215757369995117,1.789469599723816,8.711615562438965,-16.091630935668945,5.644032001495361,0.6926369071006775,-2.3496463298797607,5.216058254241943,10.121612548828125,-3.670386791229248,-4.607871055603027,9.953560829162598,2.857240915298462,0.2924911081790924,-12.572195053100586,-17.61384391784668,-0.3853429853916168,-4.671889781951904,-0.21582657098770142,-3.0827481746673584,-3.4120402336120605,0.012736339122056961,-4.912243843078613,5.530257225036621,-0.387480765581131,7.7527947425842285,-4.8860368728637695,-1.5179579257965088,0.8901453018188477,-1.0020703077316284,-7.937474250793457,-4.641812801361084,-3.8463246822357178,-2.3642635345458984,-15.414761543273926,1.9248006343841553,8.436278343200684,-11.745802879333496,-16.135950088500977,-0.928257942199707,6.833738327026367,8.027459144592285,1.791690468788147,0.24173937737941742,9.830745697021484,3.946755886077881,-5.0403523445129395,6.8787665367126465,-4.657153606414795,-16.616125106811523,-13.255624771118164,-3.4368724822998047,-2.854905128479004,-17.20393943786621,9.77575397491455,-1.0564757585525513,3.487165927886963,-2.3517470359802246,-0.5730291604995728,-0.38569870591163635,3.6487114429473877,9.105233192443848,4.357889652252197,4.843571186065674,-0.9299210906028748,1.7907211780548096,-16.293100357055664,6.133934020996094,-4.624990463256836,-4.527029037475586,-1.9197158813476562,5.286614418029785,-3.4108967781066895,6.149312496185303,-7.082019805908203,9.53658676147461,4.487573623657227,-1.2404998540878296,5.97335147857666,8.014143943786621,-17.590225219726562,10.157402038574219,7.335525035858154,2.576390504837036,9.216466903686523,6.167677879333496,0.12395573407411575,-4.362046718597412,-3.0792629718780518,-10.02957820892334,3.3392157554626465,-3.6933836936950684,-14.79008674621582,6.877133369445801,8.681848526000977,-15.082181930541992,6.316935062408447,0.24873405694961548,-13.74094009399414,8.434916496276855,-3.9625229835510254,3.1284847259521484,-16.82668685913086,9.953831672668457,-3.9605178833007812,6.1345720291137695,-1.0006237030029297,0.4459010064601898,-2.0965216159820557,-8.747575759887695,-4.673144340515137,-4.670779228210449,-1.9196593761444092,3.9323554039001465,0.4441860318183899,-3.967226505279541,-17.567224502563477,-3.0816893577575684,-0.3749171495437622,9.954523086547852,-17.610258102416992,7.32796049118042,-2.4804272651672363,-17.42892837524414,-0.6170846819877625,-0.5745983123779297,8.714367866516113,-1.5175737142562866,-17.38863754272461,6.333014488220215,-13.893884658813477,-2.736957311630249,6.714049339294434,-17.047870635986328,7.498933792114258,1.3195114135742188,-3.6263649463653564,-3.074157953262329,-3.2594456672668457,-3.266317129135132,-1.4850146770477295,4.80604362487793,-1.4890714883804321,6.49273157119751,7.2335686683654785,0.24863891303539276,3.9782254695892334,-17.43057632446289,-2.3653228282928467,-1.2408967018127441,7.562557697296143,-2.8426685333251953,10.054491996765137,-3.8412394523620605,5.641781330108643,4.400876998901367,-14.347956657409668,-10.310609817504883,7.928470611572266,-15.969593048095703,-4.362524032592773,-16.614042282104492,0.06074568256735802,0.05386240407824516,-5.885304927825928,0.12402773648500443,0.055467214435338974,-14.628135681152344,-5.040121078491211,-4.526934623718262,-1.0012940168380737,9.98965072631836,-2.3829615116119385,-14.610422134399414,8.1292724609375,-3.0486457347869873,0.890619158744812,-2.3499996662139893,-4.733090877532959,-14.63351821899414,7.233151912689209,-3.698117733001709,-3.6280550956726074,-3.9650063514709473,3.407810688018799,-11.539676666259766,-1.8127567768096924,0.16025152802467346,0.3050961494445801,7.044860363006592,-1.5172244310379028,8.623001098632812,-4.784054279327393,9.379951477050781,-0.07436064630746841,-7.951792240142822,8.755592346191406,-3.9037721157073975,-1.5172244310379028,2.575364828109741,-4.655894756317139,8.11987590789795,-0.3874807059764862,0.06466332077980042,8.19930648803711,9.774551391601562,-4.6254096031188965,8.79245376586914,-12.761174201965332,-1.7690200805664062,-4.773775100708008,-5.040119647979736,-10.029539108276367,-4.91164493560791,-17.26045036315918,-8.807682037353516,-16.821901321411133,5.647876262664795,-3.6933841705322266,-11.328240394592285,5.327489852905273,-15.082542419433594,-4.450113296508789,7.045745372772217,2.087744951248169,10.215728759765625,-3.694850444793701,1.3190804719924927,-4.979085445404053,-0.28671881556510925,-15.604483604431152,-4.44949197769165,3.129183053970337,-14.492691040039062,8.853283882141113,-10.028763771057129,8.88344955444336,5.149444103240967,-0.13473555445671082,-14.790111541748047,7.874401092529297,0.29369494318962097,-6.283886909484863,0.6363042593002319,-5.887144088745117,7.361748218536377,8.641087532043457,8.130058288574219,7.021107196807861,-12.573577880859375,5.21420431137085,-11.328203201293945,-17.589080810546875,1.3677291870117188,-2.7384471893310547,5.333439826965332,-14.194136619567871,9.302957534790039,-4.773929119110107,-16.293100357055664,-0.6154500842094421,-1.93869149684906,-5.457763671875,-0.7798694372177124,10.219070434570312,-17.050277709960938,-9.089550971984863,-0.2852467894554138,-13.072192192077637,6.3176751136779785,0.05647886171936989,0.6363162994384766,-16.40690803527832,-14.596973419189453,6.876979351043701,9.690288543701172,4.927082061767578,5.801784515380859,0.05543753132224083,0.059338293969631195,-5.004364013671875,3.2505545616149902,9.831622123718262,-13.742644309997559,-17.42909049987793,7.895538330078125,-4.362188816070557,7.631429195404053,7.752778053283691,9.83112621307373,-11.744869232177734,6.3178253173828125,-8.734319686889648,8.386526107788086,-13.894401550292969,-3.0728793144226074,-12.150919914245605,-15.965702056884766,-13.578835487365723,-17.588891983032227,-5.067012310028076,4.371211528778076,5.329411029815674,-4.124429225921631,6.1334147453308105,-2.2584338188171387,1.7864395380020142,10.23818588256836,3.478472948074341,0.7885711789131165,-10.58190631866455,-5.049041271209717,4.038976192474365,1.7879321575164795,5.141318321228027,-1.7700939178466797,10.15754508972168,-4.752530097961426,-17.0455322265625,-16.293094635009766,-2.6932506561279297,6.017674446105957,-4.201769828796387,4.341060161590576,-3.2490785121917725,8.641393661499023,-2.919577121734619,9.990034103393555,5.138247966766357,0.039227209985256195,5.805675983428955,9.491557121276855,-17.61899757385254,-2.089088201522827,-4.181465148925781,8.683876037597656,0.04897136241197586,-4.730888366699219,-10.847373008728027,-16.136430740356445,1.7854489088058472,9.891294479370117,7.341158390045166,6.876701354980469,-0.28718459606170654,-1.9367362260818481,0.7915099263191223,-10.851130485534668,-14.193567276000977,2.666867971420288,8.534961700439453,0.45181792974472046,2.2396984100341797,-4.977940082550049,8.808253288269043,4.814332962036133,-9.721068382263184,8.075201034545898,-13.408854484558105,7.1317925453186035,-2.62011981010437,-13.099905014038086,-5.885304927825928,-15.605216979980469,9.954025268554688,-1.7700859308242798,-4.725362300872803,7.231930255889893,9.891294479370117,6.372098445892334,5.482537269592285,10.157402992248535,8.590282440185547,6.2130937576293945,3.488497495651245,3.647287368774414,-11.536944389343262,0.0338706374168396,0.6351840496063232,-1.515236735343933,3.9280967712402344,-0.6140368580818176,8.72441291809082,7.3476128578186035,-17.42911720275879,3.1308603286743164,9.216312408447266,8.056565284729004,0.009386830031871796,-2.095283031463623,-4.180419445037842,-3.963010311126709,-4.607332706451416,4.223162651062012,9.689375877380371,-5.88785982131958,-3.2713663578033447,7.362310409545898,6.167520999908447,-4.9144697189331055,-1.7733274698257446,-8.685136795043945,-4.774655342102051,4.399356365203857,-8.790787696838379,7.806803226470947,9.643982887268066,-1.231885313987732,-17.58966636657715,0.30509620904922485,3.015988826751709,5.991251468658447,-17.431344985961914,5.222889423370361,8.199482917785645,-0.6841797828674316,-10.582454681396484,-3.692650556564331,10.218032836914062,9.488848686218262,9.303768157958984,5.610044956207275,8.119505882263184,-13.594929695129395,-4.231171131134033,7.928441047668457,5.146473407745361,-2.099459171295166,-1.5232865810394287,-3.6932754516601562,-9.415255546569824,-3.9048638343811035,-0.35038912296295166,0.05278446897864342,-14.627727508544922,-11.537177085876465,8.640878677368164,10.05629825592041,-4.172049522399902,8.384978294372559,-5.06580924987793,-16.615991592407227,-3.903111457824707,8.622849464416504,8.78064250946045,-5.040572166442871,-3.9029948711395264,-7.932285308837891,-0.14173278212547302],\"y\":[3.0154364109039307,7.732194423675537,11.952863693237305,8.630748748779297,1.592672348022461,10.850252151489258,-6.588900566101074,-7.478762626647949,-1.2963017225265503,-8.689538955688477,-0.36153918504714966,5.636592864990234,0.1572658270597458,-1.0223209857940674,3.1677908897399902,13.794857025146484,1.338099718093872,-1.1109408140182495,0.4082307517528534,6.4857048988342285,4.583283424377441,-3.082319498062134,-2.3635478019714355,1.939510703086853,8.375811576843262,0.8081920146942139,-2.98317289352417,10.116005897521973,8.74835205078125,11.101341247558594,-5.172656059265137,-8.489775657653809,1.725206971168518,-1.4591211080551147,1.965200662612915,-7.499190330505371,3.167160749435425,-2.4706661701202393,-4.924083709716797,-1.1467468738555908,5.638820648193359,13.333625793457031,2.808513879776001,11.00089168548584,13.84249496459961,13.52345085144043,7.440549850463867,-3.538652181625366,9.150875091552734,0.414329469203949,-7.9814934730529785,11.956379890441895,-1.959297776222229,0.5057612061500549,-4.653482913970947,10.950650215148926,-0.16073815524578094,-7.53024435043335,13.272608757019043,-10.46643352508545,2.357945442199707,-4.55920934677124,-10.729097366333008,-2.858414888381958,3.4525911808013916,1.5248887538909912,-8.433329582214355,10.625162124633789,-11.773234367370605,3.7622578144073486,1.9780594110488892,-1.9661461114883423,-4.924747467041016,-12.165189743041992,-1.5761741399765015,-6.121496677398682,-6.0909199714660645,-3.5746917724609375,8.949464797973633,-1.1469720602035522,3.4525296688079834,10.303930282592773,11.438382148742676,-2.057094097137451,-1.458551287651062,0.7686927914619446,10.481684684753418,0.5076218843460083,7.586806297302246,5.470210552215576,-1.4592657089233398,4.528196334838867,-12.092765808105469,1.1489745378494263,1.149094820022583,6.247655391693115,-0.42876315116882324,8.629899024963379,-1.1774009466171265,-11.313127517700195,-2.2773923873901367,6.4964118003845215,8.668922424316406,-2.363450050354004,0.15725140273571014,7.439632415771484,-8.692784309387207,11.436858177185059,-10.931440353393555,-0.4286816418170929,8.668448448181152,-1.6815102100372314,-2.2607369422912598,13.845645904541016,10.941720962524414,-0.5905157327651978,5.989755630493164,9.858977317810059,-8.994887351989746,3.167616844177246,-1.9665430784225464,13.331278800964355,0.41163355112075806,10.890765190124512,8.390018463134766,-0.6762634515762329,-11.764724731445312,1.5902302265167236,-7.817014217376709,0.2726491391658783,-0.2880736291408539,-10.907031059265137,1.7250007390975952,5.468748092651367,-12.092733383178711,13.671119689941406,-8.41446590423584,-3.3645734786987305,7.589928150177002,5.472952842712402,-1.0098576545715332,-11.310262680053711,3.768240213394165,-11.773234367370605,-1.1786127090454102,-1.3768185377120972,12.77785873413086,-10.359807014465332,-11.167708396911621,12.250831604003906,-6.122705936431885,-10.258567810058594,0.2725605070590973,8.626873016357422,2.6294164657592773,10.61192798614502,2.1703290939331055,8.751574516296387,5.464743137359619,-1.0225791931152344,-11.899519920349121,7.581966876983643,-1.720726728439331,5.470056533813477,-7.483096122741699,-0.5622824430465698,-6.91237735748291,9.206381797790527,-0.49584829807281494,8.951501846313477,10.401638984680176,-3.0318307876586914,11.017239570617676,5.2683634757995605,10.495104789733887,1.1470052003860474,-10.59422779083252,-8.692784309387207,-8.41280460357666,-11.42121696472168,-1.966150164604187,-9.477551460266113,4.135191917419434,-1.1176321506500244,-1.0228136777877808,-11.782052993774414,-1.6831872463226318,-11.421002388000488,0.6502223014831543,-10.407421112060547,-1.7208195924758911,-2.585787773132324,10.30979061126709,-6.570104122161865,-3.5398781299591064,-3.3280904293060303,0.6500265598297119,-8.493324279785156,1.5939348936080933,12.998456954956055,12.213229179382324,-5.174936294555664,-1.0017585754394531,5.994231700897217,-4.362878322601318,-2.7257120609283447,-12.013587951660156,10.934430122375488,4.339475631713867,-1.3346718549728394,10.7147216796875,-1.110369086265564,11.459441184997559,-0.49923262000083923,11.946887016296387,-0.49623942375183105,-3.3270323276519775,7.5850114822387695,-9.867426872253418,4.054152488708496,-5.113821506500244,-9.479025840759277,13.091872215270996,-0.051543328911066055,8.370309829711914,-10.402060508728027,-9.483579635620117,10.740303039550781,10.755722999572754,-0.49698251485824585,6.4842424392700195,-10.531376838684082,-4.558533668518066,1.1481289863586426,9.206381797790527,10.306057929992676,-11.765823364257812,-0.8996583819389343,-1.8819031715393066,-10.59422779083252,5.0218186378479,12.60255241394043,-0.047787297517061234,-1.6452512741088867,-11.906047821044922,8.121155738830566,2.9088311195373535,-3.3681132793426514,-8.197023391723633,-0.16198281943798065,-4.1235527992248535,10.774470329284668,-2.8807766437530518,-1.6817567348480225,-1.5118151903152466,-6.570040702819824,8.371819496154785,12.602298736572266,13.786802291870117,-1.3776469230651855,-0.16250835359096527,5.644424915313721,0.5817820429801941,5.961350917816162,-2.8729302883148193,13.272857666015625,11.951699256896973,-0.3821357786655426,-10.720434188842773,5.990263938903809,-6.457505702972412,-0.7017079591751099,-11.63213062286377,-10.6662015914917,-9.512744903564453,-10.967253684997559,9.548415184020996,12.778708457946777,-5.327183246612549,12.615535736083984,-0.8991369605064392,-8.429264068603516,-11.763232231140137,-0.9106228351593018,-7.024295330047607,-0.38977524638175964,13.675467491149902,-12.116250991821289,10.897314071655273,10.481685638427734,0.7836697101593018,0.27269628643989563,-1.7208590507507324,-1.022620439529419,-11.479728698730469,11.180251121520996,-5.327363014221191,-2.1942992210388184,-3.577099561691284,-1.411926507949829,1.1470052003860474,-10.919024467468262,-5.856480598449707,0.10747440904378891,2.905730724334717,-8.483684539794922,-0.38271066546440125,-0.0486736036837101,-0.49621251225471497,6.248188018798828,-0.2144087553024292,-2.20926833152771,-10.7056303024292,-10.567184448242188,10.675302505493164,-0.047611430287361145,13.27132511138916,-7.5312299728393555,-0.6276780366897583,3.0123236179351807,7.764387130737305,-1.2692919969558716,-1.9662662744522095,-4.217748641967773,8.370896339416504,-1.2385450601577759,-0.8407641053199768,13.523776054382324,0.9690542817115784,-1.2089805603027344,-9.996533393859863,0.7703146934509277,7.028587341308594,-12.16640853881836,1.3343987464904785,-0.9102648496627808,9.967071533203125,-11.307184219360352,10.774669647216797,-11.763219833374023,2.6589019298553467,8.074658393859863,-0.137486532330513,-12.171014785766602,-3.0222041606903076,-9.482383728027344,6.361124515533447,-6.296555519104004,-4.219340801239014,-12.712665557861328,-5.576138019561768,-0.6273840665817261,-11.137795448303223,1.2820314168930054,10.409460067749023,-8.989761352539062,13.562944412231445,-4.771761894226074,6.747897624969482,2.239591121673584,-0.9016116261482239,5.960485935211182,8.078926086425781,-3.3304736614227295,1.1484876871109009,-12.069390296936035,-0.7017928957939148,4.1411848068237305,-7.908056735992432,4.540318012237549,-1.0703376531600952,-1.1366522312164307,-5.686402320861816,-7.197371959686279,-3.876194477081299,-6.417418956756592,-0.49576470255851746,-8.591071128845215,13.831236839294434,-6.45548152923584,-1.1106176376342773,-7.122221946716309,-0.8404373526573181,-0.3817444145679474,-7.5302734375,0.5790709853172302,7.773928642272949,-0.9960688948631287,-11.633394241333008,-2.3635473251342773,5.470612525939941,-1.0228015184402466,-4.013954162597656,-8.9954195022583,-11.137795448303223,3.1677908897399902,-12.092775344848633,-1.1366500854492188,9.149923324584961,1.8370130062103271,12.268143653869629,-2.057094097137451,12.781744956970215,-5.699265003204346,-1.5766384601593018,-1.26924467086792,7.590224266052246,-8.985620498657227,-9.480385780334473,-1.881137728691101,-0.5017751455307007,-3.327209234237671,4.052901268005371,-0.04911578819155693,1.9535199403762817,6.248249530792236,13.065606117248535,-0.8409121036529541,-0.5626477599143982,-1.1466327905654907,-10.258567810058594,11.565320014953613,13.272923469543457,4.522116184234619,-5.977882385253906,-0.7017712593078613,-6.168479919433594,-3.5388877391815186,-2.278862237930298,-0.21436621248722076,4.134806156158447,4.0517964363098145,-5.174325466156006,-1.8811156749725342,7.988195419311523,-2.5842628479003906,4.053140163421631,5.189868927001953,-1.0665985345840454,4.158045768737793,-1.0064332485198975,-3.0845510959625244,8.751574516296387,1.0196430683135986,-5.173453330993652,-1.5766533613204956,11.969109535217285,-10.928890228271484,-2.2820403575897217,0.555180013179779,-0.4962124824523926,-0.38927748799324036,7.989924907684326,7.595872402191162,10.967817306518555,-0.16259343922138214,-3.01668381690979,11.485812187194824,11.572565078735352,9.458805084228516,10.898345947265625,5.468764781951904,7.990084648132324,9.14981460571289,0.4178820252418518,-1.5757614374160767,9.215865135192871,7.9910888671875,-4.741042137145996,0.028043780475854874,2.8053932189941406,7.739809036254883,4.338076114654541,-11.898872375488281,11.815178871154785,0.11043737828731537,-10.155652046203613,-7.124524116516113,-6.678517818450928,12.777396202087402,13.84382438659668,13.065534591674805,10.760725021362305,-5.3281707763671875,3.692857503890991,-1.9650838375091553,-10.33814525604248,-9.002424240112305,-6.292705059051514,7.441861629486084,2.8044450283050537,-11.890554428100586,1.0170711278915405,11.939057350158691,-0.5908174514770508,-3.6823580265045166,13.43299388885498,-6.70004940032959,2.9069015979766846,0.045303825289011,-7.8151116371154785,-2.7147388458251953,-6.569900035858154,-4.218214988708496,-5.700183868408203,8.122957229614258,-2.8480355739593506,-12.180351257324219,-1.6504138708114624,1.147749900817871,5.989941120147705,13.831725120544434,-5.700075626373291,4.337456226348877,7.599502086639404,-6.678629398345947,-3.877110481262207,13.831191062927246,-6.570096492767334,-0.1370113492012024,12.398896217346191,5.993905067443848,-3.876194477081299,13.793159484863281,-5.969648838043213,-0.03090319037437439,0.38688820600509644,-7.199456691741943,-7.020375728607178,-4.768185138702393,-7.53006649017334,3.2438278198242188,10.9358549118042,-9.574650764465332,-1.6525574922561646,10.374384880065918,2.239591121673584,-1.0222547054290771,-0.3889916241168976,-8.429410934448242,8.067975044250488,-9.867130279541016,-8.436830520629883,-2.2415289878845215,-4.386049270629883,-8.4143648147583,-6.572021961212158,-0.4283536672592163,-2.0568559169769287,-4.046351909637451,5.958000659942627,3.4524893760681152,-12.180397987365723,-6.258405685424805,-2.2554397583007812,-3.1975717544555664,-1.069743037223816,-1.459133505821228,-11.316118240356445,4.0514631271362305,-4.011706352233887,-1.178840160369873,4.62676477432251,10.890765190124512,7.58432149887085,6.358762264251709,-6.678517818450928,-1.7207911014556885,-6.119054794311523,5.024923801422119,-3.3299832344055176,-3.6835529804229736,9.852453231811523,-1.1101864576339722,-2.5852367877960205,4.584870338439941,-4.559368133544922,-0.76231849193573,2.371642589569092,-12.12585163116455,3.241175889968872,12.837456703186035,13.763450622558594,-0.03313027694821358,1.2831019163131714,-0.38360944390296936,-0.9037813544273376,-8.124354362487793,7.986731052398682,-2.187401056289673,-1.6450954675674438,-0.047787297517061234,-8.982379913330078,-12.181396484375,7.035968780517578,4.909271240234375,-2.5838966369628906,-0.9103974103927612,8.66947078704834,-0.5893392562866211,-3.0842185020446777,4.904057502746582,0.26334813237190247,0.7819195985794067,-8.436691284179688,1.726738691329956,11.956184387207031,-2.4696218967437744,-1.4589121341705322,4.135758399963379,-1.720720648765564,10.757549285888672,0.9649003148078918,-2.7278261184692383,-2.8646368980407715,-1.6451890468597412,-12.180142402648926,-2.1311469078063965,-0.21415401995182037,-7.483327388763428,-0.5017751455307007,-1.5120517015457153,-3.008732557296753,-3.6820123195648193,8.432586669921875,13.330089569091797,5.469366550445557,-0.4970463514328003,2.797478437423706,-10.932530403137207,-8.978845596313477,-6.168264389038086,2.659743070602417,-9.868077278137207,-2.2607367038726807,5.989874839782715,9.205942153930664,-1.7998974323272705,-0.3920145332813263,0.5728394985198975,10.774072647094727,10.702054977416992,-1.3000767230987549,1.1481289863586426,8.668695449829102,-7.198832988739014,0.40961143374443054,-3.53817081451416,8.629899024963379,5.156816482543945,-8.122791290283203,-8.99323844909668,-12.001486778259277,-3.577296733856201,4.627451419830322,-8.988762855529785,-0.21235188841819763,3.243314266204834,-12.069121360778809,1.5941718816757202,12.268142700195312,-6.122619152069092,-6.121065139770508,-1.5120790004730225,10.613600730895996,-12.068860054016113,-8.9954195022583,-7.531430721282959,-3.3284912109375,10.9358549118042,4.627597332000732,-6.6796393394470215,-9.868228912353516,-10.73607349395752,-5.174643039703369,-1.6528955698013306,4.1321210861206055,-6.913449764251709,2.3539788722991943,-8.198516845703125,-10.656656265258789,3.3976614475250244,-1.4122674465179443,-10.422125816345215,-8.589244842529297,0.1574794501066208,-12.162765502929688,-9.477934837341309,-1.372454047203064,13.433944702148438,0.4103151559829712,12.402095794677734,-11.47930908203125,12.400118827819824,-0.13836073875427246,8.370333671569824,8.626873016357422,-11.777149200439453,-5.172175407409668,1.281480312347412,2.7980029582977295,8.067764282226562,-10.24013900756836,4.338502883911133,-0.02928675152361393,-3.199150562286377,-11.630813598632812,2.2420365810394287,10.37604808807373,-4.741030693054199,-1.6810907125473022,-0.38900914788246155,-3.084350347518921,5.961350917816162,-12.000178337097168,13.786377906799316,-1.80027174949646,-12.003528594970703,1.5183866024017334,-0.9104601144790649,-0.5029796957969666,3.2437496185302734,2.1692981719970703,13.065165519714355,-5.994543552398682,7.439632892608643,-10.539656639099121,-12.125591278076172,-1.459289312362671,-7.021805763244629,1.518301010131836,8.369491577148438,13.564011573791504,-9.47928237915039,-8.989557266235352,11.008097648620605,8.38021469116211,1.9780036211013794,6.4858551025390625,8.11906623840332,-10.145267486572266,2.3645219802856445,6.816560745239258,-1.1468100547790527,5.733028411865234,5.460152626037598,12.851644515991211,-6.547852516174316,-4.363304138183594,2.3645219802856445,-2.260854721069336,-0.5905795097351074,0.3868590295314789,4.584870338439941,5.963042736053467,-5.115076541900635,1.724968671798706,-7.483096122741699,-6.72885799407959,5.993905067443848,-2.2792766094207764,-0.6762634515762329,-0.9103043079376221,10.7742280960083,-1.1102491617202759,-4.653751373291016,12.37073040008545,-3.576603889465332,-3.1945414543151855,-1.3000767230987549,8.74972915649414,-0.36156991124153137,0.408914178609848,-7.981487274169922,-10.152775764465332,-2.1573197841644287,3.452101230621338,-1.2997387647628784,-12.162447929382324,-0.8409120440483093,-11.898771286010742,-0.8299065828323364,-7.981992244720459,-11.98901653289795,1.8753522634506226,6.503353595733643,10.773855209350586,0.8078820705413818,9.898941040039062,10.412779808044434,1.1481112241744995,7.7469282150268555,7.584774971008301,13.6702299118042,-1.8818703889846802,13.786672592163086,-4.217367649078369,0.6472649574279785,7.44059944152832,-11.388860702514648,6.3582868576049805,-11.312853813171387,8.752264022827148,-6.166571617126465,-1.0039341449737549,-1.4120506048202515,-0.36067309975624084,2.6300384998321533,1.1462675333023071,-0.676138162612915,-2.131147623062134,-1.6517266035079956,12.777571678161621,13.842839241027832,3.689013719558716,2.904627799987793,-8.590219497680664,11.950698852539062,-11.899823188781738,5.265875339508057,-3.539503574371338,-11.999814987182617,-1.881889820098877,-2.647006034851074,-5.989562511444092,-3.8763129711151123,5.1891045570373535,-0.42870184779167175,9.460750579833984,-11.999579429626465,5.958005905151367,-1.0703259706497192,11.137018203735352,4.908354759216309,3.767197847366333,-5.173623085021973,7.760748863220215,-0.38886359333992004,-9.584531784057617,-4.559228420257568,4.90874719619751,7.987919330596924,-3.5391972064971924,12.386759757995605,0.5076785683631897,3.397948741912842,-1.372639536857605,7.192729473114014,-1.681402325630188,4.145480632781982,-6.167883396148682,-0.9693331122398376,-2.724356174468994,-0.3613225221633911,-4.770392894744873,-0.2123728096485138,-2.6336305141448975,-12.164969444274902,3.1671674251556396,-2.4706661701202393,-1.2066019773483276,9.966447830200195,-1.022579312324524,-0.5622353553771973,-12.171765327453613,9.911592483520508,-2.280172348022461,2.660593032836914,-6.569404125213623,-8.590373039245605,-2.1311469078063965,-2.982167959213257,-10.975805282592773,-0.2813246548175812,10.728924751281738,-9.979363441467285,0.6467075943946838,-10.269845008850098,2.1697349548339844,9.916742324829102,-1.3818073272705078,9.455416679382324,1.3384984731674194,-6.682375907897949,1.587950348854065,-1.238396167755127,-7.19730281829834,-1.3873586654663086,-7.0262627601623535,9.546405792236328,-2.187014102935791,-12.16973876953125,1.9382244348526,-9.867319107055664,8.66934871673584,-11.89916706085205,12.777857780456543,-1.2424715757369995,9.549227714538574,2.627963066101074,-12.092775344848633,-7.815690517425537,-12.070274353027344,-12.138416290283203,-0.8403411507606506,-6.343125820159912,10.11291217803955,11.18136978149414,-4.922766208648682,4.518022060394287,-4.047354698181152,1.0149452686309814,5.27706241607666,13.786377906799316,-0.8305732011795044,4.626823425292969,-2.28326416015625,-7.020897388458252,8.370573043823242,1.9382244348526,-10.698412895202637,9.68305492401123,2.659743070602417,-6.387749671936035,8.376078605651855,-2.4696953296661377,10.770113945007324,8.377720832824707,-1.3767966032028198,-1.8810162544250488,2.3593544960021973,10.624024391174316,-1.6534719467163086,-6.91237735748291,-9.866721153259277,-5.175408363342285,-0.7025466561317444,5.989542007446289,-8.990789413452148,9.855384826660156,1.5902304649353027,-1.238505482673645,-8.993268013000488,-1.178858995437622,10.492960929870605,5.190466403961182,13.793651580810547,-9.983748435974121,-9.868760108947754,9.205609321594238,-1.1106683015823364,-2.2823407649993896,12.311293601989746,-0.6763186454772949,-2.7131824493408203,12.400771141052246,-9.273537635803223,1.5260908603668213,-1.962805986404419,-6.167125701904297,8.11906623840332,11.04465103149414,-3.36777663230896,-5.174402713775635,-3.036980390548706,-5.115116596221924,11.459647178649902,9.96678352355957,13.562417030334473,2.9079267978668213,1.3347198963165283,1.145850658416748,-11.132600784301758,0.38643044233322144,4.151068687438965,-8.49052906036377,-4.741013050079346,9.903364181518555,1.5956212282180786,2.3812358379364014,-1.2999546527862549,11.566765785217285,-4.366545677185059,10.952604293823242,-1.3922946453094482,1.5184959173202515,8.378557205200195,0.6503394246101379,4.338777542114258,13.67568302154541,0.5076214671134949,-0.9690102338790894,-3.0836565494537354,-4.363094329833984,6.8158698081970215,-6.303186893463135,-0.9107218384742737,-4.363215446472168,12.837621688842773,10.409460067749023],\"z\":[0.9815298914909363,-3.7276716232299805,6.188231468200684,5.405585289001465,0.4053798019886017,-7.958522796630859,-5.5761027336120605,9.57361125946045,12.55810546875,-3.1867268085479736,10.156126976013184,1.6127781867980957,8.076325416564941,-8.593781471252441,1.6614301204681396,5.112697124481201,4.986064910888672,-9.747879981994629,0.34433943033218384,4.4402875900268555,3.2653515338897705,-0.5550098419189453,-13.521063804626465,3.795466184616089,-8.239118576049805,6.199573516845703,12.463844299316406,-5.908841609954834,2.449997901916504,-8.036173820495605,-1.1172069311141968,8.654831886291504,4.201249122619629,-13.635313987731934,0.8969196081161499,-4.582952976226807,1.6618726253509521,-13.299637794494629,-8.217402458190918,-10.27619743347168,1.612491488456726,4.597988605499268,1.8228716850280762,-7.935949325561523,5.272535800933838,4.7840046882629395,-3.4579551219940186,-10.909381866455078,2.5774500370025635,-1.7076499462127686,9.12187671661377,6.193065166473389,12.724268913269043,6.983857154846191,-0.9757989645004272,6.082785606384277,-3.3551621437072754,-1.7777626514434814,6.0158915519714355,6.808390140533447,1.3726141452789307,-8.863785743713379,6.226984024047852,-12.441901206970215,1.225541353225708,4.59831428527832,-2.0634350776672363,-7.887660980224609,1.1207647323608398,1.1600260734558105,0.8869771361351013,-14.204200744628906,-8.217171669006348,3.0419058799743652,-14.035265922546387,10.663025856018066,-6.402352809906006,-0.6850078105926514,-4.675772666931152,-10.278861045837402,1.2256276607513428,-6.182514667510986,6.129189491271973,-14.072234153747559,-13.637704849243164,0.43507692217826843,-6.503972053527832,6.983728408813477,4.987127304077148,-1.4850096702575684,-13.633881568908691,1.3434834480285645,2.069509267807007,0.5289104580879211,0.5286279916763306,-2.335028886795044,10.478229522705078,5.405139923095703,-10.731887817382812,0.1987007111310959,12.680249214172363,-2.585336208343506,-4.453228950500488,-13.52032470703125,8.076290130615234,-3.458268165588379,-3.1854188442230225,6.1281890869140625,5.899941444396973,10.477034568786621,-4.454524040222168,-0.1902022510766983,-13.718437194824219,5.273292064666748,6.074894905090332,-5.166320323944092,1.701054573059082,5.79686164855957,8.172102928161621,1.6612318754196167,-14.202948570251465,4.595846176147461,-1.7032079696655273,-8.333834648132324,-8.234697341918945,-5.688241004943848,4.54225492477417,0.4048093259334564,-4.204590320587158,7.698153018951416,9.811505317687988,-0.43252936005592346,4.199322700500488,3.8588850498199463,2.0695455074310303,4.945867538452148,-3.507148504257202,-11.296961784362793,4.988645076751709,3.8628315925598145,12.321998596191406,0.19772130250930786,1.1597098112106323,1.1207646131515503,-10.731734275817871,12.654205322265625,6.164771556854248,6.727183818817139,5.538585186004639,3.753835916519165,10.665096282958984,6.633114814758301,7.698425769805908,5.403837203979492,0.8889198899269104,-6.829228401184082,3.3711209297180176,2.450921058654785,3.856898069381714,-8.594645500183105,4.270346641540527,4.984460353851318,-14.255467414855957,-1.4862172603607178,9.569599151611328,11.038732528686523,-5.295443534851074,-4.902200698852539,10.767946243286133,-4.676750659942627,5.950820446014404,-12.031933784484863,-7.423642158508301,1.5232850313186646,-6.476600170135498,5.402535915374756,6.7460503578186035,-3.1854188442230225,-3.5090243816375732,5.134374141693115,-14.204179763793945,7.679688930511475,2.9337539672851562,12.597498893737793,-8.59620475769043,1.1248722076416016,-0.18658515810966492,5.134982109069824,6.598514080047607,6.484369277954102,-14.25572681427002,-13.049943923950195,-6.173888683319092,10.3380126953125,-10.911697387695312,12.328545570373535,6.5991597175598145,8.65009880065918,0.3997850716114044,3.956594228744507,3.9117538928985596,-1.117569923400879,12.309606552124023,1.7002317905426025,11.798576354980469,-12.739606857299805,1.7382622957229614,6.067647457122803,-0.07086768746376038,-12.695853233337402,-7.997791290283203,-9.742542266845703,6.14900541305542,-4.687270641326904,3.6461987495422363,10.769307136535645,12.32865047454834,4.98664665222168,-1.8129730224609375,0.3349249064922333,-7.904175758361816,7.6720099449157715,4.393853187561035,8.797304153442383,-8.240453720092773,-1.1321192979812622,7.66717004776001,-7.678329944610596,-7.154971122741699,10.769189834594727,4.43920373916626,6.799191951751709,-8.864484786987305,0.5289176106452942,-4.902200698852539,-6.178380489349365,4.542608737945557,12.087751388549805,-14.279502868652344,6.7460503578186035,3.56687068939209,4.022037506103516,8.79910659790039,-14.170989990234375,1.4340323209762573,5.218766212463379,2.0797441005706787,-11.287551879882812,-1.974108099937439,-3.35487699508667,-0.8325662612915039,3.1509785652160645,-12.382855415344238,-0.18893252313137054,-13.865927696228027,10.337414741516113,-4.219417572021484,4.022853374481201,5.114136219024658,12.652811050415039,-3.3544323444366455,1.6105269193649292,-1.3321267366409302,4.154988765716553,-12.402753829956055,6.016122341156006,6.187699794769287,0.14427189528942108,-0.7624232769012451,-2.064413070678711,-6.096105098724365,11.524118423461914,0.8122335076332092,-0.7800498604774475,-2.2008421421051025,-0.4160946011543274,2.7082300186157227,6.16552734375,-7.564939975738525,4.01898193359375,12.086556434631348,-2.0453684329986572,4.54334020614624,-7.408304214477539,9.966806411743164,-4.202949523925781,5.669586181640625,2.0654401779174805,-8.346197128295898,-6.503972053527832,-0.9475724101066589,7.6993913650512695,-14.257728576660156,-8.595200538635254,0.5074651837348938,3.3144710063934326,-7.566070556640625,-0.19194257259368896,-0.6853182315826416,-13.344490051269531,5.402535915374756,-0.42880579829216003,-6.756645679473877,-2.5134377479553223,2.0833122730255127,8.659651756286621,0.1441449224948883,8.801284790039062,10.77027416229248,-2.334688186645508,9.475654602050781,-0.1766188144683838,-0.7664791941642761,6.640108585357666,-7.933090686798096,8.800440788269043,6.015803813934326,-1.7781051397323608,11.279412269592285,0.9807651042938232,-3.7422735691070557,-11.988916397094727,-14.2030611038208,-9.511706352233887,-8.240340232849121,-11.6010160446167,-6.829392433166504,4.785449028015137,5.803670883178711,-11.179291725158691,7.128021717071533,0.43489623069763184,4.719545841217041,2.706244468688965,4.986294746398926,-7.402920722961426,2.8539035320281982,0.19847555458545685,3.1508007049560547,4.5419697761535645,2.5069267749786377,-3.992064952850342,9.141895294189453,2.703890562057495,-12.061403274536133,7.667098045349121,1.7967954874038696,-5.981036186218262,-9.507850646972656,1.7128742933273315,-7.184838771820068,11.277641296386719,-0.11374901235103607,-0.06287179887294769,5.955429553985596,-2.839510679244995,5.801821231842041,11.552203178405762,1.8975212574005127,0.7950230240821838,12.088272094726562,4.156472682952881,-3.982147455215454,12.328933715820312,0.5281156897544861,3.6995201110839844,11.525604248046875,1.2508114576339722,-1.8866947889328003,1.3423445224761963,-9.175774574279785,12.415389060974121,-1.2589777708053589,-4.940864086151123,-10.200634002685547,-6.060306549072266,10.771644592285156,-2.090358018875122,5.404242992401123,-6.095229148864746,-9.744789123535156,-1.6628737449645996,-6.830238342285156,0.14435067772865295,-1.777790904045105,-1.3369449377059937,-3.730708599090576,12.307466506958008,0.8128299713134766,-13.521063804626465,3.860400438308716,-8.596023559570312,11.994406700134277,8.171304702758789,-0.11374913156032562,1.6614301204681396,2.0695645809173584,12.415390014648438,2.5772430896759033,0.9609066247940063,3.9343254566192627,-14.072234153747559,6.164116382598877,10.953121185302734,-14.033378601074219,-11.99154281616211,4.9894938468933105,-2.847853183746338,7.673227787017822,-14.280116081237793,-4.687610626220703,12.329368591308594,0.33668792247772217,8.800275802612305,0.9045281410217285,-2.33589506149292,6.103036880493164,-6.825857639312744,11.037720680236816,-10.274016380310059,6.633114814758301,3.473379373550415,6.015492916107178,1.3445078134536743,-1.3966763019561768,11.525801658630371,-1.3934247493743896,-10.911578178405762,12.67993450164795,9.476585388183594,2.9335432052612305,0.33748680353164673,-1.117477536201477,-14.279481887817383,2.227348804473877,-13.056431770324707,0.33607104420661926,-1.1527154445648193,12.431015968322754,1.2496691942214966,12.319623947143555,-0.5541683435440063,2.450921058654785,-0.5062017440795898,-1.117262363433838,-14.034049034118652,3.640221118927002,5.899118423461914,12.680601119995117,-1.5355119705200195,10.770275115966797,-4.205573558807373,2.228388786315918,2.1214332580566406,-8.330338478088379,-3.354198455810547,-12.074997901916504,6.172536849975586,3.475355625152588,-5.1402907371521,-7.961863040924072,3.858884334564209,2.2284655570983887,2.5788471698760986,-1.7094796895980835,-14.037711143493652,5.598816871643066,2.228236198425293,-8.532200813293457,0.24770496785640717,1.8215274810791016,-3.7336673736572266,-0.06795093417167664,4.270784378051758,6.495507717132568,-2.5252020359039307,-1.469164490699768,-1.663252353668213,-1.5372471809387207,6.163443565368652,5.272344589233398,6.102954864501953,-7.418300628662109,-7.564821720123291,2.5861716270446777,12.722306251525879,6.449042797088623,-2.8282222747802734,-5.959543704986572,-3.458963394165039,1.8209073543548584,1.4314099550247192,-0.5050245523452759,3.6524858474731445,-5.168235778808594,12.164217948913574,5.9170427322387695,-5.66257905960083,2.081515312194824,-1.2897058725357056,-4.206250190734863,-12.765113830566406,10.339938163757324,-9.509421348571777,10.952412605285645,5.219676494598389,-12.468120574951172,2.6983983516693115,12.709400177001953,5.400787353515625,-2.0649147033691406,5.40504789352417,10.952508926391602,-0.06506720930337906,2.1214029788970947,-1.5371227264404297,-10.199706077575684,5.404059410095215,10.33830451965332,9.141196250915527,6.1925272941589355,1.6974602937698364,-10.200634002685547,5.112563610076904,-1.3945279121398926,-2.929344415664673,7.3433380126953125,-4.9484429359436035,9.970074653625488,11.554462432861328,-1.7777947187423706,2.21364426612854,6.069280624389648,-2.1629321575164795,12.71167278289795,2.999159336090088,0.7950230240821838,-8.592272758483887,-4.20167350769043,-2.056389808654785,-3.980914831161499,-1.8102848529815674,-2.0176138877868652,-0.30655381083488464,-9.186593055725098,-3.5062882900238037,10.339617729187012,10.475641250610352,-14.071968078613281,-9.851757049560547,4.154157638549805,1.2255492210388184,2.699747323989868,-5.944335460662842,-0.24412395060062408,-11.670268058776855,12.48028564453125,-13.637249946594238,0.20004338026046753,0.3378686010837555,11.995347023010254,-10.735074996948242,-0.4533942937850952,-8.333836555480957,4.986091613769531,1.7955031394958496,-1.5372471809387207,-14.255329132080078,10.66819953918457,3.5701472759246826,12.328702926635742,12.163734436035156,5.795934200286865,-9.736528396606445,-13.154829978942871,3.2656099796295166,-8.863365173339844,-6.2585883140563965,1.3684731721878052,3.3638947010040283,2.213783025741577,4.200241565704346,5.530998229980469,-2.9242753982543945,-0.06156431883573532,0.14372259378433228,12.082114219665527,-3.8470072746276855,2.2276549339294434,-0.4223761260509491,-14.172334671020508,8.79910659790039,-2.851879596710205,2.6989922523498535,4.722224235534668,-0.810824990272522,-13.055032730102539,-7.404326438903809,-4.4533843994140625,-5.16473388671875,-0.5538880228996277,1.434222936630249,-2.116835832595825,-0.9374523758888245,-2.017002820968628,4.202284812927246,6.193193435668945,-13.30224609375,-13.635418891906738,2.936126947402954,-14.25638198852539,-7.14119291305542,5.799037456512451,-12.72899341583252,-12.424494743347168,-14.172844886779785,2.698981761932373,-0.36661964654922485,9.477705001831055,9.569361686706543,-4.687610626220703,-13.866357803344727,-12.092598915100098,12.164575576782227,-8.21975040435791,4.595330238342285,-1.4853885173797607,10.767295837402344,1.8189202547073364,-0.4244784414768219,-2.855919599533081,-1.3937734365463257,2.5057826042175293,-1.8106656074523926,-13.718437194824219,-2.0640361309051514,-4.900079727172852,-14.299494743347168,-4.202197551727295,-1.3274399042129517,3.1517434120178223,-7.456571102142334,-12.339686393737793,0.5289176106452942,-4.454472064971924,-4.947891712188721,0.3438366651535034,-10.914372444152832,5.405139923095703,1.3722625970840454,-3.8485212326049805,8.168767929077148,1.738219976425171,-0.6853064298629761,-0.45485979318618774,8.170002937316895,9.473647117614746,2.2137362957000732,3.6977858543395996,0.4034276604652405,3.9343249797821045,10.665526390075684,10.665825843811035,-13.865230560302734,-6.822984218597412,3.6985650062561035,8.171303749084473,-1.7778795957565308,12.327954292297363,6.06928014755249,-0.45476022362709045,-1.5371276140213013,-1.8132346868515015,6.231360912322998,-1.1176040172576904,12.712241172790527,2.9325525760650635,-5.296056747436523,1.3798859119415283,-1.9723325967788696,-0.7800322771072388,1.0723598003387451,-13.343108177185059,-1.125080943107605,-2.089834213256836,8.078660011291504,3.0438072681427,7.677094459533691,-13.031007766723633,5.91651725769043,-1.701835036277771,6.196535587310791,0.5071581602096558,6.1941819190979,9.142841339111328,-4.219170570373535,5.403837203979492,1.1222676038742065,-1.1170932054519653,-0.06273900717496872,1.818544864654541,-3.988489866256714,6.498048305511475,-0.06876861304044724,-2.932405710220337,-11.663217544555664,0.8118031024932861,0.7956173419952393,2.999879837036133,-8.532721519470215,-0.1875777691602707,-4.204288959503174,-0.5546326041221619,4.154988765716553,3.9973509311676025,5.111943244934082,-14.300701141357422,3.996553659439087,0.6207655668258667,-7.410262584686279,-4.688172817230225,2.2124578952789307,3.371584892272949,6.10269021987915,-1.4004944562911987,-3.458268165588379,6.5772271156311035,3.363612651824951,-13.634081840515137,9.971107482910156,0.6202372312545776,-4.218953609466553,5.802950382232666,7.6762919425964355,8.173087120056152,-7.445565700531006,2.337425708770752,0.8855283856391907,4.438711166381836,5.219113826751709,-1.4703874588012695,1.3725966215133667,-2.8870580196380615,-10.274093627929688,-1.782303810119629,3.854268789291382,4.195043563842773,-5.547988414764404,11.798892974853516,1.3725966215133667,-13.7184476852417,-5.1673102378845215,7.343195915222168,3.2656099796295166,4.158932209014893,-7.902230262756348,4.201229095458984,9.569599151611328,-5.685173034667969,1.6974602937698364,12.679697036743164,-5.6882405281066895,-7.406726837158203,3.151657819747925,-9.73786735534668,-0.9758715033531189,3.8682656288146973,-0.6850358247756958,-11.677241325378418,-12.339686393737793,2.4507715702056885,10.157331466674805,0.34366536140441895,9.123247146606445,-1.4698433876037598,-13.904595375061035,1.226127028465271,-12.337217330932617,3.0442941188812256,-6.825857639312744,4.271406173706055,0.02991214394569397,9.121284484863281,1.7370086908340454,0.7067862749099731,-2.5877044200897217,3.1508877277374268,6.20033073425293,-5.636173725128174,5.959601402282715,0.5289804339408875,-3.7460076808929443,4.986452579498291,4.946932792663574,-14.279664039611816,5.113010883331299,-9.511137008666992,6.6027398109436035,-3.4597911834716797,-0.551295816898346,1.79534912109375,0.1974339634180069,2.4507546424865723,-1.3933091163635254,12.314179420471191,-13.345124244689941,10.151776313781738,0.8888492584228516,5.40146017074585,-5.688377857208252,-0.36662009358406067,12.708325386047363,6.16387939453125,5.27274227142334,2.5852837562561035,2.085317373275757,-2.090651750564575,3.6417059898376465,4.270453453063965,1.525978922843933,-10.91157341003418,3.9954960346221924,-14.279524803161621,-0.4402173161506653,-1.3992761373519897,-10.200699806213379,-1.1513563394546509,10.476961135864258,-5.142526149749756,3.9963834285736084,4.152675628662109,-9.176475524902344,-7.805661201477051,-0.810249388217926,1.1606806516647339,-1.1172817945480347,-3.752265453338623,-4.203040599822998,-2.1563966274261475,-8.863473892211914,-0.8098145723342896,2.2281441688537598,-10.911698341369629,3.716522216796875,6.9837751388549805,1.0721690654754639,-13.03067398071289,2.013915538787842,-0.19131191074848175,1.2538642883300781,-1.3932772874832153,-7.983355522155762,-12.741847038269043,10.155014038085938,11.554102897644043,9.475774765014648,12.583097457885742,2.707137107849121,1.6625257730484009,-13.299637794494629,12.637303352355957,2.855851411819458,-8.594645500183105,11.038954734802246,2.703381299972534,-5.629969596862793,12.680397033691406,2.5043461322784424,10.336051940917969,-2.091107130050659,-0.3666316866874695,12.464083671569824,-0.41459858417510986,-3.7700304985046387,-5.656164646148682,7.1177144050598145,6.6033854484558105,6.4573540687561035,3.3705105781555176,-5.6282572746276855,12.65338134765625,-5.140319347381592,4.984663486480713,-1.5382344722747803,0.4082496464252472,-11.600911140441895,-4.941351413726807,12.659640312194824,9.972156524658203,2.709822177886963,-0.42268475890159607,2.7050042152404785,3.7998886108398438,-1.8095357418060303,-4.454880237579346,4.2715840339660645,6.164770603179932,12.610428810119629,2.7086598873138428,0.8890141844749451,2.0695645809173584,-4.207510948181152,3.6932713985443115,2.3760969638824463,-6.825020790100098,-6.018823623657227,-5.911614418029785,3.3128201961517334,-8.219775199890137,1.3438905477523804,-9.850976943969727,-0.5069711208343506,1.5218472480773926,5.111943244934082,0.029479121789336205,-0.45387589931488037,12.678961753845215,9.970187187194824,-4.219383239746094,3.7998886108398438,-0.7689275145530701,-5.371009349822998,2.5057826042175293,-6.025649547576904,-8.23904037475586,-13.302008628845215,-7.138251304626465,2.3358302116394043,12.652203559875488,-14.279707908630371,1.3739875555038452,-6.805304527282715,12.71037769317627,-5.295443534851074,-1.8084323406219482,-1.1177825927734375,11.525792121887207,-2.0644965171813965,-2.8412113189697266,5.7958879470825195,0.4048093855381012,-11.602803230285645,8.16960620880127,-10.733163833618164,-6.481130123138428,-1.1533517837524414,5.112504959106445,7.103060722351074,-1.8083869218826294,-4.901276588439941,-9.746347427368164,12.678789138793945,3.739635467529297,-5.689028739929199,-12.76888370513916,3.7898619174957275,-2.5070548057556152,4.595698833465576,12.723126411437988,-1.3934595584869385,5.219113826751709,-7.644182205200195,-11.290294647216797,-1.1174468994140625,-12.019083023071289,-7.902270793914795,6.148868083953857,2.853780508041382,5.803197860717773,2.0819437503814697,4.986000061035156,5.399135112762451,-0.11514521390199661,7.343649864196777,1.2507531642913818,8.652974128723145,-8.532779693603516,-5.633650302886963,0.401300311088562,1.3690978288650513,-12.338619232177734,3.475064754486084,11.797658920288086,6.085318088531494,12.669571876525879,0.6206592321395874,2.336721181869507,6.600455284118652,-0.06946001201868057,5.66949462890625,6.983727931976318,-7.982213020324707,-0.5541039705276489,11.79893970489502,-2.8856213092803955,-5.989717960357666,-7.410159587860107,11.798272132873535,4.202990531921387,5.955429553985596],\"type\":\"scatter3d\"}],                        {\"template\":{\"data\":{\"histogram2dcontour\":[{\"type\":\"histogram2dcontour\",\"colorbar\":{\"outlinewidth\":0,\"ticks\":\"\"},\"colorscale\":[[0.0,\"#0d0887\"],[0.1111111111111111,\"#46039f\"],[0.2222222222222222,\"#7201a8\"],[0.3333333333333333,\"#9c179e\"],[0.4444444444444444,\"#bd3786\"],[0.5555555555555556,\"#d8576b\"],[0.6666666666666666,\"#ed7953\"],[0.7777777777777778,\"#fb9f3a\"],[0.8888888888888888,\"#fdca26\"],[1.0,\"#f0f921\"]]}],\"choropleth\":[{\"type\":\"choropleth\",\"colorbar\":{\"outlinewidth\":0,\"ticks\":\"\"}}],\"histogram2d\":[{\"type\":\"histogram2d\",\"colorbar\":{\"outlinewidth\":0,\"ticks\":\"\"},\"colorscale\":[[0.0,\"#0d0887\"],[0.1111111111111111,\"#46039f\"],[0.2222222222222222,\"#7201a8\"],[0.3333333333333333,\"#9c179e\"],[0.4444444444444444,\"#bd3786\"],[0.5555555555555556,\"#d8576b\"],[0.6666666666666666,\"#ed7953\"],[0.7777777777777778,\"#fb9f3a\"],[0.8888888888888888,\"#fdca26\"],[1.0,\"#f0f921\"]]}],\"heatmap\":[{\"type\":\"heatmap\",\"colorbar\":{\"outlinewidth\":0,\"ticks\":\"\"},\"colorscale\":[[0.0,\"#0d0887\"],[0.1111111111111111,\"#46039f\"],[0.2222222222222222,\"#7201a8\"],[0.3333333333333333,\"#9c179e\"],[0.4444444444444444,\"#bd3786\"],[0.5555555555555556,\"#d8576b\"],[0.6666666666666666,\"#ed7953\"],[0.7777777777777778,\"#fb9f3a\"],[0.8888888888888888,\"#fdca26\"],[1.0,\"#f0f921\"]]}],\"heatmapgl\":[{\"type\":\"heatmapgl\",\"colorbar\":{\"outlinewidth\":0,\"ticks\":\"\"},\"colorscale\":[[0.0,\"#0d0887\"],[0.1111111111111111,\"#46039f\"],[0.2222222222222222,\"#7201a8\"],[0.3333333333333333,\"#9c179e\"],[0.4444444444444444,\"#bd3786\"],[0.5555555555555556,\"#d8576b\"],[0.6666666666666666,\"#ed7953\"],[0.7777777777777778,\"#fb9f3a\"],[0.8888888888888888,\"#fdca26\"],[1.0,\"#f0f921\"]]}],\"contourcarpet\":[{\"type\":\"contourcarpet\",\"colorbar\":{\"outlinewidth\":0,\"ticks\":\"\"}}],\"contour\":[{\"type\":\"contour\",\"colorbar\":{\"outlinewidth\":0,\"ticks\":\"\"},\"colorscale\":[[0.0,\"#0d0887\"],[0.1111111111111111,\"#46039f\"],[0.2222222222222222,\"#7201a8\"],[0.3333333333333333,\"#9c179e\"],[0.4444444444444444,\"#bd3786\"],[0.5555555555555556,\"#d8576b\"],[0.6666666666666666,\"#ed7953\"],[0.7777777777777778,\"#fb9f3a\"],[0.8888888888888888,\"#fdca26\"],[1.0,\"#f0f921\"]]}],\"surface\":[{\"type\":\"surface\",\"colorbar\":{\"outlinewidth\":0,\"ticks\":\"\"},\"colorscale\":[[0.0,\"#0d0887\"],[0.1111111111111111,\"#46039f\"],[0.2222222222222222,\"#7201a8\"],[0.3333333333333333,\"#9c179e\"],[0.4444444444444444,\"#bd3786\"],[0.5555555555555556,\"#d8576b\"],[0.6666666666666666,\"#ed7953\"],[0.7777777777777778,\"#fb9f3a\"],[0.8888888888888888,\"#fdca26\"],[1.0,\"#f0f921\"]]}],\"mesh3d\":[{\"type\":\"mesh3d\",\"colorbar\":{\"outlinewidth\":0,\"ticks\":\"\"}}],\"scatter\":[{\"fillpattern\":{\"fillmode\":\"overlay\",\"size\":10,\"solidity\":0.2},\"type\":\"scatter\"}],\"parcoords\":[{\"type\":\"parcoords\",\"line\":{\"colorbar\":{\"outlinewidth\":0,\"ticks\":\"\"}}}],\"scatterpolargl\":[{\"type\":\"scatterpolargl\",\"marker\":{\"colorbar\":{\"outlinewidth\":0,\"ticks\":\"\"}}}],\"bar\":[{\"error_x\":{\"color\":\"#2a3f5f\"},\"error_y\":{\"color\":\"#2a3f5f\"},\"marker\":{\"line\":{\"color\":\"#E5ECF6\",\"width\":0.5},\"pattern\":{\"fillmode\":\"overlay\",\"size\":10,\"solidity\":0.2}},\"type\":\"bar\"}],\"scattergeo\":[{\"type\":\"scattergeo\",\"marker\":{\"colorbar\":{\"outlinewidth\":0,\"ticks\":\"\"}}}],\"scatterpolar\":[{\"type\":\"scatterpolar\",\"marker\":{\"colorbar\":{\"outlinewidth\":0,\"ticks\":\"\"}}}],\"histogram\":[{\"marker\":{\"pattern\":{\"fillmode\":\"overlay\",\"size\":10,\"solidity\":0.2}},\"type\":\"histogram\"}],\"scattergl\":[{\"type\":\"scattergl\",\"marker\":{\"colorbar\":{\"outlinewidth\":0,\"ticks\":\"\"}}}],\"scatter3d\":[{\"type\":\"scatter3d\",\"line\":{\"colorbar\":{\"outlinewidth\":0,\"ticks\":\"\"}},\"marker\":{\"colorbar\":{\"outlinewidth\":0,\"ticks\":\"\"}}}],\"scattermapbox\":[{\"type\":\"scattermapbox\",\"marker\":{\"colorbar\":{\"outlinewidth\":0,\"ticks\":\"\"}}}],\"scatterternary\":[{\"type\":\"scatterternary\",\"marker\":{\"colorbar\":{\"outlinewidth\":0,\"ticks\":\"\"}}}],\"scattercarpet\":[{\"type\":\"scattercarpet\",\"marker\":{\"colorbar\":{\"outlinewidth\":0,\"ticks\":\"\"}}}],\"carpet\":[{\"aaxis\":{\"endlinecolor\":\"#2a3f5f\",\"gridcolor\":\"white\",\"linecolor\":\"white\",\"minorgridcolor\":\"white\",\"startlinecolor\":\"#2a3f5f\"},\"baxis\":{\"endlinecolor\":\"#2a3f5f\",\"gridcolor\":\"white\",\"linecolor\":\"white\",\"minorgridcolor\":\"white\",\"startlinecolor\":\"#2a3f5f\"},\"type\":\"carpet\"}],\"table\":[{\"cells\":{\"fill\":{\"color\":\"#EBF0F8\"},\"line\":{\"color\":\"white\"}},\"header\":{\"fill\":{\"color\":\"#C8D4E3\"},\"line\":{\"color\":\"white\"}},\"type\":\"table\"}],\"barpolar\":[{\"marker\":{\"line\":{\"color\":\"#E5ECF6\",\"width\":0.5},\"pattern\":{\"fillmode\":\"overlay\",\"size\":10,\"solidity\":0.2}},\"type\":\"barpolar\"}],\"pie\":[{\"automargin\":true,\"type\":\"pie\"}]},\"layout\":{\"autotypenumbers\":\"strict\",\"colorway\":[\"#636efa\",\"#EF553B\",\"#00cc96\",\"#ab63fa\",\"#FFA15A\",\"#19d3f3\",\"#FF6692\",\"#B6E880\",\"#FF97FF\",\"#FECB52\"],\"font\":{\"color\":\"#2a3f5f\"},\"hovermode\":\"closest\",\"hoverlabel\":{\"align\":\"left\"},\"paper_bgcolor\":\"white\",\"plot_bgcolor\":\"#E5ECF6\",\"polar\":{\"bgcolor\":\"#E5ECF6\",\"angularaxis\":{\"gridcolor\":\"white\",\"linecolor\":\"white\",\"ticks\":\"\"},\"radialaxis\":{\"gridcolor\":\"white\",\"linecolor\":\"white\",\"ticks\":\"\"}},\"ternary\":{\"bgcolor\":\"#E5ECF6\",\"aaxis\":{\"gridcolor\":\"white\",\"linecolor\":\"white\",\"ticks\":\"\"},\"baxis\":{\"gridcolor\":\"white\",\"linecolor\":\"white\",\"ticks\":\"\"},\"caxis\":{\"gridcolor\":\"white\",\"linecolor\":\"white\",\"ticks\":\"\"}},\"coloraxis\":{\"colorbar\":{\"outlinewidth\":0,\"ticks\":\"\"}},\"colorscale\":{\"sequential\":[[0.0,\"#0d0887\"],[0.1111111111111111,\"#46039f\"],[0.2222222222222222,\"#7201a8\"],[0.3333333333333333,\"#9c179e\"],[0.4444444444444444,\"#bd3786\"],[0.5555555555555556,\"#d8576b\"],[0.6666666666666666,\"#ed7953\"],[0.7777777777777778,\"#fb9f3a\"],[0.8888888888888888,\"#fdca26\"],[1.0,\"#f0f921\"]],\"sequentialminus\":[[0.0,\"#0d0887\"],[0.1111111111111111,\"#46039f\"],[0.2222222222222222,\"#7201a8\"],[0.3333333333333333,\"#9c179e\"],[0.4444444444444444,\"#bd3786\"],[0.5555555555555556,\"#d8576b\"],[0.6666666666666666,\"#ed7953\"],[0.7777777777777778,\"#fb9f3a\"],[0.8888888888888888,\"#fdca26\"],[1.0,\"#f0f921\"]],\"diverging\":[[0,\"#8e0152\"],[0.1,\"#c51b7d\"],[0.2,\"#de77ae\"],[0.3,\"#f1b6da\"],[0.4,\"#fde0ef\"],[0.5,\"#f7f7f7\"],[0.6,\"#e6f5d0\"],[0.7,\"#b8e186\"],[0.8,\"#7fbc41\"],[0.9,\"#4d9221\"],[1,\"#276419\"]]},\"xaxis\":{\"gridcolor\":\"white\",\"linecolor\":\"white\",\"ticks\":\"\",\"title\":{\"standoff\":15},\"zerolinecolor\":\"white\",\"automargin\":true,\"zerolinewidth\":2},\"yaxis\":{\"gridcolor\":\"white\",\"linecolor\":\"white\",\"ticks\":\"\",\"title\":{\"standoff\":15},\"zerolinecolor\":\"white\",\"automargin\":true,\"zerolinewidth\":2},\"scene\":{\"xaxis\":{\"backgroundcolor\":\"#E5ECF6\",\"gridcolor\":\"white\",\"linecolor\":\"white\",\"showbackground\":true,\"ticks\":\"\",\"zerolinecolor\":\"white\",\"gridwidth\":2},\"yaxis\":{\"backgroundcolor\":\"#E5ECF6\",\"gridcolor\":\"white\",\"linecolor\":\"white\",\"showbackground\":true,\"ticks\":\"\",\"zerolinecolor\":\"white\",\"gridwidth\":2},\"zaxis\":{\"backgroundcolor\":\"#E5ECF6\",\"gridcolor\":\"white\",\"linecolor\":\"white\",\"showbackground\":true,\"ticks\":\"\",\"zerolinecolor\":\"white\",\"gridwidth\":2}},\"shapedefaults\":{\"line\":{\"color\":\"#2a3f5f\"}},\"annotationdefaults\":{\"arrowcolor\":\"#2a3f5f\",\"arrowhead\":0,\"arrowwidth\":1},\"geo\":{\"bgcolor\":\"white\",\"landcolor\":\"#E5ECF6\",\"subunitcolor\":\"white\",\"showland\":true,\"showlakes\":true,\"lakecolor\":\"white\"},\"title\":{\"x\":0.05},\"mapbox\":{\"style\":\"light\"}}},\"scene\":{\"domain\":{\"x\":[0.0,1.0],\"y\":[0.0,1.0]},\"xaxis\":{\"title\":{\"text\":\"0\"}},\"yaxis\":{\"title\":{\"text\":\"1\"}},\"zaxis\":{\"title\":{\"text\":\"2\"}}},\"coloraxis\":{\"colorbar\":{\"title\":{\"text\":\"Anomaly\"}},\"colorscale\":[[0.0,\"#0d0887\"],[0.1111111111111111,\"#46039f\"],[0.2222222222222222,\"#7201a8\"],[0.3333333333333333,\"#9c179e\"],[0.4444444444444444,\"#bd3786\"],[0.5555555555555556,\"#d8576b\"],[0.6666666666666666,\"#ed7953\"],[0.7777777777777778,\"#fb9f3a\"],[0.8888888888888888,\"#fdca26\"],[1.0,\"#f0f921\"]]},\"legend\":{\"tracegroupgap\":0},\"title\":{\"text\":\"3d TSNE Plot for Outliers\"},\"height\":800,\"width\":900},                        {\"responsive\": true}                    ).then(function(){\n",
       "                            \n",
       "var gd = document.getElementById('c779a33b-dc71-46af-962b-2b0f4250f8cc');\n",
       "var x = new MutationObserver(function (mutations, observer) {{\n",
       "        var display = window.getComputedStyle(gd).display;\n",
       "        if (!display || display === 'none') {{\n",
       "            console.log([gd, 'removed!']);\n",
       "            Plotly.purge(gd);\n",
       "            observer.disconnect();\n",
       "        }}\n",
       "}});\n",
       "\n",
       "// Listen for the removal of the full notebook cells\n",
       "var notebookContainer = gd.closest('#notebook-container');\n",
       "if (notebookContainer) {{\n",
       "    x.observe(notebookContainer, {childList: true});\n",
       "}}\n",
       "\n",
       "// Listen for the clearing of the current output cell\n",
       "var outputEl = gd.closest('.output');\n",
       "if (outputEl) {{\n",
       "    x.observe(outputEl, {childList: true});\n",
       "}}\n",
       "\n",
       "                        })                };                });            </script>        </div>"
      ]
     },
     "metadata": {},
     "output_type": "display_data"
    }
   ],
   "source": [
    "plot_model(anomali, plot='tsne')"
   ]
  },
  {
   "cell_type": "code",
   "execution_count": 16,
   "id": "04877224-64b8-4444-aef0-a384e610a00f",
   "metadata": {},
   "outputs": [
    {
     "name": "stdout",
     "output_type": "stream",
     "text": [
      "Transformation Pipeline and Model Successfully Saved\n"
     ]
    },
    {
     "data": {
      "text/plain": [
       "(Pipeline(memory=None,\n",
       "          steps=[('dtypes',\n",
       "                  DataTypes_Auto_infer(categorical_features=[],\n",
       "                                       display_types=True, features_todrop=[],\n",
       "                                       id_columns=[], ml_usecase='regression',\n",
       "                                       numerical_features=[],\n",
       "                                       target='UNSUPERVISED_DUMMY_TARGET',\n",
       "                                       time_features=[])),\n",
       "                 ('imputer',\n",
       "                  Simple_Imputer(categorical_strategy='most frequent',\n",
       "                                 fill_value_categorical=None,\n",
       "                                 fill_value_numerical=None...\n",
       "                 ('fix_perfect', 'passthrough'),\n",
       "                 ('clean_names', Clean_Colum_Names()),\n",
       "                 ('feature_select', 'passthrough'), ('fix_multi', 'passthrough'),\n",
       "                 ('dfs', 'passthrough'), ('pca', 'passthrough'),\n",
       "                 ['trained_model',\n",
       "                  IForest(behaviour='new', bootstrap=False, contamination=0.01,\n",
       "     max_features=1.0, max_samples='auto', n_estimators=100, n_jobs=-1,\n",
       "     random_state=7019, verbose=0)]],\n",
       "          verbose=False),\n",
       " 'abc.pkl')"
      ]
     },
     "execution_count": 16,
     "metadata": {},
     "output_type": "execute_result"
    }
   ],
   "source": [
    "save_model(anomali, model_name = 'abc')"
   ]
  },
  {
   "cell_type": "code",
   "execution_count": 17,
   "id": "2b4422ac-c910-4c26-824d-728830a3e64d",
   "metadata": {},
   "outputs": [
    {
     "name": "stdout",
     "output_type": "stream",
     "text": [
      "Transformation Pipeline and Model Successfully Loaded\n"
     ]
    }
   ],
   "source": [
    "l = load_model('abc')"
   ]
  },
  {
   "cell_type": "code",
   "execution_count": 18,
   "id": "73da5841-5ad3-4c78-84ed-6283175e71b1",
   "metadata": {},
   "outputs": [
    {
     "name": "stdout",
     "output_type": "stream",
     "text": [
      "Transformation Pipeline and Model Successfully Loaded\n"
     ]
    },
    {
     "data": {
      "text/html": [
       "<div>\n",
       "<style scoped>\n",
       "    .dataframe tbody tr th:only-of-type {\n",
       "        vertical-align: middle;\n",
       "    }\n",
       "\n",
       "    .dataframe tbody tr th {\n",
       "        vertical-align: top;\n",
       "    }\n",
       "\n",
       "    .dataframe thead th {\n",
       "        text-align: right;\n",
       "    }\n",
       "</style>\n",
       "<table border=\"1\" class=\"dataframe\">\n",
       "  <thead>\n",
       "    <tr style=\"text-align: right;\">\n",
       "      <th></th>\n",
       "      <th>tds</th>\n",
       "      <th>ec</th>\n",
       "      <th>ph</th>\n",
       "      <th>Anomaly</th>\n",
       "      <th>Anomaly_Score</th>\n",
       "    </tr>\n",
       "  </thead>\n",
       "  <tbody>\n",
       "    <tr>\n",
       "      <th>0</th>\n",
       "      <td>691</td>\n",
       "      <td>5.85</td>\n",
       "      <td>1.4</td>\n",
       "      <td>0</td>\n",
       "      <td>-0.249965</td>\n",
       "    </tr>\n",
       "    <tr>\n",
       "      <th>1</th>\n",
       "      <td>632</td>\n",
       "      <td>5.16</td>\n",
       "      <td>1.6</td>\n",
       "      <td>0</td>\n",
       "      <td>-0.189099</td>\n",
       "    </tr>\n",
       "    <tr>\n",
       "      <th>2</th>\n",
       "      <td>564</td>\n",
       "      <td>5.34</td>\n",
       "      <td>0.6</td>\n",
       "      <td>0</td>\n",
       "      <td>-0.047880</td>\n",
       "    </tr>\n",
       "    <tr>\n",
       "      <th>3</th>\n",
       "      <td>718</td>\n",
       "      <td>5.30</td>\n",
       "      <td>0.5</td>\n",
       "      <td>0</td>\n",
       "      <td>-0.062362</td>\n",
       "    </tr>\n",
       "    <tr>\n",
       "      <th>4</th>\n",
       "      <td>702</td>\n",
       "      <td>5.17</td>\n",
       "      <td>0.9</td>\n",
       "      <td>0</td>\n",
       "      <td>-0.107540</td>\n",
       "    </tr>\n",
       "  </tbody>\n",
       "</table>\n",
       "</div>"
      ],
      "text/plain": [
       "   tds    ec   ph  Anomaly  Anomaly_Score\n",
       "0  691  5.85  1.4        0      -0.249965\n",
       "1  632  5.16  1.6        0      -0.189099\n",
       "2  564  5.34  0.6        0      -0.047880\n",
       "3  718  5.30  0.5        0      -0.062362\n",
       "4  702  5.17  0.9        0      -0.107540"
      ]
     },
     "execution_count": 18,
     "metadata": {},
     "output_type": "execute_result"
    }
   ],
   "source": [
    "from pycaret.anomaly import load_model, predict_model\n",
    "datass = pd.read_csv(r\"C:\\Users\\Wisangg\\JupyterLab\\MOCK_DATA.csv\")\n",
    "l = load_model('abc')\n",
    "p = predict_model(model = l, data = datass)\n",
    "p.head()"
   ]
  },
  {
   "cell_type": "code",
   "execution_count": 19,
   "id": "781ff407-cedf-414d-bcfb-c7066b09624d",
   "metadata": {},
   "outputs": [
    {
     "data": {
      "text/plain": [
       "30"
      ]
     },
     "execution_count": 19,
     "metadata": {},
     "output_type": "execute_result"
    }
   ],
   "source": [
    "p['Anomaly'].sum()"
   ]
  },
  {
   "cell_type": "code",
   "execution_count": 23,
   "id": "ebc99c83-9e9b-4ba2-a379-f93a4d070197",
   "metadata": {},
   "outputs": [
    {
     "data": {
      "text/html": [
       "<div>\n",
       "<style scoped>\n",
       "    .dataframe tbody tr th:only-of-type {\n",
       "        vertical-align: middle;\n",
       "    }\n",
       "\n",
       "    .dataframe tbody tr th {\n",
       "        vertical-align: top;\n",
       "    }\n",
       "\n",
       "    .dataframe thead th {\n",
       "        text-align: right;\n",
       "    }\n",
       "</style>\n",
       "<table border=\"1\" class=\"dataframe\">\n",
       "  <thead>\n",
       "    <tr style=\"text-align: right;\">\n",
       "      <th></th>\n",
       "      <th>tds</th>\n",
       "      <th>ec</th>\n",
       "      <th>ph</th>\n",
       "      <th>Anomaly</th>\n",
       "      <th>Anomaly_Score</th>\n",
       "    </tr>\n",
       "  </thead>\n",
       "  <tbody>\n",
       "    <tr>\n",
       "      <th>0</th>\n",
       "      <td>691</td>\n",
       "      <td>5.85</td>\n",
       "      <td>1.4</td>\n",
       "      <td>0</td>\n",
       "      <td>-0.249965</td>\n",
       "    </tr>\n",
       "    <tr>\n",
       "      <th>1</th>\n",
       "      <td>632</td>\n",
       "      <td>5.16</td>\n",
       "      <td>1.6</td>\n",
       "      <td>0</td>\n",
       "      <td>-0.189099</td>\n",
       "    </tr>\n",
       "    <tr>\n",
       "      <th>2</th>\n",
       "      <td>564</td>\n",
       "      <td>5.34</td>\n",
       "      <td>0.6</td>\n",
       "      <td>0</td>\n",
       "      <td>-0.047880</td>\n",
       "    </tr>\n",
       "    <tr>\n",
       "      <th>3</th>\n",
       "      <td>718</td>\n",
       "      <td>5.30</td>\n",
       "      <td>0.5</td>\n",
       "      <td>0</td>\n",
       "      <td>-0.062362</td>\n",
       "    </tr>\n",
       "    <tr>\n",
       "      <th>4</th>\n",
       "      <td>702</td>\n",
       "      <td>5.17</td>\n",
       "      <td>0.9</td>\n",
       "      <td>0</td>\n",
       "      <td>-0.107540</td>\n",
       "    </tr>\n",
       "    <tr>\n",
       "      <th>...</th>\n",
       "      <td>...</td>\n",
       "      <td>...</td>\n",
       "      <td>...</td>\n",
       "      <td>...</td>\n",
       "      <td>...</td>\n",
       "    </tr>\n",
       "    <tr>\n",
       "      <th>995</th>\n",
       "      <td>831</td>\n",
       "      <td>5.73</td>\n",
       "      <td>0.5</td>\n",
       "      <td>0</td>\n",
       "      <td>-0.070627</td>\n",
       "    </tr>\n",
       "    <tr>\n",
       "      <th>996</th>\n",
       "      <td>785</td>\n",
       "      <td>5.30</td>\n",
       "      <td>0.9</td>\n",
       "      <td>0</td>\n",
       "      <td>-0.099236</td>\n",
       "    </tr>\n",
       "    <tr>\n",
       "      <th>997</th>\n",
       "      <td>694</td>\n",
       "      <td>5.21</td>\n",
       "      <td>0.5</td>\n",
       "      <td>0</td>\n",
       "      <td>-0.056493</td>\n",
       "    </tr>\n",
       "    <tr>\n",
       "      <th>998</th>\n",
       "      <td>588</td>\n",
       "      <td>5.02</td>\n",
       "      <td>0.2</td>\n",
       "      <td>0</td>\n",
       "      <td>-0.007981</td>\n",
       "    </tr>\n",
       "    <tr>\n",
       "      <th>999</th>\n",
       "      <td>889</td>\n",
       "      <td>5.42</td>\n",
       "      <td>0.8</td>\n",
       "      <td>0</td>\n",
       "      <td>-0.053526</td>\n",
       "    </tr>\n",
       "  </tbody>\n",
       "</table>\n",
       "<p>1000 rows × 5 columns</p>\n",
       "</div>"
      ],
      "text/plain": [
       "     tds    ec   ph  Anomaly  Anomaly_Score\n",
       "0    691  5.85  1.4        0      -0.249965\n",
       "1    632  5.16  1.6        0      -0.189099\n",
       "2    564  5.34  0.6        0      -0.047880\n",
       "3    718  5.30  0.5        0      -0.062362\n",
       "4    702  5.17  0.9        0      -0.107540\n",
       "..   ...   ...  ...      ...            ...\n",
       "995  831  5.73  0.5        0      -0.070627\n",
       "996  785  5.30  0.9        0      -0.099236\n",
       "997  694  5.21  0.5        0      -0.056493\n",
       "998  588  5.02  0.2        0      -0.007981\n",
       "999  889  5.42  0.8        0      -0.053526\n",
       "\n",
       "[1000 rows x 5 columns]"
      ]
     },
     "execution_count": 23,
     "metadata": {},
     "output_type": "execute_result"
    }
   ],
   "source": [
    "p"
   ]
  },
  {
   "cell_type": "code",
   "execution_count": 27,
   "id": "48c96c07-1cd1-4b60-9d54-1d7709700875",
   "metadata": {},
   "outputs": [
    {
     "name": "stdout",
     "output_type": "stream",
     "text": [
      "     tds    ec   ph  Anomaly  Anomaly_Score\n",
      "0    691  5.85  1.4        0      -0.249965\n",
      "1    632  5.16  1.6        0      -0.189099\n",
      "2    564  5.34  0.6        0      -0.047880\n",
      "3    718  5.30  0.5        0      -0.062362\n",
      "4    702  5.17  0.9        0      -0.107540\n",
      "..   ...   ...  ...      ...            ...\n",
      "995  831  5.73  0.5        0      -0.070627\n",
      "996  785  5.30  0.9        0      -0.099236\n",
      "997  694  5.21  0.5        0      -0.056493\n",
      "998  588  5.02  0.2        0      -0.007981\n",
      "999  889  5.42  0.8        0      -0.053526\n",
      "\n",
      "[1000 rows x 5 columns]\n"
     ]
    }
   ],
   "source": [
    "df = pd.DataFrame(p, columns=['tds', 'ec', 'ph', 'Anomaly', 'Anomaly_Score'])\n",
    "df.to_csv (r\"C:\\Users\\Wisangg\\JupyterLab\\hasil.csv\", index = True, header=True)\n",
    "print(df)"
   ]
  },
  {
   "cell_type": "code",
   "execution_count": null,
   "id": "a27f4c58-28a1-4e3f-a548-2176317e4146",
   "metadata": {},
   "outputs": [],
   "source": []
  }
 ],
 "metadata": {
  "kernelspec": {
   "display_name": "Python 3 (ipykernel)",
   "language": "python",
   "name": "python3"
  },
  "language_info": {
   "codemirror_mode": {
    "name": "ipython",
    "version": 3
   },
   "file_extension": ".py",
   "mimetype": "text/x-python",
   "name": "python",
   "nbconvert_exporter": "python",
   "pygments_lexer": "ipython3",
   "version": "3.8.10"
  }
 },
 "nbformat": 4,
 "nbformat_minor": 5
}
